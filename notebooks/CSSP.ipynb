{
  "nbformat": 4,
  "nbformat_minor": 0,
  "metadata": {
    "colab": {
      "provenance": []
    },
    "kernelspec": {
      "name": "python3",
      "display_name": "Python 3"
    },
    "language_info": {
      "name": "python"
    }
  },
  "cells": [
    {
      "cell_type": "code",
      "source": [
        "$X - Y$"
      ],
      "metadata": {
        "colab": {
          "base_uri": "https://localhost:8080/",
          "height": 134
        },
        "id": "sYxohDy9Ilpc",
        "outputId": "27ebb079-317a-4923-ac8c-1bc7e5bdb534"
      },
      "execution_count": 18,
      "outputs": [
        {
          "output_type": "error",
          "ename": "SyntaxError",
          "evalue": "ignored",
          "traceback": [
            "\u001b[0;36m  File \u001b[0;32m\"<ipython-input-18-589e0582d1c2>\"\u001b[0;36m, line \u001b[0;32m1\u001b[0m\n\u001b[0;31m    $X - Y$\u001b[0m\n\u001b[0m    ^\u001b[0m\n\u001b[0;31mSyntaxError\u001b[0m\u001b[0;31m:\u001b[0m invalid syntax\n"
          ]
        }
      ]
    },
    {
      "cell_type": "markdown",
      "source": [
        "$(\\sum (E_i)^2)^{1/2}$\n",
        "\n",
        "$\\sum |E_i|$"
      ],
      "metadata": {
        "id": "IqKw1y8wIvJk"
      }
    },
    {
      "cell_type": "markdown",
      "source": [
        "# Column Subset Selection Problem\n",
        "\n",
        "##Intro\n",
        "\n",
        "### Linear regression\n",
        "\n",
        "$X, Y \\in \t\\mathbb{R}^m$\n",
        "\n",
        "$ \\widetilde Y  = kX + b : k,b = argmin_{k,b} || Y - \\widetilde Y  || _2$\n",
        "\n",
        "### Centration\n",
        "\n",
        "If $ \\overline X = 0$ and $ \\overline Y = 0$, then $b = 0$, then $ \\widetilde Y  = kX  $\n",
        "\n",
        "Generally: \n",
        "\n",
        "$\\widetilde Y - \\overline Y = k(X - \\overline X) $\n",
        "\n",
        "$\\widetilde Y  = k X - k\\overline X + \\overline Y$\n",
        "\n",
        "$b = \\overline Y -  k\\overline X$\n",
        "\n",
        "## Multivariate case\n",
        "\n",
        "$X \\in \t\\mathbb{R}^{m \\times n}, Y \\in \t\\mathbb{R}^{m \\times k}$\n",
        "\n",
        "$ \\widetilde Y  =  X K: K \\in \t\\mathbb{R}^{n \\times k}, K=argmin_{K} || Y - \\widetilde Y  || _F$\n",
        "\n",
        "![image.png](data:image/png;base64,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)\n",
        "\n",
        "\n",
        "$K = X^{+}Y$, where $X^{+}$ - is Moore-Penrose pseudoinverse, `np.linalg.pinv()`\n",
        "\n",
        "\n",
        "\n"
      ],
      "metadata": {
        "id": "oJ8ljJ1hni-b"
      }
    },
    {
      "cell_type": "markdown",
      "source": [
        "## Column Subset Selection Problem\n",
        "\n",
        "Let $ A \\in \\mathbb{R}^{m \\times n}$, $r < n$\n",
        "\n",
        "> Find subset of $r$ columns of A ($X \\in \\mathbb{R}^{m \\times r}$) such that the rest $n-r$ columns ($Y \\in \\mathbb{R}^{m \\times (n-r)}$) could be linearly approximated with the smallest error [in the sense of Frobenius norm _aka_ least squares].\n",
        "\n",
        "There are $\\frac{n!} {r! (n-r)!}$ ways to select $r$ columns out of $n$.\n",
        "\n",
        "## Rank-revealing QR decomposition (RRQR)\n",
        "\n",
        "### QR decomposition\n",
        "\n",
        "$A = QR$\n",
        "\n",
        "![image.png](data:image/png;base64,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)\n"
      ],
      "metadata": {
        "id": "zFTZouDH3V_Z"
      }
    },
    {
      "cell_type": "markdown",
      "source": [
        "## RRQR\n",
        "\n",
        "$PA = QR$\n",
        "\n",
        "![image.png](data:image/png;base64,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)"
      ],
      "metadata": {
        "id": "WlY87FmK_Rv6"
      }
    },
    {
      "cell_type": "markdown",
      "source": [
        "## RRQR for CSSP\n",
        "\n",
        "First $r$ columns of $PA$ are the best candidates for solution of CSSP.\n",
        "\n",
        "# RRQR in LAPACK, LAPACK in SciPY\n",
        "\n",
        "[DGEQP3](https://netlib.org/lapack/explore-html/dd/d9a/group__double_g_ecomputational_ga1b0500f49e03d2771b797c6e88adabbb.html)\n",
        "\n",
        "[scipy.linalg.lapack.dgeqp3](https://docs.scipy.org/doc/scipy/reference/generated/scipy.linalg.lapack.dgeqp3.html)\n",
        "\n",
        "## General algorithm\n",
        "\n",
        "1. Find $P$ for $PA=QR$ via `DGEQP3`\n",
        "2. Set $X = (PA)_{:,:r}$, $Y = (PA)_{:,r:}$\n",
        "3. Find $K = X^+Y$ via `np.linalg.pinv`\n",
        "4. Find centration correction $k_0$\n",
        "\n",
        "\n",
        "\n"
      ],
      "metadata": {
        "id": "xCZ-nVkHAEW1"
      }
    },
    {
      "cell_type": "code",
      "source": [],
      "metadata": {
        "id": "7rl_B2R13VLM"
      },
      "execution_count": null,
      "outputs": []
    },
    {
      "cell_type": "code",
      "execution_count": 2,
      "metadata": {
        "id": "iJhHfLfyIl8X"
      },
      "outputs": [],
      "source": [
        "import numpy as np\n",
        "from scipy.linalg.lapack import dgeqp3\n"
      ]
    },
    {
      "cell_type": "code",
      "source": [
        "def cssp(A, r):\n",
        "  _, P, _, _, info = dgeqp3(A)\n",
        "  assert info==0\n",
        "  P -= 1 # 1-based index from dgeqp3\n",
        "  K = np.linalg.pinv(A[:, P[:r]]) @ A[:, P[r:]]\n",
        "  return P, K\n",
        "\n",
        "def cssp_fit(A, r):\n",
        "  b = np.mean(A, axis=0)\n",
        "  P, K = cssp(A-b[None, :], r)\n",
        "  k0 = b[P[r:]] - b[P[:r]] @ K\n",
        "  return P, K, k0\n"
      ],
      "metadata": {
        "id": "hoAAn5sDYIvW"
      },
      "execution_count": 3,
      "outputs": []
    },
    {
      "cell_type": "markdown",
      "source": [
        "# $Pd / CO_2$ "
      ],
      "metadata": {
        "id": "DHaP_gRNXSSE"
      }
    },
    {
      "cell_type": "code",
      "source": [],
      "metadata": {
        "id": "wVHvvQyPXRvn"
      },
      "execution_count": null,
      "outputs": []
    },
    {
      "cell_type": "code",
      "source": [
        "import pandas as pd\n",
        "df = pd.read_csv(\"Pd_CO2.csv\", delimiter=\",\", encoding=\"ISO-8859-1\", index_col=0)\n",
        "df"
      ],
      "metadata": {
        "colab": {
          "base_uri": "https://localhost:8080/",
          "height": 236
        },
        "id": "7bDyuT0dS9Lw",
        "outputId": "f63a222c-a9c1-411e-9a01-3f532da09221"
      },
      "execution_count": 5,
      "outputs": [
        {
          "output_type": "execute_result",
          "data": {
            "text/plain": [
              "          Eads of CO2 /eV  Eads of CO2- /eV  Eads of HCOO /eV  \\\n",
              "Surface                                                         \n",
              "Pd (100)        -0.183608         -0.127312         -2.732308   \n",
              "Pd (110)        -0.162321         -0.227370         -2.903095   \n",
              "Pd (111)        -0.208814          0.056009         -2.654076   \n",
              "\n",
              "          Eads of HCOOH /eV  Eads of H2COOH /eV  Eads of CH2O /eV  \\\n",
              "Surface                                                             \n",
              "Pd (100)          -0.670896           -2.347647         -0.926390   \n",
              "Pd (110)          -0.538165           -2.404782         -1.048041   \n",
              "Pd (111)          -0.671991           -2.109862         -0.752050   \n",
              "\n",
              "          Eads of CH3O /eV  Eads of CH3OH /eV  Surface energy /Jm^-2  \n",
              "Surface                                                               \n",
              "Pd (100)         -2.353089          -0.573661                   1.91  \n",
              "Pd (110)         -2.173203          -0.712622                   1.99  \n",
              "Pd (111)         -2.126275          -0.577560                   1.72  "
            ],
            "text/html": [
              "\n",
              "  <div id=\"df-fd6d1640-cda2-4482-a961-1f6510e50963\">\n",
              "    <div class=\"colab-df-container\">\n",
              "      <div>\n",
              "<style scoped>\n",
              "    .dataframe tbody tr th:only-of-type {\n",
              "        vertical-align: middle;\n",
              "    }\n",
              "\n",
              "    .dataframe tbody tr th {\n",
              "        vertical-align: top;\n",
              "    }\n",
              "\n",
              "    .dataframe thead th {\n",
              "        text-align: right;\n",
              "    }\n",
              "</style>\n",
              "<table border=\"1\" class=\"dataframe\">\n",
              "  <thead>\n",
              "    <tr style=\"text-align: right;\">\n",
              "      <th></th>\n",
              "      <th>Eads of CO2 /eV</th>\n",
              "      <th>Eads of CO2- /eV</th>\n",
              "      <th>Eads of HCOO /eV</th>\n",
              "      <th>Eads of HCOOH /eV</th>\n",
              "      <th>Eads of H2COOH /eV</th>\n",
              "      <th>Eads of CH2O /eV</th>\n",
              "      <th>Eads of CH3O /eV</th>\n",
              "      <th>Eads of CH3OH /eV</th>\n",
              "      <th>Surface energy /Jm^-2</th>\n",
              "    </tr>\n",
              "    <tr>\n",
              "      <th>Surface</th>\n",
              "      <th></th>\n",
              "      <th></th>\n",
              "      <th></th>\n",
              "      <th></th>\n",
              "      <th></th>\n",
              "      <th></th>\n",
              "      <th></th>\n",
              "      <th></th>\n",
              "      <th></th>\n",
              "    </tr>\n",
              "  </thead>\n",
              "  <tbody>\n",
              "    <tr>\n",
              "      <th>Pd (100)</th>\n",
              "      <td>-0.183608</td>\n",
              "      <td>-0.127312</td>\n",
              "      <td>-2.732308</td>\n",
              "      <td>-0.670896</td>\n",
              "      <td>-2.347647</td>\n",
              "      <td>-0.926390</td>\n",
              "      <td>-2.353089</td>\n",
              "      <td>-0.573661</td>\n",
              "      <td>1.91</td>\n",
              "    </tr>\n",
              "    <tr>\n",
              "      <th>Pd (110)</th>\n",
              "      <td>-0.162321</td>\n",
              "      <td>-0.227370</td>\n",
              "      <td>-2.903095</td>\n",
              "      <td>-0.538165</td>\n",
              "      <td>-2.404782</td>\n",
              "      <td>-1.048041</td>\n",
              "      <td>-2.173203</td>\n",
              "      <td>-0.712622</td>\n",
              "      <td>1.99</td>\n",
              "    </tr>\n",
              "    <tr>\n",
              "      <th>Pd (111)</th>\n",
              "      <td>-0.208814</td>\n",
              "      <td>0.056009</td>\n",
              "      <td>-2.654076</td>\n",
              "      <td>-0.671991</td>\n",
              "      <td>-2.109862</td>\n",
              "      <td>-0.752050</td>\n",
              "      <td>-2.126275</td>\n",
              "      <td>-0.577560</td>\n",
              "      <td>1.72</td>\n",
              "    </tr>\n",
              "  </tbody>\n",
              "</table>\n",
              "</div>\n",
              "      <button class=\"colab-df-convert\" onclick=\"convertToInteractive('df-fd6d1640-cda2-4482-a961-1f6510e50963')\"\n",
              "              title=\"Convert this dataframe to an interactive table.\"\n",
              "              style=\"display:none;\">\n",
              "        \n",
              "  <svg xmlns=\"http://www.w3.org/2000/svg\" height=\"24px\"viewBox=\"0 0 24 24\"\n",
              "       width=\"24px\">\n",
              "    <path d=\"M0 0h24v24H0V0z\" fill=\"none\"/>\n",
              "    <path d=\"M18.56 5.44l.94 2.06.94-2.06 2.06-.94-2.06-.94-.94-2.06-.94 2.06-2.06.94zm-11 1L8.5 8.5l.94-2.06 2.06-.94-2.06-.94L8.5 2.5l-.94 2.06-2.06.94zm10 10l.94 2.06.94-2.06 2.06-.94-2.06-.94-.94-2.06-.94 2.06-2.06.94z\"/><path d=\"M17.41 7.96l-1.37-1.37c-.4-.4-.92-.59-1.43-.59-.52 0-1.04.2-1.43.59L10.3 9.45l-7.72 7.72c-.78.78-.78 2.05 0 2.83L4 21.41c.39.39.9.59 1.41.59.51 0 1.02-.2 1.41-.59l7.78-7.78 2.81-2.81c.8-.78.8-2.07 0-2.86zM5.41 20L4 18.59l7.72-7.72 1.47 1.35L5.41 20z\"/>\n",
              "  </svg>\n",
              "      </button>\n",
              "      \n",
              "  <style>\n",
              "    .colab-df-container {\n",
              "      display:flex;\n",
              "      flex-wrap:wrap;\n",
              "      gap: 12px;\n",
              "    }\n",
              "\n",
              "    .colab-df-convert {\n",
              "      background-color: #E8F0FE;\n",
              "      border: none;\n",
              "      border-radius: 50%;\n",
              "      cursor: pointer;\n",
              "      display: none;\n",
              "      fill: #1967D2;\n",
              "      height: 32px;\n",
              "      padding: 0 0 0 0;\n",
              "      width: 32px;\n",
              "    }\n",
              "\n",
              "    .colab-df-convert:hover {\n",
              "      background-color: #E2EBFA;\n",
              "      box-shadow: 0px 1px 2px rgba(60, 64, 67, 0.3), 0px 1px 3px 1px rgba(60, 64, 67, 0.15);\n",
              "      fill: #174EA6;\n",
              "    }\n",
              "\n",
              "    [theme=dark] .colab-df-convert {\n",
              "      background-color: #3B4455;\n",
              "      fill: #D2E3FC;\n",
              "    }\n",
              "\n",
              "    [theme=dark] .colab-df-convert:hover {\n",
              "      background-color: #434B5C;\n",
              "      box-shadow: 0px 1px 3px 1px rgba(0, 0, 0, 0.15);\n",
              "      filter: drop-shadow(0px 1px 2px rgba(0, 0, 0, 0.3));\n",
              "      fill: #FFFFFF;\n",
              "    }\n",
              "  </style>\n",
              "\n",
              "      <script>\n",
              "        const buttonEl =\n",
              "          document.querySelector('#df-fd6d1640-cda2-4482-a961-1f6510e50963 button.colab-df-convert');\n",
              "        buttonEl.style.display =\n",
              "          google.colab.kernel.accessAllowed ? 'block' : 'none';\n",
              "\n",
              "        async function convertToInteractive(key) {\n",
              "          const element = document.querySelector('#df-fd6d1640-cda2-4482-a961-1f6510e50963');\n",
              "          const dataTable =\n",
              "            await google.colab.kernel.invokeFunction('convertToInteractive',\n",
              "                                                     [key], {});\n",
              "          if (!dataTable) return;\n",
              "\n",
              "          const docLinkHtml = 'Like what you see? Visit the ' +\n",
              "            '<a target=\"_blank\" href=https://colab.research.google.com/notebooks/data_table.ipynb>data table notebook</a>'\n",
              "            + ' to learn more about interactive tables.';\n",
              "          element.innerHTML = '';\n",
              "          dataTable['output_type'] = 'display_data';\n",
              "          await google.colab.output.renderOutput(dataTable, element);\n",
              "          const docLink = document.createElement('div');\n",
              "          docLink.innerHTML = docLinkHtml;\n",
              "          element.appendChild(docLink);\n",
              "        }\n",
              "      </script>\n",
              "    </div>\n",
              "  </div>\n",
              "  "
            ]
          },
          "metadata": {},
          "execution_count": 5
        }
      ]
    },
    {
      "cell_type": "code",
      "source": [
        "A = df.to_numpy()\n",
        "r = 1\n",
        "P, K, k0 = cssp_fit(A, r)\n",
        "\n",
        "print (\"X columns: \", \"\\n    \".join(df.columns.values[P[:r]]))\n",
        "print (\"Y columns: \", df.columns.values[P[r:]])\n",
        "# Errors check\n",
        "X = A[:, P[:r]]\n",
        "Y = A[:, P[r:]]\n",
        "Ypred = X @ K + k0[None, :]\n",
        "errs = np.linalg.norm( Ypred - Y, axis=0)\n",
        "print (\"Errors:\", errs)"
      ],
      "metadata": {
        "colab": {
          "base_uri": "https://localhost:8080/"
        },
        "id": "m-0oiTJpUYWz",
        "outputId": "45bbdfa0-bd65-49fb-8ef2-a3ff14ca95c6"
      },
      "execution_count": 19,
      "outputs": [
        {
          "output_type": "stream",
          "name": "stdout",
          "text": [
            "X columns:  Eads of H2COOH /eV\n",
            "Y columns:  ['Eads of CH3O /eV' 'Eads of CH2O /eV' 'Eads of HCOOH /eV'\n",
            " 'Eads of CO2 /eV' 'Eads of HCOO /eV' 'Eads of CO2- /eV'\n",
            " 'Eads of CH3OH /eV' 'Surface energy /Jm^-2']\n",
            "Errors: [0.14547039 0.04950351 0.08221623 0.00945288 0.0943319  0.03476234\n",
            " 0.08682773 0.02131738]\n"
          ]
        }
      ]
    },
    {
      "cell_type": "code",
      "source": [
        "P"
      ],
      "metadata": {
        "colab": {
          "base_uri": "https://localhost:8080/"
        },
        "id": "n1-Nte0YOJ3y",
        "outputId": "88e30146-562b-457c-abe2-f38514b12db9"
      },
      "execution_count": 20,
      "outputs": [
        {
          "output_type": "execute_result",
          "data": {
            "text/plain": [
              "array([4, 6, 5, 3, 0, 2, 1, 7, 8], dtype=int32)"
            ]
          },
          "metadata": {},
          "execution_count": 20
        }
      ]
    },
    {
      "cell_type": "code",
      "source": [],
      "metadata": {
        "id": "eRXFQW_WUvUD"
      },
      "execution_count": null,
      "outputs": []
    },
    {
      "cell_type": "markdown",
      "source": [
        "\n",
        "\n",
        "---\n",
        "\n",
        "\n",
        "\n",
        "---\n",
        "\n"
      ],
      "metadata": {
        "id": "9j1mfcbLUter"
      }
    },
    {
      "cell_type": "code",
      "source": [
        "m = 5\n",
        "n = 6\n",
        "\n",
        "A = np.random.random((m, n))\n",
        "print (A)"
      ],
      "metadata": {
        "colab": {
          "base_uri": "https://localhost:8080/"
        },
        "id": "yeJpJ3eROg3Y",
        "outputId": "6c50e0c8-8753-4518-d281-b03fb7424e7a"
      },
      "execution_count": 21,
      "outputs": [
        {
          "output_type": "stream",
          "name": "stdout",
          "text": [
            "[[0.64637488 0.55015753 0.07960487 0.66521376 0.98643871 0.17178341]\n",
            " [0.38467939 0.35156213 0.31304163 0.23683026 0.16882614 0.69919758]\n",
            " [0.92102435 0.29961283 0.60102792 0.2309873  0.47545249 0.56008627]\n",
            " [0.49274267 0.00753099 0.43954437 0.79391668 0.9115336  0.16339569]\n",
            " [0.6278973  0.23967104 0.34726527 0.22529622 0.12225918 0.47901724]]\n"
          ]
        }
      ]
    },
    {
      "cell_type": "code",
      "source": [
        "r = 3\n",
        "\n",
        "P, K, k0 = cssp_fit(A, r)\n",
        "print (P)\n",
        "print (K)\n",
        "print (k0)\n"
      ],
      "metadata": {
        "colab": {
          "base_uri": "https://localhost:8080/"
        },
        "id": "9nyHGDY2V-T0",
        "outputId": "3441ee40-8cb0-43aa-dca9-e4beb95e4c54"
      },
      "execution_count": 29,
      "outputs": [
        {
          "output_type": "stream",
          "name": "stdout",
          "text": [
            "[4 0 1 5 3 2]\n",
            "[[-0.53165421  0.64940414 -0.15099474]\n",
            " [ 0.08072209 -0.41355694  0.56869772]\n",
            " [ 0.16651412 -0.24719297 -0.72492662]]\n",
            "[0.6001681  0.41014239 0.29708885]\n"
          ]
        }
      ]
    },
    {
      "cell_type": "code",
      "source": [
        "X = A[:, P[:r]]\n",
        "Y = A[:, P[r:]]\n",
        "np.linalg.norm( (X @ K + k0[None, :]) - Y, axis=0)"
      ],
      "metadata": {
        "colab": {
          "base_uri": "https://localhost:8080/"
        },
        "id": "0-_sbS2YZw5_",
        "outputId": "28e9551e-effa-4d7c-d0b3-49aeb7d37135"
      },
      "execution_count": 30,
      "outputs": [
        {
          "output_type": "execute_result",
          "data": {
            "text/plain": [
              "array([0.20377117, 0.07592137, 0.15927726])"
            ]
          },
          "metadata": {},
          "execution_count": 30
        }
      ]
    },
    {
      "cell_type": "code",
      "source": [
        "%matplotlib inline\n",
        "import  matplotlib.pylab  as plt"
      ],
      "metadata": {
        "id": "3m1ZH8vtaKUn"
      },
      "execution_count": 31,
      "outputs": []
    },
    {
      "cell_type": "code",
      "source": [
        "for i in range(n-r):\n",
        "  plt.scatter( (X @ K  + k0[None, :] )[:, i], Y[:, i])\n",
        "plt.show()"
      ],
      "metadata": {
        "colab": {
          "base_uri": "https://localhost:8080/",
          "height": 430
        },
        "id": "O108lcC_aiQI",
        "outputId": "39fe3f9b-760c-4919-c922-20e361e17aa0"
      },
      "execution_count": 32,
      "outputs": [
        {
          "output_type": "display_data",
          "data": {
            "text/plain": [
              "<Figure size 640x480 with 1 Axes>"
            ],
            "image/png": "[encoded data removed]"
          },
          "metadata": {}
        }
      ]
    },
    {
      "cell_type": "code",
      "source": [],
      "metadata": {
        "id": "eMMMdazPaszw"
      },
      "execution_count": null,
      "outputs": []
    }
  ]
}