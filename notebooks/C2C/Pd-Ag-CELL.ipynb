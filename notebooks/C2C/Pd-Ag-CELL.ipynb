{
 "cells": [
  {
   "cell_type": "code",
   "execution_count": 1,
   "metadata": {},
   "outputs": [
    {
     "data": {
      "application/vnd.jupyter.widget-view+json": {
       "model_id": "d2ce6e07811d400bbb323967ef28ef9d",
       "version_major": 2,
       "version_minor": 0
      },
      "text/plain": []
     },
     "metadata": {},
     "output_type": "display_data"
    },
    {
     "data": {
      "application/vnd.jupyter.widget-view+json": {
       "model_id": "aae19c1299b9421c80dab2d4887dee7d",
       "version_major": 2,
       "version_minor": 0
      },
      "text/plain": [
       "NGLWidget()"
      ]
     },
     "metadata": {},
     "output_type": "display_data"
    }
   ],
   "source": [
    "# in this tutorial, we will build a PdZn binary alloys with random composition using CELL software, to do so differents steps are needed:\n",
    "# I have added some questions for the training at the end\n",
    "\n",
    "#step 1 is to build a parent cell which will be composed from the primitive cell here Pd and the substitute here Zn\n",
    "\n",
    "%matplotlib inline \n",
    "from ase.build import fcc111, add_adsorbate # ASE's utilities to build the surface\n",
    "from clusterx.parent_lattice import ParentLattice \n",
    "from clusterx.structures_set import StructuresSet\n",
    "from clusterx.visualization import juview\n",
    "from clusterx.super_cell import SuperCell\n",
    "from ase import Atoms\n",
    "from ase.build import surface\n",
    "from random import randint\n",
    "import numpy as np\n",
    "np.random.seed(10)\n",
    "\n",
    "from ase.build import molecule\n",
    "\n",
    "# define primitive cell and supercell shape\n",
    "scell_x, scell_y = 3, 3\n",
    "layer_height = 4\n",
    "\n",
    "'''\n",
    "a = 2.889\n",
    "c = 3.329\n",
    "\n",
    "\n",
    "Alloy= Atoms('PdCu', scaled_positions=[(0, 0, 0),\n",
    "                                (0.5, 0.5, 0),\n",
    "                                ],\n",
    "              cell=[a, a, c],\n",
    "              pbc=True)\n",
    "\n",
    "pri = surface(Alloy, (1, 1, 1), layer_height)\n",
    "pri.center(vacuum=10, axis=2)\n",
    "'''\n",
    "pri = fcc111(\"Pd\", (1,1,layer_height), a=3.939, vacuum=10)\n",
    "\n",
    "juview(pri)"
   ]
  },
  {
   "cell_type": "code",
   "execution_count": 2,
   "metadata": {
    "scrolled": true
   },
   "outputs": [
    {
     "name": "stdout",
     "output_type": "stream",
     "text": [
      "Atom index         |Chemical symbol    |z coordinate       \n",
      "0                  |Pd                 |10.000             \n",
      "1                  |Pd                 |12.274             \n",
      "2                  |Pd                 |14.548             \n",
      "3                  |Pd                 |16.823             \n"
     ]
    }
   ],
   "source": [
    "# before we start the subtitution it is recommended to know the index of the atoms\n",
    "symbols = pri.get_chemical_symbols() # Get Chemical symbols of slab\n",
    "z_coords = pri.get_positions()[:,2] # Get z-coordinate of atomic positions in slab\n",
    "\n",
    "print(\"{0:<19s}|{1:<19s}|{2:<19s}\".format(\"Atom index\",\"Chemical symbol\",\"z coordinate\")) # Print headers\n",
    "for i, (symbol, z_coord) in enumerate(zip(symbols,z_coords)):\n",
    "    print(\"{0:<19d}|{1:<19s}|{2:<19.3f}\".format(i,symbol,z_coord)) # Print atom indexes, symbols and z_coordinat"
   ]
  },
  {
   "cell_type": "code",
   "execution_count": 3,
   "metadata": {
    "scrolled": false
   },
   "outputs": [
    {
     "name": "stdout",
     "output_type": "stream",
     "text": [
      "[['Pd', 'Au'], ['Pd', 'Au'], ['Pd', 'Au'], ['Pd', 'Au']]\n"
     ]
    },
    {
     "data": {
      "application/vnd.jupyter.widget-view+json": {
       "model_id": "ca6c89bc3d264a60a883a1df077e8a12",
       "version_major": 2,
       "version_minor": 0
      },
      "text/plain": [
       "VBox(children=(HBox(children=(NGLWidget(), NGLWidget())),))"
      ]
     },
     "metadata": {},
     "output_type": "display_data"
    }
   ],
   "source": [
    "# now we are asking that Zn could substitute all the 7 atoms of Pd that we have created above\n",
    "list_of_elements = [[\"Pd\", \"Au\"]] * len(pri)\n",
    "print(list_of_elements)\n",
    "platt = ParentLattice(pri, symbols= list_of_elements)\n",
    "juview(platt)"
   ]
  },
  {
   "cell_type": "code",
   "execution_count": 4,
   "metadata": {},
   "outputs": [
    {
     "name": "stdout",
     "output_type": "stream",
     "text": [
      "\n",
      "+--------------------------------------------------------------------+\n",
      "|              The structure consists of 1 sublattices               |\n",
      "+--------------------------------------------------------------------+\n",
      "| Sublattice type |       Chemical symbols       |  Atomic numbers   |\n",
      "+--------------------------------------------------------------------+\n",
      "|        0        |         ['Pd' 'Au']          |      [46 79]      |\n",
      "+--------------------------------------------------------------------+\n",
      "\n"
     ]
    }
   ],
   "source": [
    "platt.get_sublattice_types(pretty_print=True)"
   ]
  },
  {
   "cell_type": "code",
   "execution_count": 5,
   "metadata": {},
   "outputs": [],
   "source": [
    "# from above we can see that we have only one sublattice"
   ]
  },
  {
   "cell_type": "code",
   "execution_count": 20,
   "metadata": {},
   "outputs": [
    {
     "name": "stdout",
     "output_type": "stream",
     "text": [
      "\n",
      "+--------------------------------------------------------------------+\n",
      "|              The structure consists of 1 sublattices               |\n",
      "+--------------------------------------------------------------------+\n",
      "| Sublattice type |       Chemical symbols       |  Atomic numbers   |\n",
      "+--------------------------------------------------------------------+\n",
      "|        0        |         ['Pd' 'Au']          |      [46 79]      |\n",
      "+--------------------------------------------------------------------+\n",
      "\n"
     ]
    }
   ],
   "source": [
    "# step 2 is to build the supercell from the parent lattice: in this example we are asking it to be a 4x4\n",
    "scell = SuperCell(platt,[scell_x, scell_y])\n",
    "juview(scell)\n",
    "\n",
    "scell.get_sublattice_types(pretty_print=True)\n",
    "sset = StructuresSet(platt)\n",
    "z_coords_2 = scell.get_positions()[:]\n",
    "\n",
    "nstruc = 100 # we are generating 60 ramdom structures\n",
    "for i in range(nstruc):\n",
    "    # check concentrations in 5% increments\n",
    "    increment =int(randint(1,20) *0.05* len(scell))\n",
    "    #print(increment)\n",
    "    concentration_Cu = {0:[increment]} # Pick a random concentration of \"Zn\" substitutions starting from 1 to 4*4*3\n",
    "    sset.add_structure(scell.gen_random(concentration_Cu)) # Generate and add a random structure to the StructuresS\n",
    "\n",
    "#print(\"\\nRandom structures (first 3) of nstru:\")\n",
    "sset.serialize(\"AuPd2.json\") # Write JSON db file for visualization with ASE's GUI.\n",
    "# Once the database is created, we refer to the to it, if system changes, \n",
    "# a new database is needed, does not update correctly\n"
   ]
  },
  {
   "cell_type": "code",
   "execution_count": 19,
   "metadata": {
    "scrolled": false
   },
   "outputs": [
    {
     "name": "stdout",
     "output_type": "stream",
     "text": [
      "[4.823927532310025, 4.424512386920862, 5.033039427231893, 5.111262231718069, 5.245411321144207, 4.837734403436301, 4.686042395891706, 4.631753116876574, 5.0875608807410675, 5.203398898030642, 4.555404539007517, 4.432331040176097, 5.0700272108511975, 5.617655565165151, 5.426235859571019, 5.6546385685360665, 4.726866957059244, 4.640514909203938, 4.853541516218032, 5.496071879207978, 4.727731241678724, 4.626941131617521, 4.962043596937871, 5.257022816315917, 4.733317303980225, 4.777156882391692, 5.177958008950478, 4.706926825740426, 5.139740993062384, 4.8767698296736945, 4.917915934737001, 5.516817537485409, 5.253442543761151, 4.706386914941897, 4.458342580386786, 5.511116077423745, 4.788577742548648, 5.154638201080436, 4.832033180369203, 5.0156363339164685, 4.964806955020725, 5.548231329221588, 5.300778241101085, 5.73075748617331, 4.991897917573501, 5.106620620848664, 5.242660235989582, 4.621333372739496, 4.728474778207595, 4.51507049255661, 5.237754276140484, 4.55764321540776, 5.041321326973911, 5.691727984074113, 5.027968213510329, 5.121413633440385, 4.905364263636427, 4.426768707383456, 4.6304041408237655, 5.085302932876056, 4.908500290240511, 5.726897986906238, 5.257022816315917, 5.257022816315917, 5.079882090987308, 4.644277717520845, 4.6426657660576875, 5.195247594110958, 5.094946126387249, 5.651990372514067, 5.113851568983213, 4.640839613487943, 4.704784860469626, 4.5036839730311975, 5.2247450986891835, 4.898941514653309, 5.228055288140785, 5.236652676538375, 4.735124685469403, 4.9498177270506005, 4.631901248496034, 4.723310961407652, 4.779172130890474, 5.2295505769760915, 5.2516426395977795, 4.953388640493545, 5.108930015048298, 4.609488582013004, 5.234533566618525, 5.047698344865106, 4.941346520940504, 4.623846437309245, 5.200824200385727, 5.661755121957663, 4.862022473650651, 4.736915188099253, 4.627545189728103, 4.948770916799896, 4.930249165283275, 4.702786615071178]\n"
     ]
    }
   ],
   "source": [
    "# step 3: we need to calculate the energied of the 100 structures defined above\n",
    "from clusterx.calculators.emt import EMT2 # Load the EMT calculator from ASE\n",
    "from clusterx.visualization import plot_property_vs_concentration\n",
    "import os\n",
    "from ase.io import read\n",
    "\n",
    " \n",
    " # generate the folder structure with geometries for ab initio\n",
    "\n",
    "\n",
    "def calculation_function(structure_set, property_name, calculator, folder_prefix, socket=False):\n",
    "    '''TODO:Description needed'''\n",
    "    structure_set.write_files(prefix=folder_prefix)\n",
    "    structure_locations = structure_set.get_folders()\n",
    "    parent_directory = os.path.abspath(\".\")\n",
    "    parent_directory = str(parent_directory) # path to current folder saved for later\n",
    "\n",
    "    if socket is True:\n",
    "        for paths in structure_locations:\n",
    "            os.chdir(paths)\n",
    "            model = read(\"geometry.json\")\n",
    "            with calculator as calc:\n",
    "                model.set_calculator(calc) #  socket FHI-aims calculator goes here\n",
    "                e_model = model.get_potential_energy()\n",
    "    \n",
    "            f = open(str(property_name)+\".dat\", \"w\")\n",
    "            f.write(str(e_model))\n",
    "            f.close()\n",
    "    \n",
    "            os.chdir(parent_directory) # go back to the parent_directory to finish the loop\n",
    "    elif socket is False:\n",
    "        for paths in structure_locations:\n",
    "            os.chdir(paths)\n",
    "            model = read(\"geometry.json\")\n",
    "            model.set_calculator(calculator) # non-socket FHI-aims calculator goes here\n",
    "            e_model = model.get_potential_energy()\n",
    "    \n",
    "            f = open(str(property_name)+\".dat\", \"w\")\n",
    "            f.write(str(e_model))\n",
    "            f.close()\n",
    "    \n",
    "            os.chdir(parent_directory) # go back to the parent_directory to finish the loop\n",
    "\n",
    "# Prefix should not contain underscore _ as it is misinterpreted by os.path.join (?) need to verify\n",
    "\n",
    "calculation_function(sset, \"energy\", calculator=EMT2(), folder_prefix=\"AuPd_error\")\n",
    "sset.read_property_values(\"energy\") # retrieves property values (here energy) from .dat files of the same name\n",
    "e1 = sset.get_property_values(property_name=\"energy\")\n",
    "print(e1)\n",
    "#sset.set_calculator(EMT2())\n",
    "#sset.calculate_property(\"total_energy_emt\") # Calculate energies with Effective Medium Theory calculator of ASE, the output below is the enrgies of the 60 structures"
   ]
  },
  {
   "cell_type": "code",
   "execution_count": null,
   "metadata": {},
   "outputs": [],
   "source": [
    "#In the next cell, we will create a small structures set containing just two structures: one pristine, non-substituted (all Pd) and free of adsorbants, and the other a fully substituted one (Pd->Zn), still without O adsorbants. NO CO2 HERE. The energies 𝐸0 and 𝐸1 of these structures will serve as references for generating figures depicting the total energy versus concentration: 𝑒=𝐸−𝐸0∗(1−𝑥)+𝐸1∗𝑥, with 𝐸 the EMT energy of the structure and 𝑥 the Zn concentration."
   ]
  },
  {
   "cell_type": "code",
   "execution_count": 18,
   "metadata": {
    "scrolled": false
   },
   "outputs": [
    {
     "name": "stdout",
     "output_type": "stream",
     "text": [
      "[4.823927532, 4.424512387]\n"
     ]
    },
    {
     "data": {
      "image/png": "[encoded data removed]",
      "text/plain": [
       "<Figure size 648x432.886 with 1 Axes>"
      ]
     },
     "metadata": {
      "needs_background": "light"
     },
     "output_type": "display_data"
    },
    {
     "data": {
      "text/plain": [
       "{'concentration': [0.8888888888888888,\n",
       "  0.6388888888888888,\n",
       "  0.2777777777777778,\n",
       "  0.2777777777777778,\n",
       "  0.25,\n",
       "  0.6944444444444444,\n",
       "  0.6944444444444444,\n",
       "  0.6944444444444444,\n",
       "  0.9444444444444444,\n",
       "  0.2777777777777778,\n",
       "  0.7777777777777778,\n",
       "  0.5833333333333334,\n",
       "  0.3333333333333333,\n",
       "  0.08333333333333333,\n",
       "  0.19444444444444445,\n",
       "  0.08333333333333333,\n",
       "  0.6944444444444444,\n",
       "  0.7777777777777778,\n",
       "  0.8333333333333334,\n",
       "  0.1388888888888889,\n",
       "  0.5,\n",
       "  0.6388888888888888,\n",
       "  0.5,\n",
       "  1.0,\n",
       "  0.5277777777777778,\n",
       "  0.7777777777777778,\n",
       "  0.25,\n",
       "  0.5833333333333334,\n",
       "  0.2777777777777778,\n",
       "  0.75,\n",
       "  0.3333333333333333,\n",
       "  0.1388888888888889,\n",
       "  0.19444444444444445,\n",
       "  0.4444444444444444,\n",
       "  0.5833333333333334,\n",
       "  0.1388888888888889,\n",
       "  0.75,\n",
       "  0.25,\n",
       "  0.5833333333333334,\n",
       "  0.3888888888888889,\n",
       "  0.8888888888888888,\n",
       "  0.1388888888888889,\n",
       "  0.25,\n",
       "  0.08333333333333333,\n",
       "  0.8333333333333334,\n",
       "  0.2777777777777778,\n",
       "  0.25,\n",
       "  0.6388888888888888,\n",
       "  0.3888888888888889,\n",
       "  0.5833333333333334,\n",
       "  0.8888888888888888,\n",
       "  0.4444444444444444,\n",
       "  0.2777777777777778,\n",
       "  0.08333333333333333,\n",
       "  0.2777777777777778,\n",
       "  0.8333333333333334,\n",
       "  0.3333333333333333,\n",
       "  0.6388888888888888,\n",
       "  0.7777777777777778,\n",
       "  0.2777777777777778,\n",
       "  0.75,\n",
       "  0.08333333333333333,\n",
       "  1.0,\n",
       "  1.0,\n",
       "  0.2777777777777778,\n",
       "  0.5,\n",
       "  0.6388888888888888,\n",
       "  0.25,\n",
       "  0.9444444444444444,\n",
       "  0.08333333333333333,\n",
       "  0.8333333333333334,\n",
       "  0.4444444444444444,\n",
       "  0.5277777777777778,\n",
       "  0.6944444444444444,\n",
       "  0.2777777777777778,\n",
       "  0.75,\n",
       "  0.25,\n",
       "  0.9444444444444444,\n",
       "  0.6388888888888888,\n",
       "  0.8888888888888888,\n",
       "  0.6388888888888888,\n",
       "  0.6388888888888888,\n",
       "  0.4444444444444444,\n",
       "  0.19444444444444445,\n",
       "  0.19444444444444445,\n",
       "  0.3888888888888889,\n",
       "  0.3333333333333333,\n",
       "  0.6944444444444444,\n",
       "  0.25,\n",
       "  0.2777777777777778,\n",
       "  0.8888888888888888,\n",
       "  0.6388888888888888,\n",
       "  0.19444444444444445,\n",
       "  0.08333333333333333,\n",
       "  0.6944444444444444,\n",
       "  0.5277777777777778,\n",
       "  0.6944444444444444,\n",
       "  0.8888888888888888,\n",
       "  0.3888888888888889,\n",
       "  0.3888888888888889],\n",
       " 'property': array([ 0.35503568, -0.14423325,  0.32006055,  0.39828335,  0.52133758,\n",
       "         0.2911785 ,  0.13948649,  0.08519721,  0.64085876,  0.49042002,\n",
       "         0.04213323, -0.15860432,  0.37923806,  0.82701263,  0.67997238,\n",
       "         0.86399563,  0.18031105,  0.1272436 ,  0.36245994,  0.72761867,\n",
       "         0.10351128,  0.0581955 ,  0.33782364,  0.83251043,  0.12019221,\n",
       "         0.26388557,  0.45388426,  0.11599146,  0.42676211,  0.35240366,\n",
       "         0.22712678,  0.74836433,  0.50717907,  0.05997723, -0.13259278,\n",
       "         0.74266287,  0.26421157,  0.43056446,  0.24109782,  0.34703691,\n",
       "         0.49591511,  0.77977812,  0.5767045 ,  0.94011455,  0.50081634,\n",
       "         0.39364174,  0.51858649,  0.05258774,  0.05987536, -0.07586487,\n",
       "         0.76886243, -0.08876647,  0.32834245,  0.90108505,  0.31498933,\n",
       "         0.63033206,  0.21457511, -0.14197693,  0.11713283,  0.37232405,\n",
       "         0.38413412,  0.93625505,  0.83251043,  0.83251043,  0.36690321,\n",
       "         0.02005776,  0.07392013,  0.47117385,  0.64824401,  0.86134744,\n",
       "         0.62276999, -0.00557008,  0.09165977, -0.04287193,  0.51176622,\n",
       "         0.37457534,  0.50398154,  0.78995056,  0.16637905,  0.48092588,\n",
       "         0.06315561,  0.15456533,  0.13276244,  0.4832871 ,  0.50537916,\n",
       "         0.28478922,  0.41814086,  0.06293268,  0.51045982,  0.33471946,\n",
       "         0.47245467,  0.0551008 ,  0.45456072,  0.87111219,  0.31546657,\n",
       "         0.12379009,  0.08098929,  0.47987907,  0.26164975,  0.0341872 ])}"
      ]
     },
     "execution_count": 18,
     "metadata": {},
     "output_type": "execute_result"
    }
   ],
   "source": [
    "# step 4 we need to compare and plot the energy of the 100 structures with the energy of structure with 0 %Zn and 100*Zn\n",
    "refs = StructuresSet(platt)\n",
    "refs.add_structure(scell.gen_random({0:[0]})) # Pristine\n",
    "refs.add_structure(scell.gen_random({0:[len(scell)]})) # Full Cu substitution\n",
    "\n",
    "calculation_function(refs, \"energyref\", calculator=EMT2(), folder_prefix=\"AuPd_error\") \n",
    "\n",
    "refs.read_property_values(\"energyref\") # retrieves property values (here energy) from .dat files of the same name\n",
    "ref_en = refs.get_property_values(property_name=\"energyref\")\n",
    "print(ref_en)\n",
    "\n",
    "plot_property_vs_concentration(sset, site_type=0, property_name=\"energy\",refs=ref_en,scale=0.6)\n",
    "\n"
   ]
  },
  {
   "cell_type": "code",
   "execution_count": null,
   "metadata": {},
   "outputs": [],
   "source": [
    "# step 5 we need to create a pool of cluster that would be applied later our supercell\n",
    "\n",
    "r = 3.939 #/(2**(1/2))*2 # distance in Angstrom\n",
    "from clusterx.clusters.clusters_pool import ClustersPool\n",
    "cpool = ClustersPool(platt, npoints=[0,1,2,3], radii=[0, -1,-1,-1], super_cell=scell) #here we are asking for pool of clusters with a substitution npoints with specific radii, more we add points and increase the sistances more it will be accurate however it will take more times to generate\n",
    "print(len(cpool),\" clusters were generated.\")"
   ]
  },
  {
   "cell_type": "code",
   "execution_count": null,
   "metadata": {
    "scrolled": true
   },
   "outputs": [],
   "source": [
    "cpool.serialize(db_name=\"cpool_CuPd.json\")\n",
    "#juview(cpool.get_cpool_atoms())\n",
    "#view(cpool.get_cpool_atoms())"
   ]
  },
  {
   "cell_type": "code",
   "execution_count": null,
   "metadata": {},
   "outputs": [],
   "source": [
    "#step 5: Building the CE model, here we will use the g linear regression method (other methods are available too) from our pool and supercell that we have build in step 2 and 4\n",
    "\n",
    "from clusterx.model import ModelBuilder\n",
    "mb = ModelBuilder(selector_type=\"linreg\",selector_opts={'clusters_sets':'size'},estimator_type=\"skl_LinearRegression\",estimator_opts={\"fit_intercept\":False})\n",
    "cemodel1 = mb.build(sset, cpool, \"total_energy_emt\") #Build CE model using the training data set\n",
    "cpool_opt1 = mb.get_opt_cpool()\n",
    "cemodel1.report_errors(sset)\n",
    "cpool_opt1.display_info(ecis=cemodel1.get_ecis())\n",
    "cpool_opt1.write_clusters_db(db_name=\"cpool_opt.json\") #CV?"
   ]
  },
  {
   "cell_type": "code",
   "execution_count": null,
   "metadata": {
    "scrolled": false
   },
   "outputs": [],
   "source": [
    "# plotting the results\n",
    "from clusterx.visualization import plot_optimization_vs_number_of_clusters\n",
    "from clusterx.visualization import plot_predictions_vs_target\n",
    "plot_optimization_vs_number_of_clusters(mb.get_selector(),scale=0.5)\n",
    "plot_predictions_vs_target(sset,cemodel1,\"total_energy_emt\",scale=0.5)\n",
    "plot_property_vs_concentration(sset, site_type=0, property_name=\"total_energy_emt\",cemodel=cemodel1,refs=ref_en,scale=0.5)"
   ]
  },
  {
   "cell_type": "code",
   "execution_count": null,
   "metadata": {},
   "outputs": [],
   "source": [
    "# more accurate set\n",
    "#mb = ModelBuilder(selector_type=\"linreg\",selector_opts={'clusters_sets':'size+combinations','nclmax':2,'set0':[1,3.939]},estimator_type=\"skl_LinearRegression\",estimator_opts={\"fit_intercept\":True})\n",
    "#cemodel3 = mb.build(sset, cpool, \"total_energy_emt\") #Build CE model using the training data set\n",
    "#cpool_opt3 = mb.get_opt_cpool()\n",
    "#cemodel3.report_errors(sset)\n",
    "#cpool_opt3.display_info(ecis=cemodel3.get_ecis())\n",
    "#cpool_opt3.write_clusters_db(db_name=\"cpool_opt3.json\")"
   ]
  },
  {
   "cell_type": "code",
   "execution_count": null,
   "metadata": {},
   "outputs": [],
   "source": [
    "#plot_optimization_vs_number_of_clusters(mb.get_selector(),scale=0.5)\n",
    "#plot_predictions_vs_target(sset,cemodel3,\"total_energy_emt\",scale=0.5)\n",
    "#plot_property_vs_concentration(sset, site_type=2, property_name=\"total_energy_emt\",cemodel=cemodel3,refs=ref_en,scale=0.5)"
   ]
  },
  {
   "cell_type": "code",
   "execution_count": null,
   "metadata": {},
   "outputs": [],
   "source": [
    "#step 6: Monte Carlo simulations\n",
    "scell.get_sublattice_types(pretty_print=True)\n",
    "sites_dict = scell.get_nsites_per_type()\n",
    "for key in sites_dict.keys():\n",
    "    print(\"Number of atoms in sublattice \"+str(key)+\":\", sites_dict[key])"
   ]
  },
  {
   "cell_type": "code",
   "execution_count": null,
   "metadata": {},
   "outputs": [],
   "source": [
    "nsites = len(scell.get_substitutional_atoms())\n",
    "print(nsites)"
   ]
  },
  {
   "cell_type": "code",
   "execution_count": null,
   "metadata": {},
   "outputs": [],
   "source": [
    "from clusterx.model import Model\n",
    "cemodelE = Model(json_db_filepath =\"sset2.json\") # unable to import the file, what are we missing here\n",
    "nsubs = {0:[4]}\n",
    "kb = float(8.6173303*10**(-5)) # Boltzmann constant in eV/K\n",
    "temp = 300 # Temperature in K\n",
    "\n",
    "# Initialization of a MonteCarlo object\n",
    "from clusterx.thermodynamics.monte_carlo import MonteCarlo\n",
    "mc = MonteCarlo(cemodelE,\n",
    "                scell,\n",
    "                ensemble = \"canonical\",\n",
    "                nsubs = nsubs,\n",
    "                predict_swap = False)\n",
    "\n",
    "#print(mc)\n",
    "# Execution of a Metropolis Monte-Carlo sampling\n",
    "traj = mc.metropolis(no_of_sampling_steps = 1000,\n",
    "                     temperature = 800,\n",
    "                     boltzmann_constant = kb,\n",
    "                     scale_factor = [1/(1.0*nsites)])\n",
    "'''\n",
    "\n",
    "nsubs = {0:[4]}\n",
    "kb = float(8.6173303*10**(-5)) # Boltzmann constant in eV/K\n",
    "temp = 300 # Temperature in K\n",
    "\n",
    "# Initialization of a MonteCarlo object\n",
    "from clusterx.thermodynamics.monte_carlo import MonteCarlo\n",
    "mc = MonteCarlo(cemodelE, \\\n",
    "                scell, \\\n",
    "                ensemble = \"canonical\", \\\n",
    "                nsubs = nsubs, \\\n",
    "                predict_swap = True)\n",
    "\n",
    "# Execution of a Metropolis Monte-Carlo sampling\n",
    "traj = mc.metropolis(no_of_sampling_steps = 1000, \\\n",
    "                     temperature = 800, \\\n",
    "                     boltzmann_constant = kb, \\\n",
    "                     scale_factor = [1/(1.0*nsites)])"
   ]
  },
  {
   "cell_type": "code",
   "execution_count": null,
   "metadata": {},
   "outputs": [],
   "source": [
    "# questions to be asked\n",
    "#1- is how is EMT2 working on Zn while normally EMT is not available for Zn atoms\n",
    "#2-I belive we can install it on supercomputer, dos it work on more than 1 nodes, could socket be used,\n",
    "#3-how far we can go with the npoints and distances for 4x4x7 \n",
    "#3-what are CV-RMSE and training-RMSE, what is supposed to be more stabe\n",
    "#4-where are located the predicted, calculated and most stable structures, where can I see them\n",
    "#5-why in the more accurate CE model we have to redefine clusters_sets':'size+combinations','nclmax':2,'set0':[1,3.939], aren't these defined in the cpool, is that not enough,\n",
    "#6-How to apply MC on the model we create,\n",
    "#7-could I make it for all the compositions in a loop, "
   ]
  },
  {
   "cell_type": "code",
   "execution_count": null,
   "metadata": {},
   "outputs": [],
   "source": []
  },
  {
   "cell_type": "code",
   "execution_count": null,
   "metadata": {},
   "outputs": [],
   "source": []
  }
 ],
 "metadata": {
  "kernelspec": {
   "display_name": "Python 3",
   "language": "python",
   "name": "python3"
  },
  "language_info": {
   "codemirror_mode": {
    "name": "ipython",
    "version": 3
   },
   "file_extension": ".py",
   "mimetype": "text/x-python",
   "name": "python",
   "nbconvert_exporter": "python",
   "pygments_lexer": "ipython3",
   "version": "3.8.2"
  }
 },
 "nbformat": 4,
 "nbformat_minor": 4
}
