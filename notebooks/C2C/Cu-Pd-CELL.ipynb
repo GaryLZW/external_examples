{
 "cells": [
  {
   "cell_type": "code",
   "execution_count": 1,
   "metadata": {},
   "outputs": [
    {
     "data": {
      "application/vnd.jupyter.widget-view+json": {
       "model_id": "a12f787dfc4940b1be7328fc80ebeb0e",
       "version_major": 2,
       "version_minor": 0
      },
      "text/plain": []
     },
     "metadata": {},
     "output_type": "display_data"
    },
    {
     "data": {
      "application/vnd.jupyter.widget-view+json": {
       "model_id": "2600e77e9e174b4baff44a7ba2944574",
       "version_major": 2,
       "version_minor": 0
      },
      "text/plain": [
       "NGLWidget()"
      ]
     },
     "metadata": {},
     "output_type": "display_data"
    }
   ],
   "source": [
    "# in this tutorial, we will build a PdZn binary alloys with random composition using CELL software, to do so differents steps are needed:\n",
    "# I have added some questions for the training at the end\n",
    "\n",
    "#step 1 is to build a parent cell which will be composed from the primitive cell here Pd and the substitute here Zn\n",
    "\n",
    "%matplotlib inline \n",
    "from ase.build import fcc111, add_adsorbate # ASE's utilities to build the surface\n",
    "from clusterx.parent_lattice import ParentLattice \n",
    "from clusterx.structures_set import StructuresSet\n",
    "from clusterx.visualization import juview\n",
    "from clusterx.super_cell import SuperCell\n",
    "from ase import Atoms\n",
    "from ase.build import surface\n",
    "from random import randint\n",
    "import numpy as np\n",
    "np.random.seed(10)\n",
    "\n",
    "from ase.build import molecule\n",
    "a = 2.889\n",
    "c = 3.329\n",
    "\n",
    "Alloy= Atoms('CuPd', scaled_positions=[(0, 0, 0),\n",
    "                                (0.5, 0.5, 0),\n",
    "                                ],\n",
    "              cell=[a, a, c],\n",
    "              pbc=True)\n",
    "\n",
    "pri = surface(Alloy, (1, 1, 1), 7)\n",
    "pri.center(vacuum=10, axis=2)\n",
    "\n",
    "juview(pri)"
   ]
  },
  {
   "cell_type": "code",
   "execution_count": 2,
   "metadata": {
    "scrolled": true
   },
   "outputs": [
    {
     "name": "stdout",
     "output_type": "stream",
     "text": [
      "Atom index         |Chemical symbol    |z coordinate       \n",
      "0                  |Cu                 |10.000             \n",
      "1                  |Pd                 |10.000             \n",
      "2                  |Cu                 |11.741             \n",
      "3                  |Pd                 |11.741             \n",
      "4                  |Cu                 |13.482             \n",
      "5                  |Pd                 |13.482             \n",
      "6                  |Cu                 |15.223             \n",
      "7                  |Pd                 |15.223             \n",
      "8                  |Cu                 |16.965             \n",
      "9                  |Pd                 |16.965             \n",
      "10                 |Cu                 |18.706             \n",
      "11                 |Pd                 |18.706             \n",
      "12                 |Cu                 |20.447             \n",
      "13                 |Pd                 |20.447             \n"
     ]
    }
   ],
   "source": [
    "# before we start the subtitution it is recommended to know the index of the atoms\n",
    "symbols = pri.get_chemical_symbols() # Get Chemical symbols of slab\n",
    "z_coords = pri.get_positions()[:,2] # Get z-coordinate of atomic positions in slab\n",
    "\n",
    "print(\"{0:<19s}|{1:<19s}|{2:<19s}\".format(\"Atom index\",\"Chemical symbol\",\"z coordinate\")) # Print headers\n",
    "for i, (symbol, z_coord) in enumerate(zip(symbols,z_coords)):\n",
    "    print(\"{0:<19d}|{1:<19s}|{2:<19.3f}\".format(i,symbol,z_coord)) # Print atom indexes, symbols and z_coordinat"
   ]
  },
  {
   "cell_type": "code",
   "execution_count": 3,
   "metadata": {
    "scrolled": false
   },
   "outputs": [
    {
     "name": "stdout",
     "output_type": "stream",
     "text": [
      "[['Pd', 'Cu'], ['Pd', 'Cu'], ['Pd', 'Cu'], ['Pd', 'Cu'], ['Pd', 'Cu'], ['Pd', 'Cu'], ['Pd', 'Cu'], ['Pd', 'Cu'], ['Pd', 'Cu'], ['Pd', 'Cu'], ['Pd', 'Cu'], ['Pd', 'Cu'], ['Pd', 'Cu'], ['Pd', 'Cu']]\n"
     ]
    },
    {
     "data": {
      "application/vnd.jupyter.widget-view+json": {
       "model_id": "10d31a1aa7ca46f9924573232d6f0247",
       "version_major": 2,
       "version_minor": 0
      },
      "text/plain": [
       "VBox(children=(HBox(children=(NGLWidget(), NGLWidget())),))"
      ]
     },
     "metadata": {},
     "output_type": "display_data"
    }
   ],
   "source": [
    "# now we are asking that Zn could substitute all the 7 atoms of Pd that we have created above\n",
    "list_of_elements = [[\"Pd\", \"Cu\"]] * 14\n",
    "print(list_of_elements)\n",
    "platt = ParentLattice(pri, symbols= list_of_elements)\n",
    "juview(platt)"
   ]
  },
  {
   "cell_type": "code",
   "execution_count": 4,
   "metadata": {},
   "outputs": [
    {
     "name": "stdout",
     "output_type": "stream",
     "text": [
      "\n",
      "+--------------------------------------------------------------------+\n",
      "|              The structure consists of 1 sublattices               |\n",
      "+--------------------------------------------------------------------+\n",
      "| Sublattice type |       Chemical symbols       |  Atomic numbers   |\n",
      "+--------------------------------------------------------------------+\n",
      "|        0        |         ['Pd' 'Cu']          |      [46 29]      |\n",
      "+--------------------------------------------------------------------+\n",
      "\n"
     ]
    }
   ],
   "source": [
    "platt.get_sublattice_types(pretty_print=True)"
   ]
  },
  {
   "cell_type": "code",
   "execution_count": 5,
   "metadata": {},
   "outputs": [],
   "source": [
    "# from above we can see that we have only one sublattice"
   ]
  },
  {
   "cell_type": "code",
   "execution_count": 28,
   "metadata": {},
   "outputs": [
    {
     "name": "stdout",
     "output_type": "stream",
     "text": [
      "\n",
      "+--------------------------------------------------------------------+\n",
      "|              The structure consists of 1 sublattices               |\n",
      "+--------------------------------------------------------------------+\n",
      "| Sublattice type |       Chemical symbols       |  Atomic numbers   |\n",
      "+--------------------------------------------------------------------+\n",
      "|        0        |         ['Pd' 'Cu']          |      [46 29]      |\n",
      "+--------------------------------------------------------------------+\n",
      "\n"
     ]
    }
   ],
   "source": [
    "# step 2 is to build the supercell from the parent lattice: in this example we are asking it to be a 4x4\n",
    "scell = SuperCell(platt,[2,3])\n",
    "juview(scell)\n",
    "\n",
    "scell.get_sublattice_types(pretty_print=True)\n",
    "sset = StructuresSet(platt)\n",
    "z_coords_2 = scell.get_positions()[:]\n",
    "\n",
    "nstruc = 10 # we are generating 100 ramdom structures with Zn concentration changing from 1 to 100 %\n",
    "for i in range(nstruc):\n",
    "    # check concentrations in 5% increments\n",
    "    increment =int(randint(1,20) *0.05* 2*3*14)\n",
    "    #print(increment)\n",
    "    concentration = {0:[increment]} # Pick a random concentration of \"Zn\" substitutions starting from 1 to 4*4*7\n",
    "    sset.add_structure(scell.gen_random(concentration)) # Generate and add a random structure to the StructuresSet\n",
    "\n",
    "#print(\"\\nRandom structures (first 3) of nstru:\")\n",
    "sset.serialize(\"sset3.json\") # Write JSON db file for visualization with ASE's GUI.\n",
    "from ase.io import read\n",
    "from ase.visualize import view\n",
    "#view(read(\"sset3.json@:\"))\n",
    "#juview(sset,n=3) # Plot the first 3 created random structrues\n"
   ]
  },
  {
   "cell_type": "code",
   "execution_count": 30,
   "metadata": {
    "scrolled": false
   },
   "outputs": [
    {
     "name": "stdout",
     "output_type": "stream",
     "text": [
      "Could not read propery  total_energy_dft from folder  ./random_CuPd0\n",
      "Could not read propery  total_energy_dft from folder  ./random_CuPd1\n",
      "Could not read propery  total_energy_dft from folder  ./random_CuPd2\n",
      "Could not read propery  total_energy_dft from folder  ./random_CuPd3\n",
      "Could not read propery  total_energy_dft from folder  ./random_CuPd4\n",
      "Could not read propery  total_energy_dft from folder  ./random_CuPd5\n",
      "Could not read propery  total_energy_dft from folder  ./random_CuPd6\n",
      "Could not read propery  total_energy_dft from folder  ./random_CuPd7\n",
      "Could not read propery  total_energy_dft from folder  ./random_CuPd8\n",
      "Could not read propery  total_energy_dft from folder  ./random_CuPd9\n"
     ]
    }
   ],
   "source": [
    "# step 3: we need to calculate the energied of the 100 structures defined above\n",
    "from clusterx.calculators.emt import EMT2 # Load the EMT calculator from ASE\n",
    "from clusterx.visualization import plot_property_vs_concentration\n",
    "import os\n",
    "from ase.io import read\n",
    "parent_directory = os.path.abspath(\".\")\n",
    "parent_directory = str(parent_directory) # path to current folder saved for later\n",
    " \n",
    "sset.write_files(prefix=\"random_CuPd\") # generate the folder structure with geometries for ab initio\n",
    "structure_locations = sset.get_folders()\n",
    "\n",
    "for paths in structure_locations:\n",
    "    os.chdir(paths)\n",
    "    model = read(\"geometry.json\")\n",
    "    model.set_calculator(EMT2()) # FHI-aims calculator go here\n",
    "    e_model = model.get_potential_energy()\n",
    "    \n",
    "    f = open(\"total_energy_dft.dat\", \"w\")\n",
    "    f.write(str(e_model))\n",
    "    f.close()\n",
    "    \n",
    "    os.chdir(parent_directory) # go back to the parent_directory to finish the loop\n",
    "\n",
    "sset.read_property_values(\"total_energy_dft\", write_to_file=False) # test\n",
    "#sset = sset.get_property_values(\"total_energy_dft\")\n",
    "\n",
    "#sset.calculate_property(\"total_energy_emt\") # Calculate energies with Effective Medium Theory calculator of ASE, the output below is the enrgies of the 60 structures"
   ]
  },
  {
   "cell_type": "code",
   "execution_count": 11,
   "metadata": {},
   "outputs": [],
   "source": [
    "#In the next cell, we will create a small structures set containing just two structures: one pristine, non-substituted (all Pd) and free of adsorbants, and the other a fully substituted one (Pd->Zn), still without O adsorbants. NO CO2 HERE. The energies 𝐸0 and 𝐸1 of these structures will serve as references for generating figures depicting the total energy versus concentration: 𝑒=𝐸−𝐸0∗(1−𝑥)+𝐸1∗𝑥, with 𝐸 the EMT energy of the structure and 𝑥 the Zn concentration."
   ]
  },
  {
   "cell_type": "code",
   "execution_count": null,
   "metadata": {},
   "outputs": [],
   "source": [
    "# step 4 we need to compare and plot the energy of the 100 structures with the energy of structure with 0 %Zn and 100*Zn\n",
    "refs = StructuresSet(platt)\n",
    "refs.add_structure(scell.gen_random({0:[0]})) # Pristine\n",
    "refs.add_structure(scell.gen_random({0:[0],0:[4*4*7]})) # Full Zn substitution 4:4:7\n",
    "refs.set_calculator(EMT2()) # AIMS calculator - how to incorporate socketed calc? Where is the calc called?\n",
    "refs.calculate_property(\"total_energy_emt_refs\")\n",
    "ref_en = refs.get_property_values(\"total_energy_emt_refs\")\n",
    "plot_property_vs_concentration(sset, site_type=0, property_name=\"total_energy_emt\",refs=ref_en,scale=0.6)\n"
   ]
  },
  {
   "cell_type": "code",
   "execution_count": null,
   "metadata": {},
   "outputs": [],
   "source": [
    "# step 5 we need to create a pool of cluster that would be applied later our supercell\n",
    "\n",
    "r = 3.939 #/(2**(1/2))*2 # distance in Angstrom\n",
    "from clusterx.clusters.clusters_pool import ClustersPool\n",
    "cpool = ClustersPool(platt, npoints=[0,1,2,3], radii=[r, r,r,r]) #here we are asking for pool of clusters with a substitution npoints with specific radii, more we add points and increase the sistances more it will be accurate however it will take more times to generate\n",
    "print(len(cpool),\" clusters were generated.\")"
   ]
  },
  {
   "cell_type": "code",
   "execution_count": null,
   "metadata": {},
   "outputs": [],
   "source": [
    "# Ask for pool clusters with a substitution npoints wth specific radius. Suggestions for different cutoffs for  n-points? how far we can go for 4x4x7"
   ]
  },
  {
   "cell_type": "code",
   "execution_count": null,
   "metadata": {
    "scrolled": true
   },
   "outputs": [],
   "source": [
    "cpool.serialize(db_name=\"cpool.json\")\n",
    "#juview(cpool.get_cpool_atoms())\n",
    "#view(cpool.get_cpool_atoms())"
   ]
  },
  {
   "cell_type": "code",
   "execution_count": null,
   "metadata": {},
   "outputs": [],
   "source": [
    "#step 5: Building the CE model, here we will use the g linear regression method (other methods are available too) from our pool and supercell that we have build in step 2 and 4\n",
    "\n",
    "from clusterx.model import ModelBuilder\n",
    "mb = ModelBuilder(selector_type=\"linreg\",selector_opts={'clusters_sets':'size'},estimator_type=\"skl_LinearRegression\",estimator_opts={\"fit_intercept\":False})\n",
    "cemodel1 = mb.build(sset, cpool, \"total_energy_emt\") #Build CE model using the training data set\n",
    "cpool_opt1 = mb.get_opt_cpool()\n",
    "cemodel1.report_errors(sset)\n",
    "cpool_opt1.display_info(ecis=cemodel1.get_ecis())\n",
    "cpool_opt1.write_clusters_db(db_name=\"cpool_opt.json\") #CV?"
   ]
  },
  {
   "cell_type": "code",
   "execution_count": null,
   "metadata": {
    "scrolled": false
   },
   "outputs": [],
   "source": [
    "# plotting the results\n",
    "from clusterx.visualization import plot_optimization_vs_number_of_clusters\n",
    "from clusterx.visualization import plot_predictions_vs_target\n",
    "plot_optimization_vs_number_of_clusters(mb.get_selector(),scale=0.5)\n",
    "plot_predictions_vs_target(sset,cemodel1,\"total_energy_emt\",scale=0.5)\n",
    "plot_property_vs_concentration(sset, site_type=0, property_name=\"total_energy_emt\",cemodel=cemodel1,refs=ref_en,scale=0.5)"
   ]
  },
  {
   "cell_type": "code",
   "execution_count": null,
   "metadata": {},
   "outputs": [],
   "source": [
    "# more accurate set\n",
    "#mb = ModelBuilder(selector_type=\"linreg\",selector_opts={'clusters_sets':'size+combinations','nclmax':2,'set0':[1,3.939]},estimator_type=\"skl_LinearRegression\",estimator_opts={\"fit_intercept\":True})\n",
    "#cemodel3 = mb.build(sset, cpool, \"total_energy_emt\") #Build CE model using the training data set\n",
    "#cpool_opt3 = mb.get_opt_cpool()\n",
    "#cemodel3.report_errors(sset)\n",
    "#cpool_opt3.display_info(ecis=cemodel3.get_ecis())\n",
    "#cpool_opt3.write_clusters_db(db_name=\"cpool_opt3.json\")"
   ]
  },
  {
   "cell_type": "code",
   "execution_count": null,
   "metadata": {},
   "outputs": [],
   "source": [
    "#plot_optimization_vs_number_of_clusters(mb.get_selector(),scale=0.5)\n",
    "#plot_predictions_vs_target(sset,cemodel3,\"total_energy_emt\",scale=0.5)\n",
    "#plot_property_vs_concentration(sset, site_type=2, property_name=\"total_energy_emt\",cemodel=cemodel3,refs=ref_en,scale=0.5)"
   ]
  },
  {
   "cell_type": "code",
   "execution_count": null,
   "metadata": {},
   "outputs": [],
   "source": [
    "#step 6: Monte Carlo simulations\n",
    "scell.get_sublattice_types(pretty_print=True)\n",
    "sites_dict = scell.get_nsites_per_type()\n",
    "for key in sites_dict.keys():\n",
    "    print(\"Number of atoms in sublattice \"+str(key)+\":\", sites_dict[key])"
   ]
  },
  {
   "cell_type": "code",
   "execution_count": null,
   "metadata": {},
   "outputs": [],
   "source": [
    "nsites = len(scell.get_substitutional_atoms())\n",
    "print(nsites)"
   ]
  },
  {
   "cell_type": "code",
   "execution_count": null,
   "metadata": {},
   "outputs": [],
   "source": [
    "from clusterx.model import Model\n",
    "cemodelE = Model(json_db_filepath =\"sset2.json\") # unable to import the file, what are we missing here\n",
    "nsubs = {0:[4]}\n",
    "kb = float(8.6173303*10**(-5)) # Boltzmann constant in eV/K\n",
    "temp = 300 # Temperature in K\n",
    "\n",
    "# Initialization of a MonteCarlo object\n",
    "from clusterx.thermodynamics.monte_carlo import MonteCarlo\n",
    "mc = MonteCarlo(cemodelE,\n",
    "                scell,\n",
    "                ensemble = \"canonical\",\n",
    "                nsubs = nsubs,\n",
    "                predict_swap = False)\n",
    "\n",
    "#print(mc)\n",
    "# Execution of a Metropolis Monte-Carlo sampling\n",
    "traj = mc.metropolis(no_of_sampling_steps = 1000,\n",
    "                     temperature = 800,\n",
    "                     boltzmann_constant = kb,\n",
    "                     scale_factor = [1/(1.0*nsites)])\n",
    "'''\n",
    "\n",
    "nsubs = {0:[4]}\n",
    "kb = float(8.6173303*10**(-5)) # Boltzmann constant in eV/K\n",
    "temp = 300 # Temperature in K\n",
    "\n",
    "# Initialization of a MonteCarlo object\n",
    "from clusterx.thermodynamics.monte_carlo import MonteCarlo\n",
    "mc = MonteCarlo(cemodelE, \\\n",
    "                scell, \\\n",
    "                ensemble = \"canonical\", \\\n",
    "                nsubs = nsubs, \\\n",
    "                predict_swap = True)\n",
    "\n",
    "# Execution of a Metropolis Monte-Carlo sampling\n",
    "traj = mc.metropolis(no_of_sampling_steps = 1000, \\\n",
    "                     temperature = 800, \\\n",
    "                     boltzmann_constant = kb, \\\n",
    "                     scale_factor = [1/(1.0*nsites)])"
   ]
  },
  {
   "cell_type": "code",
   "execution_count": null,
   "metadata": {},
   "outputs": [],
   "source": [
    "# questions to be asked\n",
    "#1- is how is EMT2 working on Zn while normally EMT is not available for Zn atoms\n",
    "#2-I belive we can install it on supercomputer, dos it work on more than 1 nodes, could socket be used,\n",
    "#3-how far we can go with the npoints and distances for 4x4x7 \n",
    "#3-what are CV-RMSE and training-RMSE, what is supposed to be more stabe\n",
    "#4-where are located the predicted, calculated and most stable structures, where can I see them\n",
    "#5-why in the more accurate CE model we have to redefine clusters_sets':'size+combinations','nclmax':2,'set0':[1,3.939], aren't these defined in the cpool, is that not enough,\n",
    "#6-How to apply MC on the model we create,\n",
    "#7-could I make it for all the compositions in a loop, "
   ]
  },
  {
   "cell_type": "code",
   "execution_count": null,
   "metadata": {},
   "outputs": [],
   "source": []
  },
  {
   "cell_type": "code",
   "execution_count": null,
   "metadata": {},
   "outputs": [],
   "source": []
  }
 ],
 "metadata": {
  "kernelspec": {
   "display_name": "Python 3",
   "language": "python",
   "name": "python3"
  },
  "language_info": {
   "codemirror_mode": {
    "name": "ipython",
    "version": 3
   },
   "file_extension": ".py",
   "mimetype": "text/x-python",
   "name": "python",
   "nbconvert_exporter": "python",
   "pygments_lexer": "ipython3",
   "version": "3.8.2"
  }
 },
 "nbformat": 4,
 "nbformat_minor": 4
}
