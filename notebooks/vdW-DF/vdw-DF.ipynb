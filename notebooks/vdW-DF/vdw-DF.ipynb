{
 "cells": [
  {
   "cell_type": "markdown",
   "metadata": {},
   "source": [
    "Aim: To reproduce the plot from this document: https://journals-aps-org.abc.cardiff.ac.uk/prl/pdf/10.1103/PhysRevLett.95.109902, as derived in this document: https://journals-aps-org.abc.cardiff.ac.uk/prl/pdf/10.1103/PhysRevLett.92.246401\n",
    "\n",
    "First let us define some functions. We start with LDA energy density:"
   ]
  },
  {
   "cell_type": "code",
   "execution_count": 39,
   "metadata": {},
   "outputs": [],
   "source": [
    "from scipy.constants import pi\n",
    "\n",
    "# LDA taken from this page: https://www.theoretical-physics.net/dev/quantum/dft.html\n",
    "# And verified against LibXC for densities of 0 to 1.\n",
    "def lda_exchange_energy(density):\n",
    "    return (-3/4)*((3*density)/pi)**(1/3)\n",
    "    #return (-3/(4*pi))*((3*(pi**2)*density))**(1/3)\n",
    "\n",
    "def lda_correlation_energy(density):\n",
    "    from numpy import arctan, log # This is natural log\n",
    "    \n",
    "    y_0 = -0.10498\n",
    "    A = 0.0621814\n",
    "    b = 3.72744\n",
    "    c = 12.9352\n",
    "    electron_gas_parameter = (3/(4*pi*density))**(1/3)\n",
    "    y = (electron_gas_parameter)**(1/2)\n",
    "    Y_y = (y**2) + (b*y) + c\n",
    "    Y_y0 = (y_0**2) + (b*y_0) + c\n",
    "    Q = (4*c - (b**2))**(1/2)\n",
    "    part_1 = log((y**2)/Y_y)\n",
    "    part_2 = (2*b/Q)*arctan(Q/((2*y)+b))\n",
    "    part_3_prefactor = (b*y_0)/Y_y0\n",
    "    part_3_1 = log(((y-y_0)**2)/Y_y)\n",
    "    part_3_2 = ((2*(b+2*y_0))/Q)*arctan(Q/((2*y)+b))\n",
    "    part_3_total = -part_3_prefactor*(part_3_1+part_3_2)\n",
    "    \n",
    "    return (part_1+part_2+part_3_total)*(A/2)"
   ]
  },
  {
   "cell_type": "markdown",
   "metadata": {},
   "source": [
    "Looks lovely, but I don't trust it unless we can validate, so lets do that."
   ]
  },
  {
   "cell_type": "code",
   "execution_count": 58,
   "metadata": {},
   "outputs": [],
   "source": [
    "def validate_lda():\n",
    "    import numpy as np\n",
    "    density = np.arange(0.0,1.1,0.1)\n",
    "    exchange = lda_exchange_energy(density)\n",
    "    correlation = lda_correlation_energy(density)\n",
    "    \n",
    "    # Here are equivalent results calculated with LibXC \n",
    "    exchange_libxc = np.array([ 0., -0.34280861, -0.43191179, -0.49441557, -0.54417475, -0.58619448, -0.62292459, -0.65576928, -0.68561722, -0.71307065, -0.73855877])\n",
    "    correlation_libxc = np.array([ 0., -0.05339729, -0.05864492, -0.06181076, -0.0640977,  -0.06589402, -0.06737584, -0.06863838, -0.06973906, -0.07071524, -0.07159261])\n",
    "    \n",
    "    import matplotlib.pyplot as plt\n",
    "    plt.plot(density, exchange_libxc, \"green\")\n",
    "    plt.plot(density, correlation_libxc, \"green\")\n",
    "    plt.plot(density, exchange, \"blue\")\n",
    "    plt.plot(density, correlation, \"blue\")\n",
    "    plt.xlabel('Density (e/a_0^3)')\n",
    "    plt.ylabel('Energy (Ha)')\n",
    "    plt.show()"
   ]
  },
  {
   "cell_type": "code",
   "execution_count": 60,
   "metadata": {},
   "outputs": [
    {
     "name": "stderr",
     "output_type": "stream",
     "text": [
      "<ipython-input-39-1684cba6169b>:16: RuntimeWarning: divide by zero encountered in true_divide\n",
      "  electron_gas_parameter = (3/(4*pi*density))**(1/3)\n",
      "<ipython-input-39-1684cba6169b>:21: RuntimeWarning: invalid value encountered in true_divide\n",
      "  part_1 = log((y**2)/Y_y)\n",
      "<ipython-input-39-1684cba6169b>:24: RuntimeWarning: invalid value encountered in true_divide\n",
      "  part_3_1 = log(((y-y_0)**2)/Y_y)\n"
     ]
    },
    {
     "data": {
      "image/png": "[encoded data removed]",
      "text/plain": [
       "<Figure size 432x288 with 1 Axes>"
      ]
     },
     "metadata": {
      "needs_background": "light"
     },
     "output_type": "display_data"
    }
   ],
   "source": [
    "validate_lda()"
   ]
  },
  {
   "cell_type": "markdown",
   "metadata": {},
   "source": [
    "The only notable difference is behaviour at low density, where we get an NaN response. So to deal with that we'll just wrap the correlation with something that checks the density threshold:"
   ]
  },
  {
   "cell_type": "code",
   "execution_count": 94,
   "metadata": {},
   "outputs": [
    {
     "name": "stdout",
     "output_type": "stream",
     "text": [
      "[-- -0.3962059014865123 -0.49055670695522424 -0.5562263305315182\n",
      " -0.608272452558864 -0.6520885013143208 -0.6903004326262159\n",
      " -0.724407665582844 -0.755356284229314 -0.7837858872986903\n",
      " -0.810151378688813]\n"
     ]
    }
   ],
   "source": [
    "def lda_exchange_correlation_energy(density):\n",
    "    import numpy as np\n",
    "    exchange = correlation = 0.0\n",
    "    # Mask values if they are effectively zero\n",
    "    if type(density) == np.ndarray:\n",
    "        density_masked = np.ma.masked_where(density <= 1e-20, density)\n",
    "    else:\n",
    "        density_masked = density\n",
    "    exchange = lda_exchange_energy(density_masked)\n",
    "    correlation = lda_correlation_energy(density_masked)\n",
    "        \n",
    "    return exchange+correlation\n",
    "\n",
    "import numpy as np\n",
    "density = np.arange(0.0,1.1,0.1)\n",
    "print(lda_exchange_correlation_energy(density))"
   ]
  },
  {
   "cell_type": "markdown",
   "metadata": {},
   "source": [
    "Now to calculate q_0, and everything else should be trivial. \n",
    "\n",
    "**This needs more work as q_0 is inconsistent**. Working through the maths, the differences between the top and bottom two definitions of q_0 are in the LHS of eq. 7, 10.1103/PhysRevB.76.125112, where _n_ is given instead of _(pi/3n)^(1/3)_ in the other two papers?"
   ]
  },
  {
   "cell_type": "code",
   "execution_count": 103,
   "metadata": {},
   "outputs": [
    {
     "name": "stdout",
     "output_type": "stream",
     "text": [
      "[        nan  3.42208046  6.72581872  9.99313274 13.23856012 16.46856738\n",
      " 19.6867906  22.8955461  26.09643086 29.29060812 32.47896028]\n"
     ]
    },
    {
     "name": "stderr",
     "output_type": "stream",
     "text": [
      "<ipython-input-103-cdec3dd9572c>:8: RuntimeWarning: invalid value encountered in true_divide\n",
      "  return (numerator/denominator)\n",
      "<ipython-input-39-1684cba6169b>:16: RuntimeWarning: divide by zero encountered in true_divide\n",
      "  electron_gas_parameter = (3/(4*pi*density))**(1/3)\n",
      "<ipython-input-39-1684cba6169b>:21: RuntimeWarning: invalid value encountered in true_divide\n",
      "  part_1 = log((y**2)/Y_y)\n",
      "<ipython-input-39-1684cba6169b>:24: RuntimeWarning: invalid value encountered in true_divide\n",
      "  part_3_1 = log(((y-y_0)**2)/Y_y)\n"
     ]
    }
   ],
   "source": [
    "# Definitions here taken from: 10.1103/PhysRevB.76.125112\n",
    "def fermi_wave_vector(density):\n",
    "    return 3*(pi**2)*density\n",
    "\n",
    "def reduced_gradient(density, gradient_of_density):\n",
    "    numerator = gradient_of_density\n",
    "    denominator = 2*fermi_wave_vector(density)*density\n",
    "    return (numerator/denominator)\n",
    "\n",
    "# Equation 7 of the aforementioned paper\n",
    "def q_0(density, gradient_of_density):\n",
    "    Z = -0.8491\n",
    "    # Equation 7 of the aforementioned paper (10.1103/PhysRevB.76.125112)\n",
    "    part_1 = (-4.0/3.0)*pi*lda_exchange_correlation_energy(density)*density\n",
    "    part_2 = (Z/9.0)*(reduced_gradient(density,gradient_of_density)**2)*fermi_wave_vector(density)\n",
    "    #return part_1 - part_2\n",
    "    \n",
    "    #Equation 11-12 of 10.1103/PhysRevLett.92.246401, which is where\n",
    "    #the previous equation is taken from. However, I cannot get these to match?\n",
    "    numerator = lda_exchange_correlation_energy(density)-lda_exchange_energy(density)*(Z/9)*reduced_gradient(density, gradient_of_density)**2\n",
    "    denominator = lda_exchange_energy(density)\n",
    "    #return (numerator/denominator)*fermi_wave_vector(density)\n",
    "\n",
    "    # Equation 51, https://arxiv.org/pdf/1412.6827.pdf, which matches Eq 11-12 above.\n",
    "    enhancement_factor = (1-(Z/9)*reduced_gradient(density, gradient_of_density))\n",
    "    numerator = (lda_exchange_energy(density)*enhancement_factor)+lda_correlation_energy(density)\n",
    "    denominator = lda_exchange_energy(density)\n",
    "    return (numerator/denominator)*fermi_wave_vector(density)\n",
    "\n",
    "density = np.arange(0.0,1.1,0.1)\n",
    "print(q_0(density,0.0))"
   ]
  },
  {
   "cell_type": "markdown",
   "metadata": {},
   "source": [
    "Appendix: Calculating LDA benchmark with LibXC.\n",
    "\n",
    "(N.B. This won't work without LibXC installed)"
   ]
  },
  {
   "cell_type": "code",
   "execution_count": 53,
   "metadata": {},
   "outputs": [
    {
     "ename": "ModuleNotFoundError",
     "evalue": "No module named 'pylibxc'",
     "output_type": "error",
     "traceback": [
      "\u001b[0;31m---------------------------------------------------------------------------\u001b[0m",
      "\u001b[0;31mModuleNotFoundError\u001b[0m                       Traceback (most recent call last)",
      "\u001b[0;32m<ipython-input-53-c46147e0e51b>\u001b[0m in \u001b[0;36m<module>\u001b[0;34m\u001b[0m\n\u001b[1;32m      1\u001b[0m \u001b[0;31m# Interaction with libxc taken from this page: https://www.tddft.org/programs/libxc/installation/#python-library\u001b[0m\u001b[0;34m\u001b[0m\u001b[0;34m\u001b[0m\u001b[0;34m\u001b[0m\u001b[0m\n\u001b[0;32m----> 2\u001b[0;31m \u001b[0;32mfrom\u001b[0m \u001b[0mpylibxc\u001b[0m \u001b[0;32mimport\u001b[0m \u001b[0mLibXCFunctional\u001b[0m\u001b[0;34m\u001b[0m\u001b[0;34m\u001b[0m\u001b[0m\n\u001b[0m\u001b[1;32m      3\u001b[0m \u001b[0;32mfrom\u001b[0m \u001b[0mnumpy\u001b[0m \u001b[0;32mimport\u001b[0m \u001b[0marange\u001b[0m\u001b[0;34m\u001b[0m\u001b[0;34m\u001b[0m\u001b[0m\n\u001b[1;32m      4\u001b[0m \u001b[0;34m\u001b[0m\u001b[0m\n\u001b[1;32m      5\u001b[0m \u001b[0minp\u001b[0m\u001b[0;34m=\u001b[0m\u001b[0;34m{\u001b[0m\u001b[0;34m}\u001b[0m\u001b[0;34m\u001b[0m\u001b[0;34m\u001b[0m\u001b[0m\n",
      "\u001b[0;31mModuleNotFoundError\u001b[0m: No module named 'pylibxc'"
     ]
    }
   ],
   "source": [
    "# Interaction with libxc taken from this page: https://www.tddft.org/programs/libxc/installation/#python-library\n",
    "from pylibxc import LibXCFunctional\n",
    "from numpy import arange\n",
    "\n",
    "inp={}\n",
    "rho=arange(0.0,1.1,0.1)\n",
    "print(rho[1])\n",
    "inp[\"rho\"] = rho\n",
    "for func_name in [\"LDA_X\", \"LDA_C_VWN\"]:\n",
    "    func = LibXCFunctional(func_name, \"unpolarized\")\n",
    "    results = func.compute(inp)\n",
    "    for key, value in results.items():\n",
    "        if key==\"zk\":\n",
    "            for i in range(len(rho)):\n",
    "                print(rho[i], value[0][i])"
   ]
  },
  {
   "cell_type": "code",
   "execution_count": null,
   "metadata": {},
   "outputs": [],
   "source": []
  }
 ],
 "metadata": {
  "kernelspec": {
   "display_name": "Python 3",
   "language": "python",
   "name": "python3"
  },
  "language_info": {
   "codemirror_mode": {
    "name": "ipython",
    "version": 3
   },
   "file_extension": ".py",
   "mimetype": "text/x-python",
   "name": "python",
   "nbconvert_exporter": "python",
   "pygments_lexer": "ipython3",
   "version": "3.9.0"
  }
 },
 "nbformat": 4,
 "nbformat_minor": 4
}
