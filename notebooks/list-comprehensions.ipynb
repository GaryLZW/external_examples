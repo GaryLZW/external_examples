{
  "nbformat": 4,
  "nbformat_minor": 0,
  "metadata": {
    "colab": {
      "name": "List_comprehensions.ipynb",
      "provenance": [],
      "collapsed_sections": [
        "Fo9ZQ4IijXfa",
        "BQs-SsDHJKzR",
        "dtr_ILgJJ3cw",
        "ZxEUy8lxPrxt",
        "mMrm2TJvRzvb",
        "k_0Bo-6JTiEm",
        "79kFMzxlTmn8",
        "xRfTZuOUiKRa"
      ]
    },
    "kernelspec": {
      "name": "python3",
      "display_name": "Python 3"
    },
    "language_info": {
      "name": "python"
    }
  },
  "cells": [
    {
      "cell_type": "markdown",
      "metadata": {
        "id": "64QNHRWbE0KD"
      },
      "source": [
        "# List comprehensions is a syntactic sugar\n",
        "\n",
        "# **You do not need them**\n",
        "\n",
        "# But they make code clear\n",
        "\n",
        "\n",
        "\n",
        "---\n",
        "\n"
      ]
    },
    {
      "cell_type": "markdown",
      "metadata": {
        "id": "Fo9ZQ4IijXfa"
      },
      "source": [
        "#Syntax"
      ]
    },
    {
      "cell_type": "markdown",
      "metadata": {
        "id": "BQs-SsDHJKzR"
      },
      "source": [
        "## Simple use case\n",
        "\n",
        "$L = \\{i^2 : i \\in [0, 10)\\}$"
      ]
    },
    {
      "cell_type": "code",
      "metadata": {
        "id": "dr4B-osqBbWd"
      },
      "source": [
        "%%timeit -n 100000\n",
        "L = []\n",
        "for i in range(10):\n",
        "  L.append(i**2)\n",
        "\n",
        "L"
      ],
      "execution_count": null,
      "outputs": []
    },
    {
      "cell_type": "code",
      "metadata": {
        "id": "gtTP5emCDK5l"
      },
      "source": [
        "%%timeit -n 100000\n",
        "\n",
        "L = [i**2 for i in range(10)] # inside out\n",
        "\n",
        "L"
      ],
      "execution_count": null,
      "outputs": []
    },
    {
      "cell_type": "markdown",
      "metadata": {
        "id": "aY5z0Ry1JTyt"
      },
      "source": [
        "---\n",
        "* \\+ shorter\n",
        "* \\+ looks like mathematical expression\n",
        "* \\+ clear expression of intention\n",
        "* \\+ no inconsistent states between lines\n",
        "* \\+ somewhat faster\n",
        "* \\- harder to debug\n",
        "\n",
        "\n",
        "---\n",
        "\n"
      ]
    },
    {
      "cell_type": "markdown",
      "metadata": {
        "id": "dtr_ILgJJ3cw"
      },
      "source": [
        "## With condition\n",
        "\n",
        "\n",
        "$L = \\{i^2 : i \\in [0, 10), i^2 \\bmod  4 = 1\\}$"
      ]
    },
    {
      "cell_type": "code",
      "metadata": {
        "id": "v4Z3Ev3aFQdd"
      },
      "source": [
        "%%timeit -n 100000\n",
        "\n",
        "L = []\n",
        "for i in range(10):\n",
        "  isq = i**2\n",
        "  if isq % 4 == 1:\n",
        "    L.append(isq)\n",
        "\n",
        "L"
      ],
      "execution_count": null,
      "outputs": []
    },
    {
      "cell_type": "code",
      "metadata": {
        "id": "i1w98xAkK6NL"
      },
      "source": [
        "%%timeit -n 100000\n",
        "\n",
        "L = [i**2 for i in range(10) if i**2 % 4 == 1]\n",
        "\n",
        "L"
      ],
      "execution_count": null,
      "outputs": []
    },
    {
      "cell_type": "markdown",
      "metadata": {
        "id": "ca0HEYVnLq1g"
      },
      "source": [
        "---\n",
        "* \\+ ...\n",
        "* \\- ...\n",
        "* \\- no temporary vairables, hence have to recompute $i^2$, hence slower\n",
        "\n",
        "\n",
        "---\n",
        "\n"
      ]
    },
    {
      "cell_type": "markdown",
      "metadata": {
        "id": "ZxEUy8lxPrxt"
      },
      "source": [
        "## Multiple loop variables\n",
        "\n",
        "$L = \\{10^ i + 10^{-j} : i \\in [1, 3], j \\in [0,2]\\}$"
      ]
    },
    {
      "cell_type": "code",
      "metadata": {
        "id": "9a5YzZgRPzqE"
      },
      "source": [
        " %%timeit -n 100000\n",
        "\n",
        "L = []\n",
        "for i in [1,2,3]:\n",
        "  for j in range(3):\n",
        "    L.append(10**i + 0.1**j)\n",
        "L"
      ],
      "execution_count": null,
      "outputs": []
    },
    {
      "cell_type": "code",
      "metadata": {
        "id": "o52mMrKlLnqq"
      },
      "source": [
        "%%timeit -n 100000\n",
        "\n",
        "L = [10**i + 0.1**j for i in [1,2,3] for j in range(3)]\n",
        "L"
      ],
      "execution_count": null,
      "outputs": []
    },
    {
      "cell_type": "code",
      "metadata": {
        "id": "7NguDpzFNk1c"
      },
      "source": [
        "L = [10**i + 0.1**j for i in [1,2,3] for j in range(3)]\n",
        "L2 = [10**i + 0.1**j for j in range(3) for i in [1,2,3]] # order of loops is respected\n",
        "print (L)\n",
        "print (L2)"
      ],
      "execution_count": null,
      "outputs": []
    },
    {
      "cell_type": "markdown",
      "metadata": {
        "id": "p8XNBzN5QKag"
      },
      "source": [
        "---\n",
        "Same *pro et contra*, but magnified\n",
        "\n",
        "\n",
        "---\n",
        "\n"
      ]
    },
    {
      "cell_type": "markdown",
      "metadata": {
        "id": "mMrm2TJvRzvb"
      },
      "source": [
        "## Multiple loop variables with multiple conditions\n",
        "\n",
        "$L = \\{(i,j) : i \\in [0, 2], j \\in [0,2], i \\bmod 2 = 0, i \\neq j \\}$\n",
        "\n",
        "\n"
      ]
    },
    {
      "cell_type": "code",
      "metadata": {
        "id": "8ptj9XUWR3IC"
      },
      "source": [
        "%%timeit -n 100000\n",
        "L = []\n",
        "for i in range(3):\n",
        "  if i%2 == 0:\n",
        "    for j in range(3):\n",
        "      if i != j:\n",
        "        L.append((i,j))\n",
        "L"
      ],
      "execution_count": null,
      "outputs": []
    },
    {
      "cell_type": "code",
      "metadata": {
        "id": "pZKbCRsrQDD4"
      },
      "source": [
        "%%timeit -n 100000\n",
        "L = [(i,j) for i in range(3) if i%2 == 0 for j in range(3) if i != j]\n",
        "L"
      ],
      "execution_count": null,
      "outputs": []
    },
    {
      "cell_type": "code",
      "metadata": {
        "id": "YJq_W7urXo2e"
      },
      "source": [
        "%%timeit -n 100000\n",
        "L = [(i,j) for i in range(3) for j in range(3) if i != j if i%2 == 0] # possible, but confusing and may give poor performance !!!\n",
        "L"
      ],
      "execution_count": null,
      "outputs": []
    },
    {
      "cell_type": "markdown",
      "metadata": {
        "id": "1t07KG8zSVym"
      },
      "source": [
        "---\n",
        "Same *pro et contra*, but magnified\n",
        "\n",
        "\n",
        "---"
      ]
    },
    {
      "cell_type": "markdown",
      "metadata": {
        "id": "k_0Bo-6JTiEm"
      },
      "source": [
        "# Usefull combinations with list comprehensions"
      ]
    },
    {
      "cell_type": "markdown",
      "metadata": {
        "id": "79kFMzxlTmn8"
      },
      "source": [
        "## Nested comprehensions"
      ]
    },
    {
      "cell_type": "code",
      "metadata": {
        "id": "lPVdQxIBThAv"
      },
      "source": [
        "L = []\n",
        "for x in range(10):\n",
        "  row = []\n",
        "  for y in range(10):\n",
        "    row.append(x*10 + y)\n",
        "  L.append(row)\n",
        "L"
      ],
      "execution_count": null,
      "outputs": []
    },
    {
      "cell_type": "code",
      "metadata": {
        "id": "LNuk71P4RCaI"
      },
      "source": [
        "L = [[x*10 + y for y in range(10)] for x in range(10)] # inverse order of loops!!\n",
        "L"
      ],
      "execution_count": null,
      "outputs": []
    },
    {
      "cell_type": "markdown",
      "metadata": {
        "id": "xRfTZuOUiKRa"
      },
      "source": [
        "## zip() and enumerate()"
      ]
    },
    {
      "cell_type": "code",
      "metadata": {
        "id": "zrD_ca2jhed4"
      },
      "source": [
        "L = [x - y for x, y in zip(range(10), range(10, 0, -1) ) ]\n",
        "L"
      ],
      "execution_count": null,
      "outputs": []
    },
    {
      "cell_type": "markdown",
      "metadata": {
        "id": "dhzIK9bniis9"
      },
      "source": [
        "## dict() creation from list of pairs"
      ]
    },
    {
      "cell_type": "code",
      "metadata": {
        "id": "4xFFYcjfihzM"
      },
      "source": [
        "D = dict([ ((x + 5) % 24, x ) for x in range(24) ])\n",
        "D"
      ],
      "execution_count": null,
      "outputs": []
    },
    {
      "cell_type": "code",
      "metadata": {
        "id": "ICSb8bTQiY1d"
      },
      "source": [
        ""
      ],
      "execution_count": null,
      "outputs": []
    },
    {
      "cell_type": "markdown",
      "metadata": {
        "id": "blfw4fmTk8oe"
      },
      "source": [
        "#Generator expressions"
      ]
    },
    {
      "cell_type": "code",
      "metadata": {
        "id": "gjrKT3uhmgQK"
      },
      "source": [
        "S = 0\n",
        "for i in range(1000000):\n",
        "  if i**2 % 4 == 1:\n",
        "    S += i**2\n",
        "print (S)"
      ],
      "execution_count": null,
      "outputs": []
    },
    {
      "cell_type": "code",
      "metadata": {
        "id": "hdGQh0YblALj"
      },
      "source": [
        "G = (i**2 for i in range(1000000) if i**2 % 4 == 1) # near-zero memory allocation!\n",
        "sum(G)\n"
      ],
      "execution_count": null,
      "outputs": []
    },
    {
      "cell_type": "code",
      "metadata": {
        "id": "4pL607KYmWok"
      },
      "source": [
        "G[10]"
      ],
      "execution_count": null,
      "outputs": []
    },
    {
      "cell_type": "code",
      "metadata": {
        "id": "vOP3OhREl686"
      },
      "source": [
        ""
      ],
      "execution_count": null,
      "outputs": []
    }
  ]
}