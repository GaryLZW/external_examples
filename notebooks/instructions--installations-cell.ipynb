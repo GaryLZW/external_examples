{
 "cells": [
  {
   "cell_type": "markdown",
   "metadata": {},
   "source": [
    "# Instructions to run CELL tutorials\n",
    "\n",
    "For running the `CELL` tutorials, we assume that you have a Conda installation. So, if you don't have it, first install Conda.\n",
    "\n",
    "Now, create a Conda environment for running the tutorials. For this, run the command:\n",
    "\n",
    "```bash\n",
    ">conda create -n cell python=3.6 pip\n",
    "```\n",
    "\n",
    "Now activate the environment with the command:\n",
    "\n",
    "```bash\n",
    ">conda activate cell\n",
    "```\n",
    "\n",
    "Remember that you have to activate the environment every time you open a new shell (you can de-activate an enviromnent with `conda deactivate`).\n",
    "\n",
    "Next, create the folder `cell_training`. Inside this folder, unzip the file `cell4c2c.zip` file that was given to you. Enter the `clusterx` folder and install CELL with the command:\n",
    "\n",
    "```bash\n",
    ">pip install -e .\n",
    "```\n",
    "\n",
    "(don't forget the dot at the end of the command). After a successful instalation create a new folder for running `CELL` tests:\n",
    "\n",
    "```bash\n",
    ">cd ..\n",
    ">mkdir test\n",
    ">cd test\n",
    "```\n",
    "\n",
    "The last command triggers the evaluation of all tests in `CELL`.\n",
    "\n",
    "To run the tutorials, enter the `tutorials` folder:\n",
    "\n",
    "```bash\n",
    ">cd ../tutorials\n",
    "```\n",
    "\n",
    "You will see four jupyter notebooks `tutorial1.ipynb` to `tutorial4.ipynb` and a json file `model_CuPt.json` that will be needed for tutorial 4.\n",
    "\n",
    "Now, register the conda environment in jupyter:\n",
    "\n",
    "```bash\n",
    ">python -m ipykernel install --user --name=cell\n",
    "```\n",
    "\n",
    "and open jupyter in a browser:\n",
    "\n",
    "```bash\n",
    ">jupyter notebook\n",
    "```\n",
    "\n",
    "Once jupyter notebook is open, you can open the tutorials and run them (don't forget selecting the correct kernel before running)."
   ]
  },
  {
   "cell_type": "code",
   "execution_count": null,
   "metadata": {},
   "outputs": [],
   "source": []
  },
  {
   "cell_type": "code",
   "execution_count": null,
   "metadata": {},
   "outputs": [],
   "source": []
  }
 ],
 "metadata": {
  "kernelspec": {
   "display_name": "Python 3",
   "language": "python",
   "name": "python3"
  },
  "language_info": {
   "codemirror_mode": {
    "name": "ipython",
    "version": 3
   },
   "file_extension": ".py",
   "mimetype": "text/x-python",
   "name": "python",
   "nbconvert_exporter": "python",
   "pygments_lexer": "ipython3",
   "version": "3.8.2"
  }
 },
 "nbformat": 4,
 "nbformat_minor": 4
}
