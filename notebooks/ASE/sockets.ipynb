{
 "cells": [
  {
   "cell_type": "markdown",
   "metadata": {},
   "source": [
    "\n",
    "# Sockets Calculator tutorial\n",
    "\n",
    "\n",
    "An introduction to the Sockets IO interface in ASE; more expansive API documentation is available here:\n",
    "https://wiki.fysik.dtu.dk/ase/ase/calculators/socketio/socketio.html\n",
    "\n",
    "The starting point is understanding the standard structure of an ASE calculation when you use a \"normal\" calculator defined for example as:"
   ]
  },
  {
   "cell_type": "code",
   "execution_count": 1,
   "metadata": {},
   "outputs": [],
   "source": [
    "from ase.calculators.aims import Aims\n",
    "\n",
    "fhi_calc = Aims(xc='pbe')"
   ]
  },
  {
   "cell_type": "markdown",
   "metadata": {},
   "source": [
    "This calc is then attached to any atoms object for energy/force/stress calculations"
   ]
  },
  {
   "cell_type": "code",
   "execution_count": 2,
   "metadata": {},
   "outputs": [],
   "source": [
    "from ase.io import read\n",
    "\n",
    "atoms = read('../../data/Fe-CO/fe-co_light.log')\n",
    "\n",
    "atoms.set_calculator(fhi_calc)"
   ]
  },
  {
   "cell_type": "markdown",
   "metadata": {},
   "source": [
    "Whenever you want to perform an energy/force/stress calculation with this `calculator` attached to an `atoms` object, the following process occurs:\n",
    "\n",
    "Write input file to disk -> Call MPI executable -> Run program -> Read output file from disk\n",
    "<!-- This would be much better as an image //-->\n",
    "\n",
    "The reading and writing of data, known as input/output or I/O, is time consuming; it's much more efficient if data can be transfered directly between executables:\n",
    "\n",
    "Call MPI executable -> Give input data -> Run program -> Return output data.\n",
    "<!-- This would be much better as an image //-->\n",
    "\n",
    "Sockets are a method of interfacing executables exactly for the purpose of avoiding data I/O and repeated `system` calls to run the MPI executable. \n",
    "\n",
    "In the simplest form we can create a `SocketsIOCalculator` thus:"
   ]
  },
  {
   "cell_type": "code",
   "execution_count": 3,
   "metadata": {},
   "outputs": [],
   "source": [
    "from ase.calculators.socketio import SocketIOCalculator\n",
    "\n",
    "port = 12345\n",
    "\n",
    "sockets_calc = SocketIOCalculator(calc=fhi_calc,  \n",
    "                                  port=port)"
   ]
  },
  {
   "cell_type": "markdown",
   "metadata": {},
   "source": [
    "FHI-aims *needs to know* that we want to use the sockets connection, so we need to give it information on how we will connect also. We can edit any calculator parameter with `set()`:"
   ]
  },
  {
   "cell_type": "code",
   "execution_count": 4,
   "metadata": {},
   "outputs": [
    {
     "data": {
      "text/plain": [
       "{'use_pimd_wrapper': ('localhost', 12345)}"
      ]
     },
     "execution_count": 4,
     "metadata": {},
     "output_type": "execute_result"
    }
   ],
   "source": [
    "fhi_calc.set(use_pimd_wrapper=('localhost', port))"
   ]
  },
  {
   "cell_type": "markdown",
   "metadata": {},
   "source": [
    "Now we can attach the `sockets_calc` to our atoms objects for any calculation:"
   ]
  },
  {
   "cell_type": "code",
   "execution_count": 5,
   "metadata": {},
   "outputs": [],
   "source": [
    "atoms.set_calculator(sockets_calc)"
   ]
  },
  {
   "cell_type": "markdown",
   "metadata": {},
   "source": [
    "When using FHI-aims in this manner, the MPI execution remains the same (`mpirun -np ....`) but it is important to know that the executable will **not** close at the end of the first calculation; instead, *it will remain active*, waiting for further commands. Therefore it's important to close everything down at the end of a calculation with:"
   ]
  },
  {
   "cell_type": "code",
   "execution_count": 6,
   "metadata": {},
   "outputs": [],
   "source": [
    "sockets_calc.close()"
   ]
  },
  {
   "cell_type": "markdown",
   "metadata": {},
   "source": [
    "An alternative is to use the `with` statement for temporary use of a variable:"
   ]
  },
  {
   "cell_type": "code",
   "execution_count": 7,
   "metadata": {},
   "outputs": [],
   "source": [
    "with SocketIOCalculator(calc=fhi_calc,  port=port) as calc:\n",
    "    \n",
    "    atoms.set_calculator(sockets_calc)\n",
    "    \n",
    "    #... create opt/dyn object and run calculations ...\n",
    "    \n",
    "#... and then continue"
   ]
  },
  {
   "cell_type": "markdown",
   "metadata": {},
   "source": [
    "With everything combined together, a full example script might look like:"
   ]
  },
  {
   "cell_type": "code",
   "execution_count": 8,
   "metadata": {},
   "outputs": [],
   "source": [
    "from ase import Atoms\n",
    "from ase.calculators.aims import Aims\n",
    "from ase.calculators.socketio import SocketIOCalculator\n",
    "from ase.optimize import BFGS \n",
    "\n",
    "# Set Sockets port\n",
    "port = 12345\n",
    "\n",
    "# Build molecule\n",
    "water = Atoms('HOH', [(1, 0, 0), (0, 0, 0), (0, 1, 0)])\n",
    "\n",
    "# Basic method to setup FHI-aims up calculator\n",
    "fhi_calc = Aims(xc='PBE',\n",
    "                use_pimd_wrapper=('localhost', port))\n",
    "\n",
    "# Use the sockets calculator\n",
    "with SocketIOCalculator(fhi_calc, port=port) as sockets_calc:\n",
    "\n",
    "    water.set_calculator(sockets_calc)\n",
    "\n",
    "    # Setup optimisation\n",
    "    dynamics = BFGS(water, trajectory='square_water.traj')\n",
    "\n",
    "    # Run optimisation. Enable only if you actually have the FHI-aims binary set correctly!\n",
    "    #dynamics.run(fmax=0.01)"
   ]
  },
  {
   "cell_type": "markdown",
   "metadata": {},
   "source": [
    "There are a couple of extra technical notes to make for different systems:\n",
    "\n",
    "- **On computers where Python runs on the work nodes, alongside the MPI** (e.g. Hawk), the sockets calculator can be setup as in these examples with the connecting host being ``localhost``\n",
    "\n",
    "- **On computers where Python runs on launcher nodes, different to the MPI** (e.g. Isambard, ARCHER), the FHI calculator *needs* to know the name of the launcher node where it will receive a connection from. This can be simplly picked up by:"
   ]
  },
  {
   "cell_type": "code",
   "execution_count": 9,
   "metadata": {},
   "outputs": [
    {
     "data": {
      "text/plain": [
       "{'use_pimd_wrapper': ('Andrews-MacBook-Pro.local', 12345)}"
      ]
     },
     "execution_count": 9,
     "metadata": {},
     "output_type": "execute_result"
    }
   ],
   "source": [
    "import socket\n",
    "\n",
    "hostname = socket.gethostname()\n",
    "\n",
    "fhi_calc.set(use_pimd_wrapper=(hostname, port))"
   ]
  },
  {
   "cell_type": "markdown",
   "metadata": {},
   "source": [
    "Finally, all of the settings can be simplified by using some of the functionality embedded into `carmm`. Instead of building and connecting the `Aims` and `SocketsIO` calculators, there is a function available that returns these default, connected calculators for the user (factoring in hostnames if necessary):"
   ]
  },
  {
   "cell_type": "code",
   "execution_count": 1,
   "metadata": {},
   "outputs": [],
   "source": [
    "from carmm.run.aims_calculator import get_aims_and_sockets_calculator\n",
    "\n",
    "# Example when ASE and MPI run on the same nodes. Dimensions=0 means a molecular system\n",
    "sockets_calc, fhi_calc = get_aims_and_sockets_calculator(dimensions=0)\n",
    "\n",
    "#... do some work ...\n",
    "\n",
    "# At the end of a sockets calculation, you MUST close the calculator for safety\n",
    "sockets_calc.close()"
   ]
  },
  {
   "cell_type": "markdown",
   "metadata": {},
   "source": [
    "Remember **always** in this case to personalise the FHI-aims settings."
   ]
  }
 ],
 "metadata": {
  "kernelspec": {
   "display_name": "Python 3",
   "language": "python",
   "name": "python3"
  },
  "language_info": {
   "codemirror_mode": {
    "name": "ipython",
    "version": 3
   },
   "file_extension": ".py",
   "mimetype": "text/x-python",
   "name": "python",
   "nbconvert_exporter": "python",
   "pygments_lexer": "ipython3",
   "version": "3.7.7"
  }
 },
 "nbformat": 4,
 "nbformat_minor": 1
}
