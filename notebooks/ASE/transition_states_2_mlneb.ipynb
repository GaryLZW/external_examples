{
 "cells": [
  {
   "cell_type": "markdown",
   "metadata": {},
   "source": [
    "# Calculating transition states - part 2\n",
    "\n",
    "Machine Learning NEB by CatLearn (MLNEB)\n",
    "\n",
    "NEB images are generated and added dynamically based on the Gaussian Training Process. Each image is a product of a single-point calculation rather than optimisation. Overall efficiency in terms of resources should be increased by an order of magnitude.\n",
    "\n",
    "If you use CatLearn's ML-NEB module, please cite:\n",
    "\n",
    "J. A. Garrido Torres, M. H. Hansen, P. C. Jennings, J. R. Boes and T. Bligaard. Phys. Rev. Lett. 122, 156001. https://journals.aps.org/prl/abstract/10.1103/PhysRevLett.122.156001\n",
    "\n",
    "\n",
    "Start with reading the toy model of Au FCC(111) surface and 2 Cu ad atoms generated in part 1 (i.e. please complete the first transition state tutorial before commencing here!)"
   ]
  },
  {
   "cell_type": "code",
   "execution_count": null,
   "metadata": {},
   "outputs": [
    {
     "name": "stderr",
     "output_type": "stream",
     "text": [
      "/home/andrew/.local/lib/python3.10/site-packages/ase/parallel.py:350: FutureWarning: ase.parallel.rank has been deprecated.  Please use ase.parallel.world.rank instead.\n",
      "  warnings.warn('ase.parallel.{name} has been deprecated.  '\n",
      "/home/andrew/.local/lib/python3.10/site-packages/ase/atoms.py:967: VisibleDeprecationWarning: Use get_global_number_of_atoms() instead\n",
      "  warnings.warn('Use get_global_number_of_atoms() instead',\n"
     ]
    },
    {
     "name": "stdout",
     "output_type": "stream",
     "text": [
      " \n",
      "       ____      _   _                          \n",
      "      / ___|__ _| |_| |    ___  __ _ _ __ _ __  \n",
      "     | |   / _` | __| |   / _ \\/ _` | '__| '_ \\ \n",
      "     | |__| (_| | |_| |__|  __/ (_| | |  | | | |\n",
      "      \\____\\__,_|\\__|_____\\___|\\__,_|_|  |_| |_| ML-NEB 0.6.2\n",
      "      \n",
      "      \n",
      "+--------+------+---------------------+---------------------+---------------------+--------------+--------------+----------+\n",
      "| Method | Step |        Time         | Pred. barrier (-->) | Pred. barrier (<--) | Max. uncert. | Avg. uncert. |   fmax   |\n",
      "+--------+------+---------------------+---------------------+------------------+--------------+--------------+----------+\n",
      "| ML-NEB |     0| 2022-10-26 12:36:51 |             0.000000|             0.000000|      0.000000|      0.000000|  0.043665|\n",
      "+--------+------+---------------------+---------------------+------------------+--------------+--------------+----------+\n",
      "\n",
      "\n",
      "Training a Gaussian process...\n",
      "Number of training points: 8\n",
      "Gaussian process trained.\n"
     ]
    },
    {
     "name": "stderr",
     "output_type": "stream",
     "text": [
      "/home/andrew/.local/lib/python3.10/site-packages/ase/utils/__init__.py:62: FutureWarning: NEBTools.get_fit() is deprecated.  Please use ase.utils.forcecurve.fit_images(images).\n",
      "  warnings.warn(warning)\n"
     ]
    }
   ],
   "source": [
    "from catlearn.optimize.mlneb import MLNEB\n",
    "from ase.calculators.emt import EMT\n",
    "\n",
    "# Read input structures\n",
    "from ase.io import read\n",
    "slab_initial = read(\"slab_initial.traj\")\n",
    "slab_final = read(\"slab_final.traj\")\n",
    "\n",
    "# Desired nuber of images including start and end point\n",
    "# Can be fraction e.g. 0.25, then the number of imaages is then determined automatically based on MEP length\n",
    "n = 7 \n",
    "\n",
    "# Supply your calculator of choice\n",
    "calculator = EMT()\n",
    "\n",
    "# Choose interpolation as automatically generated linear/idpp or own suplied\n",
    "interpolation = \"idpp\" \n",
    "\n",
    "# Setup the Catlearn object for MLNEB\n",
    "neb_catlearn = MLNEB(start=slab_initial,\n",
    "                     end=slab_final,\n",
    "                     ase_calc=calculator,\n",
    "                     n_images=n,\n",
    "                     interpolation=interpolation, \n",
    "                     restart=True) # When True looks for evaluated_structures.traj\n",
    "\n",
    "# Run the NEB optimisation. Adjust fmax to desired convergence criteria, usually 0.01 ev/A\n",
    "neb_catlearn.run(fmax=0.05, trajectory='ML-NEB.traj', full_output=False, steps=75)\n",
    "\n",
    "# Warning, this calculation can take a long time in serial once past 100 iterations.\n",
    "# Might not be ideal for trivial systems, e.g. small molecules in the gas phase.\n",
    "\n"
   ]
  },
  {
   "cell_type": "markdown",
   "metadata": {},
   "source": [
    "Now let's analyse the output, if dealing with one calculation it is sufficient to use\n",
    "ASE GUI and choose Tools --> NEB to see the plot"
   ]
  },
  {
   "cell_type": "code",
   "execution_count": null,
   "metadata": {},
   "outputs": [],
   "source": [
    "import matplotlib.pyplot as plt\n",
    "from ase.neb import NEBTools\n",
    "from ase.io import read\n",
    "\n",
    "nebtools = NEBTools(read(\"ML-NEB.traj@:\"))\n",
    "\n",
    "# Get the calculated barrier and the energy change of the reaction.\n",
    "Ef, dE = nebtools.get_barrier()\n",
    "\n",
    "# Get the actual maximum force at this point in the simulation.\n",
    "max_force = nebtools.get_fmax()\n",
    "\n",
    "# Create a figure like that coming from ASE-GUI.\n",
    "fig = nebtools.plot_band()\n",
    "fig.savefig('barrier-mlneb.png')"
   ]
  }
 ],
 "metadata": {
  "kernelspec": {
   "display_name": "Python 3 (ipykernel)",
   "language": "python",
   "name": "python3"
  },
  "language_info": {
   "codemirror_mode": {
    "name": "ipython",
    "version": 3
   },
   "file_extension": ".py",
   "mimetype": "text/x-python",
   "name": "python",
   "nbconvert_exporter": "python",
   "pygments_lexer": "ipython3",
   "version": "3.10.7"
  }
 },
 "nbformat": 4,
 "nbformat_minor": 4
}
