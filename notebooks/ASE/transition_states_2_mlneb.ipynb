{
 "cells": [
  {
   "cell_type": "markdown",
   "metadata": {},
   "source": [
    "# Calculating transition states - part 2\n",
    "\n",
    "Machine Learning NEB by CatLearn (MLNEB)\n",
    "\n",
    "NEB images are generated and added dynamically based on the Gaussian Training Process. Each image is a product of a single-point calculation rather than optimisation. Overall efficiency in terms of resources should be increased by an order of magnitude.\n",
    "\n",
    "If you use CatLearn's ML-NEB module, please cite:\n",
    "\n",
    "J. A. Garrido Torres, M. H. Hansen, P. C. Jennings, J. R. Boes and T. Bligaard. Phys. Rev. Lett. 122, 156001. https://journals.aps.org/prl/abstract/10.1103/PhysRevLett.122.156001\n",
    "\n",
    "\n",
    "Start with reading the toy model of Au FCC(111) surface and 2 Cu ad atoms generated in part 1."
   ]
  },
  {
   "cell_type": "code",
   "execution_count": 1,
   "metadata": {},
   "outputs": [
    {
     "name": "stderr",
     "output_type": "stream",
     "text": [
      "/home/igor/.local/lib/python3.6/site-packages/ase/parallel.py:342: FutureWarning: ase.parallel.rank has been deprecated.  Please use ase.parallel.world.rank instead.\n",
      "  FutureWarning)\n",
      "/home/igor/.local/lib/python3.6/site-packages/ase/atoms.py:972: VisibleDeprecationWarning: Use get_global_number_of_atoms() instead\n",
      "  np.VisibleDeprecationWarning)\n"
     ]
    },
    {
     "name": "stdout",
     "output_type": "stream",
     "text": [
      " \n",
      "       ____      _   _                          \n",
      "      / ___|__ _| |_| |    ___  __ _ _ __ _ __  \n",
      "     | |   / _` | __| |   / _ \\/ _` | '__| '_ \\ \n",
      "     | |__| (_| | |_| |__|  __/ (_| | |  | | | |\n",
      "      \\____\\__,_|\\__|_____\\___|\\__,_|_|  |_| |_| ML-NEB 0.6.2\n",
      "      \n",
      "      \n",
      "+--------+------+---------------------+---------------------+---------------------+--------------+--------------+----------+\n",
      "| Method | Step |        Time         | Pred. barrier (-->) | Pred. barrier (<--) | Max. uncert. | Avg. uncert. |   fmax   |\n",
      "+--------+------+---------------------+---------------------+------------------+--------------+--------------+----------+\n",
      "| ML-NEB |     0| 2020-09-21 11:46:59 |             0.000000|             0.000000|      0.000000|      0.000000|  0.018158|\n",
      "+--------+------+---------------------+---------------------+------------------+--------------+--------------+----------+\n",
      "+--------+------+---------------------+---------------------+---------------------+--------------+--------------+----------+\n",
      "| Method | Step |        Time         | Pred. barrier (-->) | Pred. barrier (<--) | Max. uncert. | Avg. uncert. |   fmax   |\n",
      "+--------+------+---------------------+---------------------+------------------+--------------+--------------+----------+\n",
      "| ML-NEB |     0| 2020-09-21 11:46:59 |             0.000000|             0.000000|      0.000000|      0.000000|  0.018158|\n",
      "| ML-NEB |     1| 2020-09-21 11:46:59 |             0.000000|             0.000000|      0.000000|      0.000000|  0.737986|\n",
      "+--------+------+---------------------+---------------------+------------------+--------------+--------------+----------+\n",
      "\n",
      "\n",
      "Training a Gaussian process...\n",
      "Number of training points: 3\n",
      "Gaussian process trained.\n"
     ]
    },
    {
     "name": "stderr",
     "output_type": "stream",
     "text": [
      "/home/igor/.local/lib/python3.6/site-packages/scipy/optimize/_numdiff.py:519: RuntimeWarning: invalid value encountered in true_divide\n",
      "  J_transposed[i] = df / dx\n",
      "/home/igor/.local/lib/python3.6/site-packages/ase/utils/__init__.py:530: FutureWarning: NEBTools.get_fit() is deprecated.  Please use ase.utils.forcecurve.fit_images(images).\n",
      "  warnings.warn(warning)\n"
     ]
    },
    {
     "name": "stdout",
     "output_type": "stream",
     "text": [
      "\n",
      "\n",
      "+--------+------+---------------------+---------------------+---------------------+--------------+--------------+----------+\n",
      "| Method | Step |        Time         | Pred. barrier (-->) | Pred. barrier (<--) | Max. uncert. | Avg. uncert. |   fmax   |\n",
      "+--------+------+---------------------+---------------------+------------------+--------------+--------------+----------+\n",
      "| ML-NEB |     0| 2020-09-21 11:47:05 |             0.000000|             0.000000|      0.000000|      0.000000|  0.018158|\n",
      "| ML-NEB |     1| 2020-09-21 11:47:05 |             0.000000|             0.000000|      0.000000|      0.000000|  0.737986|\n",
      "| ML-NEB |     2| 2020-09-21 11:47:05 |             0.143640|             0.004190|      0.096940|      0.054190|  1.800680|\n",
      "+--------+------+---------------------+---------------------+------------------+--------------+--------------+----------+\n",
      "\n",
      "\n",
      "Training a Gaussian process...\n",
      "Number of training points: 4\n",
      "Gaussian process trained.\n",
      "\n",
      "\n",
      "+--------+------+---------------------+---------------------+---------------------+--------------+--------------+----------+\n",
      "| Method | Step |        Time         | Pred. barrier (-->) | Pred. barrier (<--) | Max. uncert. | Avg. uncert. |   fmax   |\n",
      "+--------+------+---------------------+---------------------+------------------+--------------+--------------+----------+\n",
      "| ML-NEB |     0| 2020-09-21 11:47:07 |             0.000000|             0.000000|      0.000000|      0.000000|  0.018158|\n",
      "| ML-NEB |     1| 2020-09-21 11:47:07 |             0.000000|             0.000000|      0.000000|      0.000000|  0.737986|\n",
      "| ML-NEB |     2| 2020-09-21 11:47:07 |             0.143640|             0.004190|      0.096940|      0.054190|  1.800680|\n",
      "| ML-NEB |     3| 2020-09-21 11:47:07 |             0.255380|             0.115940|      0.013510|      0.012790|  0.184834|\n",
      "+--------+------+---------------------+---------------------+------------------+--------------+--------------+----------+\n",
      "\n",
      "\n",
      "Training a Gaussian process...\n",
      "Number of training points: 5\n",
      "Gaussian process trained.\n",
      "\n",
      "\n",
      "+--------+------+---------------------+---------------------+---------------------+--------------+--------------+----------+\n",
      "| Method | Step |        Time         | Pred. barrier (-->) | Pred. barrier (<--) | Max. uncert. | Avg. uncert. |   fmax   |\n",
      "+--------+------+---------------------+---------------------+------------------+--------------+--------------+----------+\n",
      "| ML-NEB |     0| 2020-09-21 11:47:10 |             0.000000|             0.000000|      0.000000|      0.000000|  0.018158|\n",
      "| ML-NEB |     1| 2020-09-21 11:47:10 |             0.000000|             0.000000|      0.000000|      0.000000|  0.737986|\n",
      "| ML-NEB |     2| 2020-09-21 11:47:10 |             0.143640|             0.004190|      0.096940|      0.054190|  1.800680|\n",
      "| ML-NEB |     3| 2020-09-21 11:47:10 |             0.255380|             0.115940|      0.013510|      0.012790|  0.184834|\n",
      "| ML-NEB |     4| 2020-09-21 11:47:10 |             0.253720|             0.114270|      0.022990|      0.016150|  0.464313|\n",
      "+--------+------+---------------------+---------------------+------------------+--------------+--------------+----------+\n",
      "\n",
      "\n",
      "Training a Gaussian process...\n",
      "Number of training points: 6\n",
      "Gaussian process trained.\n",
      "\n",
      "\n",
      "+--------+------+---------------------+---------------------+---------------------+--------------+--------------+----------+\n",
      "| Method | Step |        Time         | Pred. barrier (-->) | Pred. barrier (<--) | Max. uncert. | Avg. uncert. |   fmax   |\n",
      "+--------+------+---------------------+---------------------+------------------+--------------+--------------+----------+\n",
      "| ML-NEB |     0| 2020-09-21 11:47:14 |             0.000000|             0.000000|      0.000000|      0.000000|  0.018158|\n",
      "| ML-NEB |     1| 2020-09-21 11:47:14 |             0.000000|             0.000000|      0.000000|      0.000000|  0.737986|\n",
      "| ML-NEB |     2| 2020-09-21 11:47:14 |             0.143640|             0.004190|      0.096940|      0.054190|  1.800680|\n",
      "| ML-NEB |     3| 2020-09-21 11:47:14 |             0.255380|             0.115940|      0.013510|      0.012790|  0.184834|\n",
      "| ML-NEB |     4| 2020-09-21 11:47:14 |             0.253720|             0.114270|      0.022990|      0.016150|  0.464313|\n",
      "| ML-NEB |     5| 2020-09-21 11:47:14 |             0.257540|             0.118090|      0.014200|      0.012020|  0.032833|\n",
      "+--------+------+---------------------+---------------------+------------------+--------------+--------------+----------+\n",
      "Congratulations! Stationary point is found! Check the file 'evaluated_structures.traj' using ASE.\n",
      "\n",
      "\n",
      "Training a Gaussian process...\n",
      "Number of training points: 7\n",
      "Gaussian process trained.\n",
      "Congratulations! Your ML NEB is converged. If you want to plot the ML NEB predicted path you should check the files 'results_neb.csv' and 'results_neb_interpolation.csv'.\n",
      "The optimized predicted path can be found in:  ML-NEB.traj\n",
      "Number of steps performed in total: 5\n",
      "----------------------------------------------------------------------------------------------------------------------\n",
      "You are using ML-NEB and CatLearn. Please cite: \n",
      "[1] J. A. Garrido Torres, M. H. Hansen, P. C. Jennings, J. R. Boes and T. Bligaard. Phys. Rev. Lett. 122, 156001. https://journals.aps.org/prl/abstract/10.1103/PhysRevLett.122.156001 \n",
      "[2] M. H. Hansen, J. A. Garrido Torres, P. C. Jennings, Z. Wang, J. R. Boes, O. G. Mamun and T. Bligaard. An Atomistic Machine Learning Packagefor Surface Science and Catalysis. https://arxiv.org/abs/1904.00904 \n",
      "----------------------------------------------------------------------------------------------------------------------\n"
     ]
    }
   ],
   "source": [
    "from catlearn.optimize.mlneb import MLNEB\n",
    "from ase.calculators.emt import EMT\n",
    "\n",
    "# Read input structures\n",
    "from ase.io import read\n",
    "slab_initial = read(\"slab_initial.traj\")\n",
    "slab_final = read(\"slab_final.traj\")\n",
    "\n",
    "# Desired nuber of images including start and end point\n",
    "# Can be fraction e.g. 0.25, then the number of imaages is then determined automatically based on MEP length\n",
    "n = 7 \n",
    "\n",
    "# Supply your calculator of choice\n",
    "calculator = EMT()\n",
    "\n",
    "# Choose interpolation as automatically generated linear/idpp or own suplied\n",
    "interpolation = \"idpp\" \n",
    "\n",
    "# Setup the Catlearn object for MLNEB\n",
    "neb_catlearn = MLNEB(start=slab_initial,\n",
    "                     end=slab_final,\n",
    "                     ase_calc=calculator,\n",
    "                     n_images=n,\n",
    "                     interpolation=interpolation, \n",
    "                     restart=True) # When True looks for evaluated_structures.traj\n",
    "\n",
    "# Run the NEB optimisation. Adjust fmax to desired convergence criteria, usually 0.01 ev/A\n",
    "neb_catlearn.run(fmax=0.05, trajectory='ML-NEB.traj', full_output=False, steps=75)\n",
    "\n",
    "# Warning, this calculation can take a long time in serial once past 100 iterations.\n",
    "# Might not be ideal for trivial systems, e.g. small molecules in the gas phase.\n",
    "\n"
   ]
  },
  {
   "cell_type": "code",
   "execution_count": 2,
   "metadata": {},
   "outputs": [],
   "source": [
    "# Check the output of MLNEB\n",
    "from ase.io import read\n",
    "#view(read(\"ML-NEB.traj@:\"))"
   ]
  },
  {
   "cell_type": "code",
   "execution_count": 3,
   "metadata": {},
   "outputs": [
    {
     "name": "stderr",
     "output_type": "stream",
     "text": [
      "In /home/igor/.local/lib/python3.6/site-packages/matplotlib/mpl-data/stylelib/_classic_test.mplstyle: \n",
      "The text.latex.preview rcparam was deprecated in Matplotlib 3.3 and will be removed two minor releases later.\n",
      "In /home/igor/.local/lib/python3.6/site-packages/matplotlib/mpl-data/stylelib/_classic_test.mplstyle: \n",
      "The mathtext.fallback_to_cm rcparam was deprecated in Matplotlib 3.3 and will be removed two minor releases later.\n",
      "In /home/igor/.local/lib/python3.6/site-packages/matplotlib/mpl-data/stylelib/_classic_test.mplstyle: Support for setting the 'mathtext.fallback_to_cm' rcParam is deprecated since 3.3 and will be removed two minor releases later; use 'mathtext.fallback : 'cm' instead.\n",
      "In /home/igor/.local/lib/python3.6/site-packages/matplotlib/mpl-data/stylelib/_classic_test.mplstyle: \n",
      "The validate_bool_maybe_none function was deprecated in Matplotlib 3.3 and will be removed two minor releases later.\n",
      "In /home/igor/.local/lib/python3.6/site-packages/matplotlib/mpl-data/stylelib/_classic_test.mplstyle: \n",
      "The savefig.jpeg_quality rcparam was deprecated in Matplotlib 3.3 and will be removed two minor releases later.\n",
      "In /home/igor/.local/lib/python3.6/site-packages/matplotlib/mpl-data/stylelib/_classic_test.mplstyle: \n",
      "The keymap.all_axes rcparam was deprecated in Matplotlib 3.3 and will be removed two minor releases later.\n",
      "In /home/igor/.local/lib/python3.6/site-packages/matplotlib/mpl-data/stylelib/_classic_test.mplstyle: \n",
      "The animation.avconv_path rcparam was deprecated in Matplotlib 3.3 and will be removed two minor releases later.\n",
      "In /home/igor/.local/lib/python3.6/site-packages/matplotlib/mpl-data/stylelib/_classic_test.mplstyle: \n",
      "The animation.avconv_args rcparam was deprecated in Matplotlib 3.3 and will be removed two minor releases later.\n"
     ]
    },
    {
     "data": {
      "image/png": "[encoded data removed]",
      "text/plain": [
       "<Figure size 432x288 with 1 Axes>"
      ]
     },
     "metadata": {
      "needs_background": "light"
     },
     "output_type": "display_data"
    }
   ],
   "source": [
    "# Now let's analyse the output, if dealing with one calculation it is sufficient to use\n",
    "# ASE GUI and choose Tools --> NEB to see the plot\n",
    "\n",
    "import matplotlib.pyplot as plt\n",
    "from ase.neb import NEBTools\n",
    "from ase.io import read\n",
    "\n",
    "nebtools = NEBTools(read(\"ML-NEB.traj@:\"))\n",
    "\n",
    "# Get the calculated barrier and the energy change of the reaction.\n",
    "Ef, dE = nebtools.get_barrier()\n",
    "\n",
    "# Get the actual maximum force at this point in the simulation.\n",
    "max_force = nebtools.get_fmax()\n",
    "\n",
    "# Create a figure like that coming from ASE-GUI.\n",
    "fig = nebtools.plot_band()\n",
    "fig.savefig('barrier-mlneb.png')"
   ]
  }
 ],
 "metadata": {
  "kernelspec": {
   "display_name": "Python 3",
   "language": "python",
   "name": "python3"
  },
  "language_info": {
   "codemirror_mode": {
    "name": "ipython",
    "version": 3
   },
   "file_extension": ".py",
   "mimetype": "text/x-python",
   "name": "python",
   "nbconvert_exporter": "python",
   "pygments_lexer": "ipython3",
   "version": "3.6.9"
  }
 },
 "nbformat": 4,
 "nbformat_minor": 4
}
