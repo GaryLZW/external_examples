{
 "cells": [
  {
   "cell_type": "markdown",
   "id": "531d3ce2",
   "metadata": {},
   "source": [
    "# ASE databases\n",
    "\n",
    "**ase-db: A database for ASE calculations**\n",
    "\n",
    "The ASE database feature offers a powerful way to explore and manage batches of calculations. It can be very convenient to parse a number of output files, scattered across a directory structure, to form a single file with all the useful data. \n",
    "\n",
    "**ASE supports three backends:**\n",
    "    \n",
    "* `SQLite3` is fully-featured relational database system which stores databases in local files. It's fast and widely-used for data serialisation in software. The file format is binary. You can inspect and modify ASE-generated SQLite3 files with regular sqlite3 tools, but some parameters (e.g. atomic positions) are stored as binary blobs.\n",
    "* `JSON` is a simple text-based format for data serialisation. This can be a good choice for long-term archiving and publication support. It will always be readable, but it's human-friendliness is overrated...\n",
    "* `PostgreSQL` is a more traditional server-hosted relational database system. This might be suitable for a group sharing data, but the configuration is correspondingly more complex.\n",
    "\n",
    "**Resources:**\n",
    "* For a more exhaustive overview see official ASE tutorial: https://wiki.fysik.dtu.dk/ase/ase/db/db.html#querying\n",
    "* Nice notebook with an overview of the topic, though it uses old python 2 syntax: https://github.com/WMD-group/ASE-Tutorials/blob/master/ase-db/ase-db.ipynb\n",
    "* ASE example of incorporating databases into the workflow: https://wiki.fysik.dtu.dk/ase/ase/db/db.html?highlight=database - sqlite3 library might not be readily available on all python versions on the supercomputers! (e.g. HAWK has that issue)\n",
    "* Server side databases using ASE db: https://ase-workshop.materialsmodeling.org/assets/talks/kirsten-t-winther.pdf\n"
   ]
  },
  {
   "cell_type": "markdown",
   "id": "d5afea7a",
   "metadata": {},
   "source": [
    "To get into the details, let's create some toy models.\n",
    "\n",
    "Firstly we will create H_2, CO_2 and O_2 molecules and calculate their potential energy with the EMT calculator:"
   ]
  },
  {
   "cell_type": "code",
   "execution_count": 1,
   "id": "3d0f4b1f",
   "metadata": {},
   "outputs": [
    {
     "name": "stdout",
     "output_type": "stream",
     "text": [
      "H2 : 1.1588634908331514 eV\n",
      "CO2 : 0.8862766630335832 eV\n",
      "O2 : 0.9226813260843298 eV\n"
     ]
    }
   ],
   "source": [
    "from ase.build import molecule\n",
    "from ase.calculators.emt import EMT\n",
    "\n",
    "\n",
    "H2 = molecule(\"H2\")\n",
    "CO2 = molecule(\"CO2\")\n",
    "O2 = molecule(\"O2\")\n",
    "\n",
    "# Make the toy models more realistic, attach calculators and calculate energy\n",
    "for i in [H2, CO2, O2]:\n",
    "    i.calc = EMT()\n",
    "    print(i.symbols, \":\", i.get_potential_energy(), \"eV\")"
   ]
  },
  {
   "cell_type": "markdown",
   "id": "d8b1bbb9",
   "metadata": {},
   "source": [
    "Now we have some data, let's put this information into a database.\n",
    "\n",
    "To get in touch with a database, we need to use the `connect()` function from `ase.db`. By default, data is appended to the database; if we want to start a new databasse, we must set `append=False` during initialisation (Note: this will overwrite existing data!)\n",
    "\n",
    "Importantly, as written we don't need to repeatedly open/close the database to add data - `with` allows us to keep the database object open for as long as needed to add all the information, and then automatically closes once the code segment is finished. This is computationally efficient (and makes sure we close the output, which is good practice!)"
   ]
  },
  {
   "cell_type": "code",
   "execution_count": 2,
   "id": "1c165119",
   "metadata": {},
   "outputs": [
    {
     "name": "stdout",
     "output_type": "stream",
     "text": [
      "Database is now connected: <ase.db.sqlite.SQLite3Database object at 0x7fdacec8af70>\n"
     ]
    }
   ],
   "source": [
    "from ase.db import connect\n",
    "\n",
    "with connect(\"test_database.db\", append=False) as db:\n",
    "    print(\"Database is now connected:\", db) # Now we have a db object"
   ]
  },
  {
   "cell_type": "markdown",
   "id": "be37b257",
   "metadata": {},
   "source": [
    "Now we've opened the database, we indent our actions and add data with `db.write()`. Here, we natively pass in the atoms object, plus any additional data we want - in this case we've included some `comment`, and also for hydrogen a dictionary with the H-H bond distance and the initial structure."
   ]
  },
  {
   "cell_type": "code",
   "execution_count": 3,
   "id": "04ab39e1",
   "metadata": {},
   "outputs": [
    {
     "data": {
      "text/plain": [
       "3"
      ]
     },
     "execution_count": 3,
     "metadata": {},
     "output_type": "execute_result"
    }
   ],
   "source": [
    "    import numpy as np # Needed for bond distance calculation\n",
    "    db.write(H2, comment=\"hydrogen\",\n",
    "             data={'HH_distance':np.linalg.norm(H2[0].position-H2[1].position),\n",
    "                   'initial_structure':molecule(\"H2\")})\n",
    "    db.write(CO2, comment=\"carbon dioxide\")\n",
    "    db.write(O2, comment=\"oxygen\")"
   ]
  },
  {
   "cell_type": "markdown",
   "id": "287e8044",
   "metadata": {},
   "source": [
    "In the next code block, as the indent has gone, the database has closed and we can start to look at extracting information from the database. \n",
    "\n",
    "In the simplest case, we can use the `ase.io` functionality to `read()` the database and extract `atoms` objects with information of interest (e.g. `comment=oxygen`). You can then e.g. visualise any selected atoms object (as well as open natively with ASE GUI using the same syntax)"
   ]
  },
  {
   "cell_type": "code",
   "execution_count": 4,
   "id": "557cca11",
   "metadata": {},
   "outputs": [
    {
     "name": "stdout",
     "output_type": "stream",
     "text": [
      "Oxygen [Symbols('O2')]\n",
      "Oxygen containing species [Symbols('CO2'), Symbols('O2')]\n"
     ]
    }
   ],
   "source": [
    "from ase.io import read\n",
    "# Find entries named \"oxygen\"\n",
    "atoms_list = read(\"test_database.db@comment=oxygen\")\n",
    "print(\"Oxygen\", [i.symbols for i in atoms_list])\n",
    "\n",
    "# Find all entries containing oxygen (oxygen > 0)\n",
    "atoms_list = read(\"test_database.db@O>0\")\n",
    "print(\"Oxygen containing species\", [i.symbols for i in atoms_list])"
   ]
  },
  {
   "cell_type": "markdown",
   "id": "3c3d9650",
   "metadata": {},
   "source": [
    "Whilst this functionality is nice, the database contains more information and we can access this by finding a row of interest (which is in the form of an `AtomsRow` object under the hood)\n",
    "\n",
    "Let's connect to the database again to read some data, firstly finding IDs for hydrogen molecules:"
   ]
  },
  {
   "cell_type": "code",
   "execution_count": 5,
   "id": "2b07763f",
   "metadata": {},
   "outputs": [
    {
     "name": "stdout",
     "output_type": "stream",
     "text": [
      "Id of entry containing H2: 1\n"
     ]
    }
   ],
   "source": [
    "with connect(\"test_database.db\") as db:\n",
    "\n",
    "    # Retrieving an AtomsRow entry\n",
    "    for row in db.select(\"H2\"):\n",
    "        print(\"Id of entry containing H2:\", row.id)"
   ]
  },
  {
   "cell_type": "markdown",
   "id": "749904b9",
   "metadata": {},
   "source": [
    "And so with this we can see the ID of the object for H_2. Let's access this object and see all the keys (i.e. data types) we can extract from the database for each entry:"
   ]
  },
  {
   "cell_type": "code",
   "execution_count": 6,
   "id": "8610c067",
   "metadata": {},
   "outputs": [
    {
     "name": "stdout",
     "output_type": "stream",
     "text": [
      "Methods:  ['comment', 'id', 'unique_id', 'ctime', 'mtime', 'user', 'numbers', 'positions', 'cell', 'pbc', 'calculator', 'calculator_parameters', 'energy', 'forces']\n"
     ]
    }
   ],
   "source": [
    "        H2_keys = db.get(row.id)\n",
    "        print(\"Methods: \", [key for key in H2_keys])"
   ]
  },
  {
   "cell_type": "markdown",
   "id": "9b05e147",
   "metadata": {},
   "source": [
    "Notice that `data` is not among the keys printed, despite being saved above! Data entries allow more flexibility for storage of information - i.e. anything can be stored - but are not easily queried. If you know it exists, one can easily access the information stored there:"
   ]
  },
  {
   "cell_type": "code",
   "execution_count": 7,
   "id": "3b4dba67",
   "metadata": {},
   "outputs": [
    {
     "name": "stdout",
     "output_type": "stream",
     "text": [
      "Dictionary of all additional data: {'HH_distance': 0.737166, 'initial_structure': Atoms(symbols='H2', pbc=False)}\n",
      "HH_distance is: 0.737166 Angstrom\n"
     ]
    }
   ],
   "source": [
    "    print(\"Dictionary of all additional data:\", row.data)\n",
    "    print(\"HH_distance is:\", row.data.get(\"HH_distance\"), \"Angstrom\")"
   ]
  },
  {
   "cell_type": "markdown",
   "id": "e3f62e3d",
   "metadata": {},
   "source": [
    "As a final note, as well as through `python3`, one can also easily engage wih the data by typing in the terminal/command line:\n",
    "<br>\n",
    "*ase db filename.db -w*\n",
    "\n",
    "This allows one to inspect all data contained in the database in an interactive way in your browser! Just navigate to http://0.0.0.0:5000/ in your browser after running the command."
   ]
  }
 ],
 "metadata": {
  "kernelspec": {
   "display_name": "Python 3",
   "language": "python",
   "name": "python3"
  },
  "language_info": {
   "codemirror_mode": {
    "name": "ipython",
    "version": 3
   },
   "file_extension": ".py",
   "mimetype": "text/x-python",
   "name": "python",
   "nbconvert_exporter": "python",
   "pygments_lexer": "ipython3",
   "version": "3.9.0"
  }
 },
 "nbformat": 4,
 "nbformat_minor": 5
}
