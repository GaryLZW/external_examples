{
 "cells": [
  {
   "cell_type": "markdown",
   "id": "indian-prince",
   "metadata": {},
   "source": [
    "# ASE databases\n",
    "\n",
    "**ase-db: A database for ASE calculations**\n",
    "\n",
    "The ase database features offer a powerful way to explore and manage batches of calculations. It can be very convenient to parse a number of output files, scattered across a directory structure, to form a single file with all the useful data. \n",
    "\n",
    "**ASE supports three backends:**\n",
    "    \n",
    "* SQLite3 is fully-featured relational database system which stores databases in local files. It's fast and widely-used for data serialisation in software. The file format is binary. You can inspect and modify ASE-generated SQLite3 files with regular sqlite3 tools, but some parameters (e.g. atomic positions) are stored as binary blobs.\n",
    "* JSON is a simple text-based format for data serialisation. This can be a good choice for long-term archiving and publication support. It will always be readable, but it's human-friendliness is overrated...\n",
    "* PostgreSQL is a more traditional server-hosted relational database system. This might be suitable for a group sharing data, but the configuration is correspondingly more complex.\n",
    "\n",
    "**Resources:**\n",
    "* For a more exhaustive overview see official ASE tutorial: https://wiki.fysik.dtu.dk/ase/ase/db/db.html#querying\n",
    "* Nice notebook with an overview of the topic, though it uses old python 2 syntax: https://github.com/WMD-group/ASE-Tutorials/blob/master/ase-db/ase-db.ipynb\n",
    "* ASE example of incorporating databases into the workflow: https://wiki.fysik.dtu.dk/ase/ase/db/db.html?highlight=database - sqlite3 library might not be readily available on all python versions on the supercomputers! (e.g. HAWK has that issue)\n",
    "* Server side databases using ASE db: https://ase-workshop.materialsmodeling.org/assets/talks/kirsten-t-winther.pdf\n"
   ]
  },
  {
   "cell_type": "markdown",
   "id": "featured-mills",
   "metadata": {},
   "source": [
    "Let's create some toy models:"
   ]
  },
  {
   "cell_type": "code",
   "execution_count": 1,
   "id": "secure-review",
   "metadata": {},
   "outputs": [],
   "source": [
    "from ase.db import connect\n",
    "from ase.build import molecule\n",
    "from ase.calculators.emt import EMT\n",
    "import numpy as np\n",
    "\n",
    "H2 = molecule(\"H2\")\n",
    "CO2 = molecule(\"CO2\")\n",
    "O2 = molecule(\"O2\")\n",
    "\n",
    "# Make the toy models more realistic, attach calculators and calculate energy\n",
    "for i in [H2, CO2, O2]:\n",
    "    i.calc = EMT()\n",
    "    i.get_potential_energy()\n"
   ]
  },
  {
   "cell_type": "code",
   "execution_count": 2,
   "id": "innocent-morgan",
   "metadata": {},
   "outputs": [],
   "source": [
    "# By default you are appending entries to the database\n",
    "# we use the append=False key for the purpose of this example\n",
    "# to avoid duplicated entries in the database\n",
    "\n",
    "# by using with connect(...) we can add all relevant entries \n",
    "# and only access the file once, we avoid IO overhead\n",
    "with connect(\"test_database.db\", append=False) as db:\n",
    "    # we can add keys with single value or dictionaries after the Atoms object\n",
    "    db.write(H2, comment=\"hydrogen\",\n",
    "             data={'HH_distance':np.linalg.norm(H2[0].position-H2[1].position),\n",
    "                   'initial_structure':molecule(\"H2\")})\n",
    "    db.write(CO2, comment=\"carbon dioxide\")\n",
    "    db.write(O2, comment=\"oxygen\")"
   ]
  },
  {
   "cell_type": "markdown",
   "id": "answering-knitting",
   "metadata": {},
   "source": [
    "Extracting information from the database"
   ]
  },
  {
   "cell_type": "code",
   "execution_count": 3,
   "id": "separate-disease",
   "metadata": {},
   "outputs": [
    {
     "name": "stdout",
     "output_type": "stream",
     "text": [
      "Oxygen [Atoms(symbols='O2', pbc=False, initial_magmoms=..., calculator=SinglePointCalculator(...))]\n",
      "Oxygen containing species [Atoms(symbols='CO2', pbc=False, calculator=SinglePointCalculator(...)), Atoms(symbols='O2', pbc=False, initial_magmoms=..., calculator=SinglePointCalculator(...))]\n"
     ]
    }
   ],
   "source": [
    "# the database can be used using the ase.io.read parser as well\n",
    "# once can also visualize the database using ASE GUI using the same syntax\n",
    "from ase.io import read\n",
    "atoms = read(\"test_database.db@comment=oxygen\")\n",
    "print(\"Oxygen\", atoms)\n",
    "\n",
    "# Find all entries containing oxygen (oxygen > 0)\n",
    "atoms_list = read(\"test_database.db@O>0\")\n",
    "print(\"Oxygen containing species\", atoms_list)\n"
   ]
  },
  {
   "cell_type": "code",
   "execution_count": 4,
   "id": "short-oliver",
   "metadata": {},
   "outputs": [
    {
     "name": "stdout",
     "output_type": "stream",
     "text": [
      "Id of entry containing H2: 1\n"
     ]
    }
   ],
   "source": [
    "# But AtomsRow contains more information for data analysis and can be \n",
    "# converted to Atoms object using .toatoms()\n",
    "db = connect(\"test_database.db\")\n",
    "\n",
    "# Retrieving an AtomsRow entry\n",
    "for row in db.select(\"H2\"):\n",
    "    # Check the id of the entry(ies) you have just selected\n",
    "    print(\"Id of entry containing H2:\", row.id)"
   ]
  },
  {
   "cell_type": "code",
   "execution_count": 5,
   "id": "clean-character",
   "metadata": {},
   "outputs": [
    {
     "name": "stdout",
     "output_type": "stream",
     "text": [
      "Methods:  ['comment', 'id', 'unique_id', 'ctime', 'mtime', 'user', 'numbers', 'positions', 'cell', 'pbc', 'calculator', 'calculator_parameters', 'energy', 'forces']\n"
     ]
    }
   ],
   "source": [
    "# Retrieving an AtomsRow entry\n",
    "for row in db.select(\"H2\"):\n",
    "    \n",
    "    # Dealing with database that you do not know?\n",
    "    # Retrieve all keys available for this entry\n",
    "    H2_keys = db.get(row.id)\n",
    "    print(\"Methods: \", [key for key in H2_keys])"
   ]
  },
  {
   "cell_type": "markdown",
   "id": "continued-franchise",
   "metadata": {},
   "source": [
    "Notice that data is not among the keys printed, data entries allow more flexibility for storage\n",
    "of information, but are not easily queried. One can easily access the information stored there:"
   ]
  },
  {
   "cell_type": "code",
   "execution_count": 6,
   "id": "alone-eagle",
   "metadata": {},
   "outputs": [
    {
     "name": "stdout",
     "output_type": "stream",
     "text": [
      "Dictionary of all additional data: {'HH_distance': 0.737166, 'initial_structure': Atoms(symbols='H2', pbc=False)}\n",
      "HH_distance is: 0.737166\n"
     ]
    }
   ],
   "source": [
    "# Retrieving an AtomsRow entry\n",
    "for row in db.select(\"H2\"):\n",
    "    print(\"Dictionary of all additional data:\", row.data)\n",
    "    print(\"HH_distance is:\", row.data.get(\"HH_distance\"))\n"
   ]
  },
  {
   "cell_type": "markdown",
   "id": "committed-passage",
   "metadata": {},
   "source": [
    "You can also easily engage wih the data by typing in the terminal/command line:\n",
    "<br>\n",
    "*ase db filename.db -w*\n",
    "\n",
    "You can inspect all data contained in the database in an interactive way in your browser. You can access your database by going to http://0.0.0.0:5000/ in your browser."
   ]
  },
  {
   "cell_type": "code",
   "execution_count": null,
   "id": "mexican-tourist",
   "metadata": {},
   "outputs": [],
   "source": []
  }
 ],
 "metadata": {
  "kernelspec": {
   "display_name": "Python 3",
   "language": "python",
   "name": "python3"
  },
  "language_info": {
   "codemirror_mode": {
    "name": "ipython",
    "version": 3
   },
   "file_extension": ".py",
   "mimetype": "text/x-python",
   "name": "python",
   "nbconvert_exporter": "python",
   "pygments_lexer": "ipython3",
   "version": "3.6.9"
  }
 },
 "nbformat": 4,
 "nbformat_minor": 5
}
