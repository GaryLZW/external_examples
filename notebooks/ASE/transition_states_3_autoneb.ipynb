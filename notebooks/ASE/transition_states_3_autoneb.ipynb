{
 "cells": [
  {
   "cell_type": "markdown",
   "metadata": {},
   "source": [
    "# Calculating trainsition states - part 3\n",
    "\n",
    "AutoNEB \n",
    "\n",
    "Similarly to MLNEB it adds images dynamically, but performs optimisations on each image sequentially. Files need a strict naming scheme.\n",
    "\n",
    "For more information see: https://wiki.fysik.dtu.dk/ase/dev/_modules/ase/autoneb.html "
   ]
  },
  {
   "cell_type": "code",
   "execution_count": null,
   "metadata": {},
   "outputs": [],
   "source": [
    "from ase.autoneb import AutoNEB\n",
    "\n",
    "# Start by importing input structures generated in part 1\n",
    "from ase.io import read\n",
    "slab_initial = read(\"slab_initial.traj\")\n",
    "slab_final = read(\"slab_final.traj\")\n",
    "\n",
    "# AutoNEB requires a function that is assigning calculators to the generated images\n",
    "from ase.calculators.emt import EMT\n",
    "def attach_calculators(images):\n",
    "    for i in range(len(images)):\n",
    "        images[i].set_calculator(EMT())\n",
    "        \n",
    "# Follow the naming scheme on input structures specified in 'prefix'\n",
    "from ase.io.trajectory import Trajectory\n",
    "import os\n",
    "if not os.path.exists(\"neb000.traj\"):\n",
    "    initial_traj = Trajectory(\"neb000.traj\", 'w')\n",
    "    initial_traj.write(slab_initial)\n",
    "    final_traj = Trajectory(\"neb001.traj\", 'w')\n",
    "    final_traj.write(slab_final)\n",
    "\n",
    "# number of images in final minimum energy path including initial and final\n",
    "n = 7\n",
    "\n",
    "neb = AutoNEB      (attach_calculators,\n",
    "                    climb=True,\n",
    "                    prefix = \"neb\",\n",
    "                    n_max = n, # total no. images\n",
    "                    n_simul= 1, # images in parallel - FHI-aims requires separate folders for each calculation\n",
    "                    optimizer = \"FIRE\", \n",
    "                    fmax = 0.05, # make sure to change these according to your convergence criteria\n",
    "                    k = 0.05,\n",
    "                    parallel = False \n",
    "                    )\n",
    "\n",
    "neb.run()"
   ]
  },
  {
   "cell_type": "markdown",
   "metadata": {},
   "source": [
    "Analyse the output as previously."
   ]
  },
  {
   "cell_type": "code",
   "execution_count": null,
   "metadata": {},
   "outputs": [],
   "source": [
    "# from command line images can be joined together using:\n",
    "# ase gui neb???.traj -n -1\n",
    "from ase.io import read\n",
    "images_autoneb = []\n",
    "for i in range(n):\n",
    "    atoms = read(\"neb00\" + str(i) +\".traj@-1\")\n",
    "    images_autoneb += [atoms]\n",
    "\n",
    "from ase.visualize import view\n",
    "#view(images_autoneb)\n",
    "\n",
    "# Now let's analyse the output, if dealing with one calculation it is sufficient to use\n",
    "# ASE GUI and choose Tools --> NEB to see the plot\n",
    "\n",
    "import matplotlib.pyplot as plt\n",
    "from ase.neb import NEBTools\n",
    "from ase.io import read\n",
    "\n",
    "nebtools = NEBTools(images_autoneb)\n",
    "\n",
    "# Get the calculated barrier and the energy change of the reaction.\n",
    "Ef, dE = nebtools.get_barrier()\n",
    "\n",
    "# Get the actual maximum force at this point in the simulation.\n",
    "max_force = nebtools.get_fmax()\n",
    "\n",
    "# Create a figure like that coming from ASE-GUI.\n",
    "fig = nebtools.plot_band()\n",
    "fig.savefig('barrier-autoneb.png')\n"
   ]
  }
 ],
 "metadata": {
  "kernelspec": {
   "display_name": "Python 3",
   "language": "python",
   "name": "python3"
  },
  "language_info": {
   "codemirror_mode": {
    "name": "ipython",
    "version": 3
   },
   "file_extension": ".py",
   "mimetype": "text/x-python",
   "name": "python",
   "nbconvert_exporter": "python",
   "pygments_lexer": "ipython3",
   "version": "3.6.9"
  }
 },
 "nbformat": 4,
 "nbformat_minor": 4
}
