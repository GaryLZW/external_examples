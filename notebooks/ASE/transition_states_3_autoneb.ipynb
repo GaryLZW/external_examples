{
 "cells": [
  {
   "cell_type": "markdown",
   "metadata": {},
   "source": [
    "# Calculating trainsition states - part 3\n",
    "\n",
    "AutoNEB \n",
    "\n",
    "Similarly to MLNEB it adds images dynamically, but performs optimisations on each image sequentially. Files need a strict naming scheme.\n",
    "\n",
    "For more information see: https://wiki.fysik.dtu.dk/ase/dev/_modules/ase/autoneb.html "
   ]
  },
  {
   "cell_type": "code",
   "execution_count": 1,
   "metadata": {},
   "outputs": [
    {
     "name": "stdout",
     "output_type": "stream",
     "text": [
      "The NEB initially has 2 images  (including the end-points)\n",
      "Now adding images for initial run\n",
      "Max length between images is at  0\n",
      "Start of evaluation of the initial images\n",
      "Now starting iteration 1 on  range(0, 3)\n",
      "Finished initialisation phase.\n",
      "****Now adding another image until n_max is reached (3/7)****\n",
      "Adding image between 0 and 1. New image point is selected on the basis of the biggest spring length!\n",
      "Now starting iteration 2 on  range(0, 3)\n",
      "****Now adding another image until n_max is reached (4/7)****\n",
      "Adding image between 2 and 3. New image point is selected on the basis of the biggest spring length!\n",
      "Now starting iteration 3 on  range(2, 5)\n",
      "****Now adding another image until n_max is reached (5/7)****\n",
      "Adding image between 0 and 1. New image point is selected on the basis of the biggest spring length!\n",
      "Now starting iteration 4 on  range(0, 3)\n",
      "****Now adding another image until n_max is reached (6/7)****\n",
      "Adding image between 2 and 3. New image point is selected on the basis of the biggest spring length!\n",
      "Now starting iteration 5 on  range(2, 5)\n",
      "n_max images has been reached\n",
      "****Now doing the CI-NEB calculation****\n",
      "Now starting iteration 6 on  range(3, 6)\n"
     ]
    },
    {
     "data": {
      "text/plain": [
       "[Atoms(symbols='Au18Cu2', pbc=[True, True, False], cell=[[8.817000000000002, 0.0, 0.0], [4.408500000000001, 7.635745985167396, 0.0], [0.0, 0.0, 22.399683451346586]], tags=..., constraint=FixAtoms(indices=[0, 1, 2, 3, 4, 5, 6, 7, 8, 9, 10, 11, 12, 13, 14, 15, 16, 17]), calculator=SinglePointCalculator(...)),\n",
       " Atoms(symbols='Au18Cu2', pbc=[True, True, False], cell=[[8.817000000000002, 0.0, 0.0], [4.408500000000001, 7.635745985167396, 0.0], [0.0, 0.0, 22.399683451346586]], tags=..., constraint=FixAtoms(indices=[0, 1, 2, 3, 4, 5, 6, 7, 8, 9, 10, 11, 12, 13, 14, 15, 16, 17]), calculator=EMT(...)),\n",
       " Atoms(symbols='Au18Cu2', pbc=[True, True, False], cell=[[8.817000000000002, 0.0, 0.0], [4.408500000000001, 7.635745985167396, 0.0], [0.0, 0.0, 22.399683451346586]], tags=..., constraint=FixAtoms(indices=[0, 1, 2, 3, 4, 5, 6, 7, 8, 9, 10, 11, 12, 13, 14, 15, 16, 17]), calculator=EMT(...)),\n",
       " Atoms(symbols='Au18Cu2', pbc=[True, True, False], cell=[[8.817000000000002, 0.0, 0.0], [4.408500000000001, 7.635745985167396, 0.0], [0.0, 0.0, 22.399683451346586]], tags=..., constraint=FixAtoms(indices=[0, 1, 2, 3, 4, 5, 6, 7, 8, 9, 10, 11, 12, 13, 14, 15, 16, 17]), calculator=EMT(...)),\n",
       " Atoms(symbols='Au18Cu2', pbc=[True, True, False], cell=[[8.817000000000002, 0.0, 0.0], [4.408500000000001, 7.635745985167396, 0.0], [0.0, 0.0, 22.399683451346586]], tags=..., constraint=FixAtoms(indices=[0, 1, 2, 3, 4, 5, 6, 7, 8, 9, 10, 11, 12, 13, 14, 15, 16, 17]), calculator=EMT(...)),\n",
       " Atoms(symbols='Au18Cu2', pbc=[True, True, False], cell=[[8.817000000000002, 0.0, 0.0], [4.408500000000001, 7.635745985167396, 0.0], [0.0, 0.0, 22.399683451346586]], tags=..., constraint=FixAtoms(indices=[0, 1, 2, 3, 4, 5, 6, 7, 8, 9, 10, 11, 12, 13, 14, 15, 16, 17]), calculator=EMT(...)),\n",
       " Atoms(symbols='Au18Cu2', pbc=[True, True, False], cell=[[8.817000000000002, 0.0, 0.0], [4.408500000000001, 7.635745985167396, 0.0], [0.0, 0.0, 22.399683451346586]], tags=..., constraint=FixAtoms(indices=[0, 1, 2, 3, 4, 5, 6, 7, 8, 9, 10, 11, 12, 13, 14, 15, 16, 17]), calculator=SinglePointCalculator(...))]"
      ]
     },
     "execution_count": 1,
     "metadata": {},
     "output_type": "execute_result"
    }
   ],
   "source": [
    "from ase.autoneb import AutoNEB\n",
    "\n",
    "# Start by importing input structures generated in part 1\n",
    "from ase.io import read\n",
    "slab_initial = read(\"slab_initial.traj\")\n",
    "slab_final = read(\"slab_final.traj\")\n",
    "\n",
    "# AutoNEB requires a function that is assigning calculators to the generated images\n",
    "from ase.calculators.emt import EMT\n",
    "def attach_calculators(images):\n",
    "    for i in range(len(images)):\n",
    "        images[i].set_calculator(EMT())\n",
    "        \n",
    "# Follow the naming scheme on input structures specified in 'prefix'\n",
    "from ase.io.trajectory import Trajectory\n",
    "import os\n",
    "if not os.path.exists(\"neb000.traj\"):\n",
    "    initial_traj = Trajectory(\"neb000.traj\", 'w')\n",
    "    initial_traj.write(slab_initial)\n",
    "    final_traj = Trajectory(\"neb001.traj\", 'w')\n",
    "    final_traj.write(slab_final)\n",
    "\n",
    "# number of images in final minimum energy path including initial and final\n",
    "n = 7\n",
    "\n",
    "neb = AutoNEB      (attach_calculators,\n",
    "                    climb=True,\n",
    "                    prefix = \"neb\",\n",
    "                    n_max = n, # total no. images\n",
    "                    n_simul= 1, # images in parallel - FHI-aims requires separate folders for each calculation\n",
    "                    optimizer = \"FIRE\", \n",
    "                    fmax = 0.05, # make sure to change these according to your convergence criteria\n",
    "                    k = 0.05,\n",
    "                    parallel = False \n",
    "                    )\n",
    "\n",
    "neb.run()"
   ]
  },
  {
   "cell_type": "markdown",
   "metadata": {},
   "source": [
    "Analyse the output as previously."
   ]
  },
  {
   "cell_type": "code",
   "execution_count": 2,
   "metadata": {},
   "outputs": [
    {
     "name": "stderr",
     "output_type": "stream",
     "text": [
      "In /home/igor/.local/lib/python3.6/site-packages/matplotlib/mpl-data/stylelib/_classic_test.mplstyle: \n",
      "The text.latex.preview rcparam was deprecated in Matplotlib 3.3 and will be removed two minor releases later.\n",
      "In /home/igor/.local/lib/python3.6/site-packages/matplotlib/mpl-data/stylelib/_classic_test.mplstyle: \n",
      "The mathtext.fallback_to_cm rcparam was deprecated in Matplotlib 3.3 and will be removed two minor releases later.\n",
      "In /home/igor/.local/lib/python3.6/site-packages/matplotlib/mpl-data/stylelib/_classic_test.mplstyle: Support for setting the 'mathtext.fallback_to_cm' rcParam is deprecated since 3.3 and will be removed two minor releases later; use 'mathtext.fallback : 'cm' instead.\n",
      "In /home/igor/.local/lib/python3.6/site-packages/matplotlib/mpl-data/stylelib/_classic_test.mplstyle: \n",
      "The validate_bool_maybe_none function was deprecated in Matplotlib 3.3 and will be removed two minor releases later.\n",
      "In /home/igor/.local/lib/python3.6/site-packages/matplotlib/mpl-data/stylelib/_classic_test.mplstyle: \n",
      "The savefig.jpeg_quality rcparam was deprecated in Matplotlib 3.3 and will be removed two minor releases later.\n",
      "In /home/igor/.local/lib/python3.6/site-packages/matplotlib/mpl-data/stylelib/_classic_test.mplstyle: \n",
      "The keymap.all_axes rcparam was deprecated in Matplotlib 3.3 and will be removed two minor releases later.\n",
      "In /home/igor/.local/lib/python3.6/site-packages/matplotlib/mpl-data/stylelib/_classic_test.mplstyle: \n",
      "The animation.avconv_path rcparam was deprecated in Matplotlib 3.3 and will be removed two minor releases later.\n",
      "In /home/igor/.local/lib/python3.6/site-packages/matplotlib/mpl-data/stylelib/_classic_test.mplstyle: \n",
      "The animation.avconv_args rcparam was deprecated in Matplotlib 3.3 and will be removed two minor releases later.\n"
     ]
    },
    {
     "data": {
      "image/png": "[encoded data removed]",
      "text/plain": [
       "<Figure size 432x288 with 1 Axes>"
      ]
     },
     "metadata": {
      "needs_background": "light"
     },
     "output_type": "display_data"
    }
   ],
   "source": [
    "# from command line images can be joined together using:\n",
    "# ase gui neb???.traj -n -1\n",
    "from ase.io import read\n",
    "images_autoneb = []\n",
    "for i in range(n):\n",
    "    atoms = read(\"neb00\" + str(i) +\".traj@-1\")\n",
    "    images_autoneb += [atoms]\n",
    "\n",
    "from ase.visualize import view\n",
    "#view(images_autoneb)\n",
    "\n",
    "# Now let's analyse the output, if dealing with one calculation it is sufficient to use\n",
    "# ASE GUI and choose Tools --> NEB to see the plot\n",
    "\n",
    "import matplotlib.pyplot as plt\n",
    "from ase.neb import NEBTools\n",
    "from ase.io import read\n",
    "\n",
    "nebtools = NEBTools(images_autoneb)\n",
    "\n",
    "# Get the calculated barrier and the energy change of the reaction.\n",
    "Ef, dE = nebtools.get_barrier()\n",
    "\n",
    "# Get the actual maximum force at this point in the simulation.\n",
    "max_force = nebtools.get_fmax()\n",
    "\n",
    "# Create a figure like that coming from ASE-GUI.\n",
    "fig = nebtools.plot_band()\n",
    "fig.savefig('barrier-autoneb.png')\n"
   ]
  }
 ],
 "metadata": {
  "kernelspec": {
   "display_name": "Python 3",
   "language": "python",
   "name": "python3"
  },
  "language_info": {
   "codemirror_mode": {
    "name": "ipython",
    "version": 3
   },
   "file_extension": ".py",
   "mimetype": "text/x-python",
   "name": "python",
   "nbconvert_exporter": "python",
   "pygments_lexer": "ipython3",
   "version": "3.6.9"
  }
 },
 "nbformat": 4,
 "nbformat_minor": 4
}
