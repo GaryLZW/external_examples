{
 "cells": [
  {
   "cell_type": "markdown",
   "metadata": {},
   "source": [
    "**Energy Calculations**\n",
    "\n",
    "Here we start with the simplest type of calculation - a \"single point\" energy calculation, in this case for water.\n",
    "\n",
    "For all calculations, we need to start by import some Python objects to create an H2O object, and run calculations (which are performed using an `EMT` forcefield calculator, based on Newtonian principles)"
   ]
  },
  {
   "cell_type": "code",
   "execution_count": 1,
   "metadata": {},
   "outputs": [],
   "source": [
    "from ase import Atoms\n",
    "from ase.calculators.emt import EMT"
   ]
  },
  {
   "cell_type": "markdown",
   "metadata": {},
   "source": [
    "Now we need to define our water molecule. We define the composition of the molecule, the positions of the atoms in Cartesian (3D) space, and the calculator for working out an energy:"
   ]
  },
  {
   "cell_type": "code",
   "execution_count": 2,
   "metadata": {},
   "outputs": [],
   "source": [
    "water = Atoms('H2O',\n",
    "               positions=[(1, 0, 0),\n",
    "                          (0, 1, 0),\n",
    "                          (0, 0, 0)],\n",
    "               calculator=EMT())"
   ]
  },
  {
   "cell_type": "markdown",
   "metadata": {},
   "source": [
    "With this, we can calculate the energy with a command like:"
   ]
  },
  {
   "cell_type": "code",
   "execution_count": 3,
   "metadata": {},
   "outputs": [
    {
     "name": "stdout",
     "output_type": "stream",
     "text": [
      "2.3137464701454697\n"
     ]
    }
   ],
   "source": [
    "print(water.get_potential_energy())"
   ]
  },
  {
   "cell_type": "markdown",
   "metadata": {},
   "source": [
    "Great! But how is this useful? Well, the important thing is for us to work with relative energies. We can think about potential energy landscapes by for instance varying the bond lengths and checking the energy thus:"
   ]
  },
  {
   "cell_type": "code",
   "execution_count": 4,
   "metadata": {},
   "outputs": [
    {
     "name": "stdout",
     "output_type": "stream",
     "text": [
      "Bond length:  0.0 ; Energy:  756.5078742552881\n",
      "Bond length:  1.0 ; Energy:  2.3137464701454697\n",
      "Bond length:  2.0 ; Energy:  8.238084038523857\n",
      "Bond length:  3.0 ; Energy:  10.669544119641944\n",
      "Bond length:  4.0 ; Energy:  10.984679654560367\n",
      "Bond length:  5.0 ; Energy:  11.017004375870611\n",
      "Bond length:  6.0 ; Energy:  11.02\n",
      "Bond length:  7.0 ; Energy:  11.02\n",
      "Bond length:  8.0 ; Energy:  11.02\n",
      "Bond length:  9.0 ; Energy:  11.02\n"
     ]
    },
    {
     "name": "stderr",
     "output_type": "stream",
     "text": [
      "/Users/andrewlogsdail/Library/Python/3.8/lib/python/site-packages/ase/calculators/emt.py:218: RuntimeWarning: invalid value encountered in true_divide\n",
      "  f = ((y1 * p2['kappa'] + y2 * p1['kappa']) / beta +\n",
      "/Users/andrewlogsdail/Library/Python/3.8/lib/python/site-packages/ase/calculators/emt.py:235: RuntimeWarning: invalid value encountered in true_divide\n",
      "  f = ((y1 * p2['eta2'] + y2 * p1['eta2']) +\n"
     ]
    }
   ],
   "source": [
    "from ase.io.trajectory import Trajectory\n",
    "traj = Trajectory('h2o.traj', 'w')\n",
    "\n",
    "d = 1.0\n",
    "for i in range(10):\n",
    "    water = Atoms('H2O',\n",
    "                  positions=[(i*d, 0, 0),\n",
    "                             (0, i*d, 0),\n",
    "                             (0, 0, 0)],\n",
    "                  calculator=EMT())\n",
    "    print(\"Bond length: \", i*d, \"; Energy: \", water.get_potential_energy())\n",
    "    traj.write(water)"
   ]
  },
  {
   "cell_type": "markdown",
   "metadata": {},
   "source": [
    "Note how this looks the same as our previous definition for H2O, but the positions are now dependent on the variables `i*d` - i.e. they are not constant. We also see that the energy is very high at low distance, at a minimum close to 1.0 Angstrom, and then tends to a constant at longer distances. We can visualise the water models thus:"
   ]
  },
  {
   "cell_type": "code",
   "execution_count": 5,
   "metadata": {},
   "outputs": [
    {
     "name": "stderr",
     "output_type": "stream",
     "text": [
      "/Users/andrewlogsdail/Library/Python/3.8/lib/python/site-packages/ase/io/jsonio.py:122: VisibleDeprecationWarning: Creating an ndarray from ragged nested sequences (which is a list-or-tuple of lists-or-tuples-or ndarrays with different lengths or shapes) is deprecated. If you meant to do this, you must specify 'dtype=object' when creating the ndarray\n",
      "  a = np.array(obj)\n"
     ]
    },
    {
     "data": {
      "application/vnd.jupyter.widget-view+json": {
       "model_id": "2bdf75de269e4a3c9cffc33182f9e337",
       "version_major": 2,
       "version_minor": 0
      },
      "text/plain": []
     },
     "metadata": {},
     "output_type": "display_data"
    },
    {
     "name": "stderr",
     "output_type": "stream",
     "text": [
      "/Users/andrewlogsdail/Library/Python/3.8/lib/python/site-packages/ase/io/jsonio.py:122: VisibleDeprecationWarning: Creating an ndarray from ragged nested sequences (which is a list-or-tuple of lists-or-tuples-or ndarrays with different lengths or shapes) is deprecated. If you meant to do this, you must specify 'dtype=object' when creating the ndarray\n",
      "  a = np.array(obj)\n"
     ]
    },
    {
     "data": {
      "application/vnd.jupyter.widget-view+json": {
       "model_id": "d6bd1af3e843480e92c9bf1fb79fbab8",
       "version_major": 2,
       "version_minor": 0
      },
      "text/plain": [
       "HBox(children=(NGLWidget(max_frame=9), VBox(children=(Dropdown(description='Show', options=('All', 'O', 'H'), …"
      ]
     },
     "metadata": {},
     "output_type": "display_data"
    }
   ],
   "source": [
    "from ase.visualize import view\n",
    "traj = Trajectory(\"h2o.traj\")\n",
    "view(traj, viewer='ngl')"
   ]
  },
  {
   "cell_type": "markdown",
   "metadata": {},
   "source": [
    "_Note_: Might not work on the remote binder facility; will work on a local computer if you just remove the `x3d` or `ngl` options."
   ]
  },
  {
   "cell_type": "markdown",
   "metadata": {},
   "source": [
    "**Geometry Optimisation**\n",
    "\n",
    "In reality, we don't normally want to run linear scans as the dimensionality of the problem is much greater than one or two bonds (think of a many atom molecule!), so we use an automated process of geometry optimisations instead. Again we define our water molecule, and then perform the optimisation:"
   ]
  },
  {
   "cell_type": "code",
   "execution_count": 6,
   "metadata": {},
   "outputs": [
    {
     "name": "stdout",
     "output_type": "stream",
     "text": [
      "      Step     Time          Energy         fmax\n",
      "BFGS:    0 20:50:18        2.266718        4.2914\n",
      "BFGS:    1 20:50:18        2.007585        2.2564\n",
      "BFGS:    2 20:50:18        1.895482        0.6048\n",
      "BFGS:    3 20:50:18        1.885496        0.0838\n",
      "BFGS:    4 20:50:18        1.885290        0.0039\n"
     ]
    },
    {
     "data": {
      "text/plain": [
       "True"
      ]
     },
     "execution_count": 6,
     "metadata": {},
     "output_type": "execute_result"
    }
   ],
   "source": [
    "from ase.optimize import BFGS\n",
    "\n",
    "# Create a linear water molecule\n",
    "d = 1.0\n",
    "water = Atoms('H2O',\n",
    "              positions=[(d, 0, 0),\n",
    "                         (-d, 0, 0),\n",
    "                         (0, 0, 0)],\n",
    "              calculator=EMT())\n",
    "\n",
    "# Run the calculation\n",
    "dyn = BFGS(water, trajectory='h2o.traj')\n",
    "dyn.run(fmax=0.05)"
   ]
  },
  {
   "cell_type": "markdown",
   "metadata": {},
   "source": [
    "The ouput here gives a step number, the time, the energy of the model and the maximum force (`fmax`), which in this example we want to be below 0.05 eV / Angstrom to find a stable structure. See how the force falls to a minimum value? Try playing with the starting geometry and seeing if you can get any other results. You can view the output trajcetory and final structure using the command below again (what do you notice unusual about the final structure?):"
   ]
  },
  {
   "cell_type": "code",
   "execution_count": 7,
   "metadata": {},
   "outputs": [
    {
     "data": {
      "application/vnd.jupyter.widget-view+json": {
       "model_id": "45decadea1e7483e909877fe869e44d0",
       "version_major": 2,
       "version_minor": 0
      },
      "text/plain": [
       "HBox(children=(NGLWidget(max_frame=4), VBox(children=(Dropdown(description='Show', options=('All', 'O', 'H'), …"
      ]
     },
     "metadata": {},
     "output_type": "display_data"
    }
   ],
   "source": [
    "traj = Trajectory('h2o.traj')\n",
    "view(traj, viewer='ngl')"
   ]
  }
 ],
 "metadata": {
  "kernelspec": {
   "display_name": "Python 3",
   "language": "python",
   "name": "python3"
  },
  "language_info": {
   "codemirror_mode": {
    "name": "ipython",
    "version": 3
   },
   "file_extension": ".py",
   "mimetype": "text/x-python",
   "name": "python",
   "nbconvert_exporter": "python",
   "pygments_lexer": "ipython3",
   "version": "3.8.5"
  }
 },
 "nbformat": 4,
 "nbformat_minor": 4
}
