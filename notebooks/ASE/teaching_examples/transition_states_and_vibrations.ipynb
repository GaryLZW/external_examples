{
 "cells": [
  {
   "cell_type": "markdown",
   "metadata": {},
   "source": [
    "**Transition States**\n",
    "\n",
    "After we have defined some stable minima, we often need to work out the energy to travel between these states. Let's deminstrate this using our Pt110 slab again.\n",
    "\n",
    "Our first step in these types of calculations is again to setup our environment and building the Pt110 model, this time with a Cu atom on the surface in a \"start\" and \"finish\" position:"
   ]
  },
  {
   "cell_type": "code",
   "execution_count": 1,
   "metadata": {},
   "outputs": [],
   "source": [
    "from ase import Atoms, Atom\n",
    "from ase.build import fcc110\n",
    "from math import sqrt\n",
    "\n",
    "# Make the Pt 110 slab.\n",
    "initial = fcc110('Pt', (2, 2, 4), vacuum=7.)\n",
    "initial.set_pbc((1, 1, 0))\n",
    "\n",
    "a = 3.9242\n",
    "b = a / sqrt(2)\n",
    "h = b / 2 \n",
    "initial.append(Atom('Cu',  initial[8].position + (0., 0., 2.5)))\n",
    "final = initial.copy()\n",
    "final.positions[-1, 1] += b"
   ]
  },
  {
   "cell_type": "markdown",
   "metadata": {},
   "source": [
    "We can look at these structures if we want in the normal way:"
   ]
  },
  {
   "cell_type": "code",
   "execution_count": 2,
   "metadata": {},
   "outputs": [
    {
     "data": {
      "application/vnd.jupyter.widget-view+json": {
       "model_id": "f61f2f24fb664193bf50d18d7cb8b2f7",
       "version_major": 2,
       "version_minor": 0
      },
      "text/plain": []
     },
     "metadata": {},
     "output_type": "display_data"
    },
    {
     "data": {
      "application/vnd.jupyter.widget-view+json": {
       "model_id": "8a18399893e9413ebd4c951477193c2c",
       "version_major": 2,
       "version_minor": 0
      },
      "text/plain": [
       "HBox(children=(NGLWidget(max_frame=1), VBox(children=(Dropdown(description='Show', options=('All', 'Cu', 'Pt')…"
      ]
     },
     "metadata": {},
     "output_type": "display_data"
    }
   ],
   "source": [
    "from ase.visualize import view\n",
    "view([initial, final], viewer='ngl')"
   ]
  },
  {
   "cell_type": "markdown",
   "metadata": {},
   "source": [
    "To find the transition state, we must interpolate between these \"start\" and \"final\" structures, which we have some tools for; we are also at the same time going to setup constraints and allocate the appropriate `EMT` calculator:"
   ]
  },
  {
   "cell_type": "code",
   "execution_count": 3,
   "metadata": {},
   "outputs": [],
   "source": [
    "# Construct a list of images:\n",
    "images = [initial]\n",
    "for i in range(5):\n",
    "    images.append(initial.copy())\n",
    "images.append(final)\n",
    "\n",
    "from ase.constraints import FixAtoms\n",
    "# Make a mask of zeros and ones that select fixed atoms (the\n",
    "# two bottom layers):\n",
    "mask = initial.positions[:, 2] - min(initial.positions[:, 2]) < 3.5 * h\n",
    "constraint = FixAtoms(mask=mask)\n",
    "\n",
    "from ase.calculators.emt import EMT\n",
    "for image in images:\n",
    "    # Let all images use an EMT calculator:\n",
    "    image.set_calculator(EMT())\n",
    "    image.set_constraint(constraint)"
   ]
  },
  {
   "cell_type": "markdown",
   "metadata": {},
   "source": [
    "Now, to make sure we get a \"true\" transition state we need to optimise the starting and finishing structures:"
   ]
  },
  {
   "cell_type": "code",
   "execution_count": 4,
   "metadata": {},
   "outputs": [
    {
     "name": "stdout",
     "output_type": "stream",
     "text": [
      "      Step     Time          Energy         fmax\n",
      "BFGS:    0 08:32:46        5.560884        0.1971\n",
      "BFGS:    1 08:32:46        5.560360        0.1756\n",
      "BFGS:    2 08:32:46        5.558414        0.0086\n",
      "      Step     Time          Energy         fmax\n",
      "BFGS:    0 08:32:46        5.560891        0.1971\n",
      "BFGS:    1 08:32:46        5.560366        0.1756\n",
      "BFGS:    2 08:32:46        5.558418        0.0094\n"
     ]
    },
    {
     "data": {
      "text/plain": [
       "True"
      ]
     },
     "execution_count": 4,
     "metadata": {},
     "output_type": "execute_result"
    }
   ],
   "source": [
    "from ase.optimize import BFGS\n",
    "# Relax the initial and final states:\n",
    "BFGS(initial).run(fmax=0.05)\n",
    "BFGS(final).run(fmax=0.05)"
   ]
  },
  {
   "cell_type": "markdown",
   "metadata": {},
   "source": [
    "With these optimised structures, we can now build and interpolate a transition state search with the \"nudged elastic band approach\":"
   ]
  },
  {
   "cell_type": "code",
   "execution_count": 5,
   "metadata": {},
   "outputs": [
    {
     "name": "stdout",
     "output_type": "stream",
     "text": [
      "       Step     Time          Energy         fmax\n",
      "MDMin:    0 08:32:46        6.376949        2.1160\n",
      "MDMin:    1 08:32:46        6.294347        1.7889\n",
      "MDMin:    2 08:32:47        6.139623        0.9546\n",
      "MDMin:    3 08:32:47        6.071327        0.0545\n",
      "MDMin:    4 08:32:47        6.073959        0.5514\n",
      "MDMin:    5 08:32:47        6.073399        0.4876\n",
      "MDMin:    6 08:32:48        6.072183        0.3014\n",
      "MDMin:    7 08:32:48        6.071332        0.0344\n"
     ]
    },
    {
     "data": {
      "text/plain": [
       "True"
      ]
     },
     "execution_count": 5,
     "metadata": {},
     "output_type": "execute_result"
    }
   ],
   "source": [
    "from ase.neb import NEB\n",
    "# Create a Nudged Elastic Band:\n",
    "neb = NEB(images)\n",
    "\n",
    "# Make a starting guess for the minimum energy path (a straight line\n",
    "# from the initial to the final state):\n",
    "neb.interpolate()\n",
    "\n",
    "from ase.optimize import MDMin\n",
    "# Relax the NEB path:\n",
    "minimizer = MDMin(neb)\n",
    "minimizer.run(fmax=0.05)"
   ]
  },
  {
   "cell_type": "markdown",
   "metadata": {},
   "source": [
    "Note how the force (`fmax`) decreases as the calculation proceeds, as does the energy.\n",
    "\n",
    "Finally, as in other scenarios it is always good to check the results!"
   ]
  },
  {
   "cell_type": "code",
   "execution_count": 6,
   "metadata": {},
   "outputs": [
    {
     "name": "stdout",
     "output_type": "stream",
     "text": [
      "Energy:  5.558413829913128\n",
      "Energy:  5.7058225489332095\n",
      "Energy:  5.965744473836438\n",
      "Energy:  6.071332302410243\n",
      "Energy:  5.964642539299511\n",
      "Energy:  5.70452134793141\n",
      "Energy:  5.558418144324813\n"
     ]
    },
    {
     "data": {
      "application/vnd.jupyter.widget-view+json": {
       "model_id": "8471f686023b4d939ab2b956845ecc22",
       "version_major": 2,
       "version_minor": 0
      },
      "text/plain": [
       "HBox(children=(NGLWidget(max_frame=6), VBox(children=(Dropdown(description='Show', options=('All', 'Cu', 'Pt')…"
      ]
     },
     "metadata": {},
     "output_type": "display_data"
    }
   ],
   "source": [
    "#Print the relative energetics of the models on the pathway:\n",
    "for atoms in images:\n",
    "    print(\"Energy: \", atoms.get_potential_energy())\n",
    "\n",
    "#Bring up the viewer for the atomic objects\n",
    "view(images, viewer='ngl')"
   ]
  },
  {
   "cell_type": "markdown",
   "metadata": {},
   "source": [
    "If you want to push yourself further, have a play with removing the constraints and see what affect that has on the overal energetics? Does it decrease or increase the barrier, and why?"
   ]
  },
  {
   "cell_type": "markdown",
   "metadata": {},
   "source": [
    "(_Hint_: To do this you want to remove the constraints above and rerun all the subsequent boxes!)"
   ]
  },
  {
   "cell_type": "markdown",
   "metadata": {},
   "source": [
    "**Vibrations**\n",
    "\n",
    "If we want to confirm the nature of a transition state, we need to calculate the vibrational frequencies and ensure we have one imaginary mode!\n",
    "\n",
    "Let's calculate the vibrations for the start, finish and transition structure so we can compare:"
   ]
  },
  {
   "cell_type": "code",
   "execution_count": 7,
   "metadata": {},
   "outputs": [
    {
     "name": "stdout",
     "output_type": "stream",
     "text": [
      "---------------------\n",
      "  #    meV     cm^-1\n",
      "---------------------\n",
      "  0    8.0i     64.4i\n",
      "  1    0.0i      0.0i\n",
      "  2    0.0i      0.0i\n",
      "  3    0.0i      0.0i\n",
      "  4    0.1       1.2 \n",
      "  5    2.5      20.5 \n",
      "  6    3.8      30.7 \n",
      "  7    4.0      32.4 \n",
      "  8    4.6      37.3 \n",
      "  9    4.8      38.9 \n",
      " 10    5.3      43.1 \n",
      " 11    5.5      44.5 \n",
      " 12    5.7      46.2 \n",
      " 13    6.0      48.0 \n",
      " 14    6.6      53.4 \n",
      " 15    6.7      53.8 \n",
      " 16    6.8      55.1 \n",
      " 17    6.9      55.7 \n",
      " 18    7.2      58.2 \n",
      " 19    7.2      58.3 \n",
      " 20    7.5      60.8 \n",
      " 21    7.6      61.6 \n",
      " 22    7.7      61.8 \n",
      " 23    7.7      62.5 \n",
      " 24    7.8      62.6 \n",
      " 25    8.2      66.1 \n",
      " 26    8.3      67.3 \n",
      " 27    8.6      69.3 \n",
      " 28    8.8      71.2 \n",
      " 29    9.4      76.2 \n",
      " 30    9.6      77.1 \n",
      " 31   10.1      81.7 \n",
      " 32   10.3      83.0 \n",
      " 33   10.5      84.6 \n",
      " 34   10.5      84.8 \n",
      " 35   10.7      86.2 \n",
      " 36   11.3      90.8 \n",
      " 37   11.6      93.7 \n",
      " 38   12.3      99.4 \n",
      " 39   12.4     100.4 \n",
      " 40   12.7     102.6 \n",
      " 41   14.4     116.0 \n",
      " 42   14.8     119.7 \n",
      " 43   15.3     123.7 \n",
      " 44   15.5     125.1 \n",
      " 45   17.2     138.6 \n",
      " 46   17.3     139.9 \n",
      " 47   17.4     140.7 \n",
      " 48   17.5     141.5 \n",
      " 49   24.3     195.8 \n",
      " 50   26.1     210.8 \n",
      "---------------------\n",
      "Zero-point energy: 0.234 eV\n"
     ]
    }
   ],
   "source": [
    "from ase.vibrations import Vibrations\n",
    "vib = Vibrations(initial)\n",
    "vib.run()\n",
    "vib.summary()\n",
    "# Save the highest energy vibrational mode to visualise\n",
    "vib.write_mode(-1)"
   ]
  },
  {
   "cell_type": "markdown",
   "metadata": {},
   "source": [
    "Let's look at the strongest vibration:"
   ]
  },
  {
   "cell_type": "code",
   "execution_count": 8,
   "metadata": {},
   "outputs": [
    {
     "name": "stderr",
     "output_type": "stream",
     "text": [
      "/Users/andrewlogsdail/Library/Python/3.8/lib/python/site-packages/ase/io/jsonio.py:122: VisibleDeprecationWarning: Creating an ndarray from ragged nested sequences (which is a list-or-tuple of lists-or-tuples-or ndarrays with different lengths or shapes) is deprecated. If you meant to do this, you must specify 'dtype=object' when creating the ndarray\n",
      "  a = np.array(obj)\n"
     ]
    },
    {
     "data": {
      "application/vnd.jupyter.widget-view+json": {
       "model_id": "48080b18d14b43b69843cab7cc27cdc4",
       "version_major": 2,
       "version_minor": 0
      },
      "text/plain": [
       "HBox(children=(NGLWidget(max_frame=29), VBox(children=(Dropdown(description='Show', options=('All', 'Cu', 'Pt'…"
      ]
     },
     "metadata": {},
     "output_type": "display_data"
    }
   ],
   "source": [
    "from ase.io.trajectory import Trajectory\n",
    "traj = Trajectory('vib.50.traj')\n",
    "view(traj, viewer='ngl')"
   ]
  },
  {
   "cell_type": "markdown",
   "metadata": {},
   "source": [
    "We'll repeat the vibrations analysis for the final structure, just to compare briefly: "
   ]
  },
  {
   "cell_type": "code",
   "execution_count": 9,
   "metadata": {},
   "outputs": [
    {
     "name": "stdout",
     "output_type": "stream",
     "text": [
      "Writing vib.eq.pckl\n",
      "Writing vib.0x-.pckl\n",
      "Writing vib.0x+.pckl\n",
      "Writing vib.0y-.pckl\n",
      "Writing vib.0y+.pckl\n",
      "Writing vib.0z-.pckl\n",
      "Writing vib.0z+.pckl\n",
      "Writing vib.1x-.pckl\n",
      "Writing vib.1x+.pckl\n",
      "Writing vib.1y-.pckl\n",
      "Writing vib.1y+.pckl\n",
      "Writing vib.1z-.pckl\n",
      "Writing vib.1z+.pckl\n",
      "Writing vib.2x-.pckl\n",
      "Writing vib.2x+.pckl\n",
      "Writing vib.2y-.pckl\n",
      "Writing vib.2y+.pckl\n",
      "Writing vib.2z-.pckl\n",
      "Writing vib.2z+.pckl\n",
      "Writing vib.3x-.pckl\n",
      "Writing vib.3x+.pckl\n",
      "Writing vib.3y-.pckl\n",
      "Writing vib.3y+.pckl\n",
      "Writing vib.3z-.pckl\n",
      "Writing vib.3z+.pckl\n",
      "Writing vib.4x-.pckl\n",
      "Writing vib.4x+.pckl\n",
      "Writing vib.4y-.pckl\n",
      "Writing vib.4y+.pckl\n",
      "Writing vib.4z-.pckl\n",
      "Writing vib.4z+.pckl\n",
      "Writing vib.5x-.pckl\n",
      "Writing vib.5x+.pckl\n",
      "Writing vib.5y-.pckl\n",
      "Writing vib.5y+.pckl\n",
      "Writing vib.5z-.pckl\n",
      "Writing vib.5z+.pckl\n",
      "Writing vib.6x-.pckl\n",
      "Writing vib.6x+.pckl\n",
      "Writing vib.6y-.pckl\n",
      "Writing vib.6y+.pckl\n",
      "Writing vib.6z-.pckl\n",
      "Writing vib.6z+.pckl\n",
      "Writing vib.7x-.pckl\n",
      "Writing vib.7x+.pckl\n",
      "Writing vib.7y-.pckl\n",
      "Writing vib.7y+.pckl\n",
      "Writing vib.7z-.pckl\n",
      "Writing vib.7z+.pckl\n",
      "Writing vib.8x-.pckl\n",
      "Writing vib.8x+.pckl\n",
      "Writing vib.8y-.pckl\n",
      "Writing vib.8y+.pckl\n",
      "Writing vib.8z-.pckl\n",
      "Writing vib.8z+.pckl\n",
      "Writing vib.9x-.pckl\n",
      "Writing vib.9x+.pckl\n",
      "Writing vib.9y-.pckl\n",
      "Writing vib.9y+.pckl\n",
      "Writing vib.9z-.pckl\n",
      "Writing vib.9z+.pckl\n",
      "Writing vib.10x-.pckl\n",
      "Writing vib.10x+.pckl\n",
      "Writing vib.10y-.pckl\n",
      "Writing vib.10y+.pckl\n",
      "Writing vib.10z-.pckl\n",
      "Writing vib.10z+.pckl\n",
      "Writing vib.11x-.pckl\n",
      "Writing vib.11x+.pckl\n",
      "Writing vib.11y-.pckl\n",
      "Writing vib.11y+.pckl\n",
      "Writing vib.11z-.pckl\n",
      "Writing vib.11z+.pckl\n",
      "Writing vib.12x-.pckl\n",
      "Writing vib.12x+.pckl\n",
      "Writing vib.12y-.pckl\n",
      "Writing vib.12y+.pckl\n",
      "Writing vib.12z-.pckl\n",
      "Writing vib.12z+.pckl\n",
      "Writing vib.13x-.pckl\n",
      "Writing vib.13x+.pckl\n",
      "Writing vib.13y-.pckl\n",
      "Writing vib.13y+.pckl\n",
      "Writing vib.13z-.pckl\n",
      "Writing vib.13z+.pckl\n",
      "Writing vib.14x-.pckl\n",
      "Writing vib.14x+.pckl\n",
      "Writing vib.14y-.pckl\n",
      "Writing vib.14y+.pckl\n",
      "Writing vib.14z-.pckl\n",
      "Writing vib.14z+.pckl\n",
      "Writing vib.15x-.pckl\n",
      "Writing vib.15x+.pckl\n",
      "Writing vib.15y-.pckl\n",
      "Writing vib.15y+.pckl\n",
      "Writing vib.15z-.pckl\n",
      "Writing vib.15z+.pckl\n",
      "Writing vib.16x-.pckl\n",
      "Writing vib.16x+.pckl\n",
      "Writing vib.16y-.pckl\n",
      "Writing vib.16y+.pckl\n",
      "Writing vib.16z-.pckl\n",
      "Writing vib.16z+.pckl\n",
      "---------------------\n",
      "  #    meV     cm^-1\n",
      "---------------------\n",
      "  0    0.0i      0.0i\n",
      "  1    0.0i      0.0i\n",
      "  2    0.0i      0.0i\n",
      "  3    0.5       4.4 \n",
      "  4    3.8      30.5 \n",
      "  5    3.9      31.4 \n",
      "  6    4.8      38.8 \n",
      "  7    5.3      43.0 \n",
      "  8    5.4      43.7 \n",
      "  9    5.7      46.1 \n",
      " 10    5.8      46.9 \n",
      " 11    5.8      47.0 \n",
      " 12    6.2      49.8 \n",
      " 13    6.8      54.9 \n",
      " 14    6.9      55.9 \n",
      " 15    7.2      58.3 \n",
      " 16    7.2      58.4 \n",
      " 17    7.5      60.8 \n",
      " 18    7.6      61.6 \n",
      " 19    7.7      61.8 \n",
      " 20    7.7      62.5 \n",
      " 21    7.8      62.9 \n",
      " 22    8.0      64.3 \n",
      " 23    8.1      65.6 \n",
      " 24    8.4      67.5 \n",
      " 25    9.1      73.6 \n",
      " 26    9.3      74.9 \n",
      " 27    9.3      75.3 \n",
      " 28    9.5      76.7 \n",
      " 29    9.7      78.0 \n",
      " 30   10.2      82.3 \n",
      " 31   10.3      83.1 \n",
      " 32   10.4      83.9 \n",
      " 33   10.5      84.4 \n",
      " 34   10.8      86.8 \n",
      " 35   11.3      90.8 \n",
      " 36   11.7      94.1 \n",
      " 37   12.0      97.1 \n",
      " 38   12.4     100.0 \n",
      " 39   12.4     100.0 \n",
      " 40   12.8     103.0 \n",
      " 41   14.3     115.1 \n",
      " 42   14.8     119.2 \n",
      " 43   15.3     123.4 \n",
      " 44   15.5     124.8 \n",
      " 45   15.7     126.7 \n",
      " 46   17.4     140.2 \n",
      " 47   17.5     141.4 \n",
      " 48   17.7     142.6 \n",
      " 49   18.0     145.4 \n",
      " 50   26.4     212.5 \n",
      "---------------------\n",
      "Zero-point energy: 0.241 eV\n"
     ]
    }
   ],
   "source": [
    "# Delete old files\n",
    "import os\n",
    "files = os.listdir(os.curdir)\n",
    "for f in files:\n",
    "    if f.endswith(\".pckl\"):\n",
    "        os.remove(f)\n",
    "\n",
    "# Run new vibrations\n",
    "from ase.vibrations import Vibrations\n",
    "vib = Vibrations(final)\n",
    "vib.run()\n",
    "vib.summary()"
   ]
  },
  {
   "cell_type": "markdown",
   "metadata": {},
   "source": [
    "As the structures are symmetry equivalent, we should have the same energetics for these two systems.\n",
    "\n",
    "Finally, now lets consider the transition state:"
   ]
  },
  {
   "cell_type": "code",
   "execution_count": 10,
   "metadata": {},
   "outputs": [
    {
     "name": "stdout",
     "output_type": "stream",
     "text": [
      "Writing vib.eq.pckl\n",
      "Writing vib.0x-.pckl\n",
      "Writing vib.0x+.pckl\n",
      "Writing vib.0y-.pckl\n",
      "Writing vib.0y+.pckl\n",
      "Writing vib.0z-.pckl\n",
      "Writing vib.0z+.pckl\n",
      "Writing vib.1x-.pckl\n",
      "Writing vib.1x+.pckl\n",
      "Writing vib.1y-.pckl\n",
      "Writing vib.1y+.pckl\n",
      "Writing vib.1z-.pckl\n",
      "Writing vib.1z+.pckl\n",
      "Writing vib.2x-.pckl\n",
      "Writing vib.2x+.pckl\n",
      "Writing vib.2y-.pckl\n",
      "Writing vib.2y+.pckl\n",
      "Writing vib.2z-.pckl\n",
      "Writing vib.2z+.pckl\n",
      "Writing vib.3x-.pckl\n",
      "Writing vib.3x+.pckl\n",
      "Writing vib.3y-.pckl\n",
      "Writing vib.3y+.pckl\n",
      "Writing vib.3z-.pckl\n",
      "Writing vib.3z+.pckl\n",
      "Writing vib.4x-.pckl\n",
      "Writing vib.4x+.pckl\n",
      "Writing vib.4y-.pckl\n",
      "Writing vib.4y+.pckl\n",
      "Writing vib.4z-.pckl\n",
      "Writing vib.4z+.pckl\n",
      "Writing vib.5x-.pckl\n",
      "Writing vib.5x+.pckl\n",
      "Writing vib.5y-.pckl\n",
      "Writing vib.5y+.pckl\n",
      "Writing vib.5z-.pckl\n",
      "Writing vib.5z+.pckl\n",
      "Writing vib.6x-.pckl\n",
      "Writing vib.6x+.pckl\n",
      "Writing vib.6y-.pckl\n",
      "Writing vib.6y+.pckl\n",
      "Writing vib.6z-.pckl\n",
      "Writing vib.6z+.pckl\n",
      "Writing vib.7x-.pckl\n",
      "Writing vib.7x+.pckl\n",
      "Writing vib.7y-.pckl\n",
      "Writing vib.7y+.pckl\n",
      "Writing vib.7z-.pckl\n",
      "Writing vib.7z+.pckl\n",
      "Writing vib.8x-.pckl\n",
      "Writing vib.8x+.pckl\n",
      "Writing vib.8y-.pckl\n",
      "Writing vib.8y+.pckl\n",
      "Writing vib.8z-.pckl\n",
      "Writing vib.8z+.pckl\n",
      "Writing vib.9x-.pckl\n",
      "Writing vib.9x+.pckl\n",
      "Writing vib.9y-.pckl\n",
      "Writing vib.9y+.pckl\n",
      "Writing vib.9z-.pckl\n",
      "Writing vib.9z+.pckl\n",
      "Writing vib.10x-.pckl\n",
      "Writing vib.10x+.pckl\n",
      "Writing vib.10y-.pckl\n",
      "Writing vib.10y+.pckl\n",
      "Writing vib.10z-.pckl\n",
      "Writing vib.10z+.pckl\n",
      "Writing vib.11x-.pckl\n",
      "Writing vib.11x+.pckl\n",
      "Writing vib.11y-.pckl\n",
      "Writing vib.11y+.pckl\n",
      "Writing vib.11z-.pckl\n",
      "Writing vib.11z+.pckl\n",
      "Writing vib.12x-.pckl\n",
      "Writing vib.12x+.pckl\n",
      "Writing vib.12y-.pckl\n",
      "Writing vib.12y+.pckl\n",
      "Writing vib.12z-.pckl\n",
      "Writing vib.12z+.pckl\n",
      "Writing vib.13x-.pckl\n",
      "Writing vib.13x+.pckl\n",
      "Writing vib.13y-.pckl\n",
      "Writing vib.13y+.pckl\n",
      "Writing vib.13z-.pckl\n",
      "Writing vib.13z+.pckl\n",
      "Writing vib.14x-.pckl\n",
      "Writing vib.14x+.pckl\n",
      "Writing vib.14y-.pckl\n",
      "Writing vib.14y+.pckl\n",
      "Writing vib.14z-.pckl\n",
      "Writing vib.14z+.pckl\n",
      "Writing vib.15x-.pckl\n",
      "Writing vib.15x+.pckl\n",
      "Writing vib.15y-.pckl\n",
      "Writing vib.15y+.pckl\n",
      "Writing vib.15z-.pckl\n",
      "Writing vib.15z+.pckl\n",
      "Writing vib.16x-.pckl\n",
      "Writing vib.16x+.pckl\n",
      "Writing vib.16y-.pckl\n",
      "Writing vib.16y+.pckl\n",
      "Writing vib.16z-.pckl\n",
      "Writing vib.16z+.pckl\n",
      "---------------------\n",
      "  #    meV     cm^-1\n",
      "---------------------\n",
      "  0    8.0i     64.4i\n",
      "  1    0.0i      0.0i\n",
      "  2    0.0i      0.0i\n",
      "  3    0.0i      0.0i\n",
      "  4    0.1       1.2 \n",
      "  5    2.5      20.5 \n",
      "  6    3.8      30.7 \n",
      "  7    4.0      32.4 \n",
      "  8    4.6      37.3 \n",
      "  9    4.8      38.9 \n",
      " 10    5.3      43.1 \n",
      " 11    5.5      44.5 \n",
      " 12    5.7      46.2 \n",
      " 13    6.0      48.0 \n",
      " 14    6.6      53.4 \n",
      " 15    6.7      53.8 \n",
      " 16    6.8      55.1 \n",
      " 17    6.9      55.7 \n",
      " 18    7.2      58.2 \n",
      " 19    7.2      58.3 \n",
      " 20    7.5      60.8 \n",
      " 21    7.6      61.6 \n",
      " 22    7.7      61.8 \n",
      " 23    7.7      62.5 \n",
      " 24    7.8      62.6 \n",
      " 25    8.2      66.1 \n",
      " 26    8.3      67.3 \n",
      " 27    8.6      69.3 \n",
      " 28    8.8      71.2 \n",
      " 29    9.4      76.2 \n",
      " 30    9.6      77.1 \n",
      " 31   10.1      81.7 \n",
      " 32   10.3      83.0 \n",
      " 33   10.5      84.6 \n",
      " 34   10.5      84.8 \n",
      " 35   10.7      86.2 \n",
      " 36   11.3      90.8 \n",
      " 37   11.6      93.7 \n",
      " 38   12.3      99.4 \n",
      " 39   12.4     100.4 \n",
      " 40   12.7     102.6 \n",
      " 41   14.4     116.0 \n",
      " 42   14.8     119.7 \n",
      " 43   15.3     123.7 \n",
      " 44   15.5     125.1 \n",
      " 45   17.2     138.6 \n",
      " 46   17.3     139.9 \n",
      " 47   17.4     140.7 \n",
      " 48   17.5     141.5 \n",
      " 49   24.3     195.8 \n",
      " 50   26.1     210.8 \n",
      "---------------------\n",
      "Zero-point energy: 0.234 eV\n"
     ]
    }
   ],
   "source": [
    "# Delete old files\n",
    "import os\n",
    "files = os.listdir(os.curdir)\n",
    "for f in files:\n",
    "    if f.endswith(\".pckl\"):\n",
    "        os.remove(f)\n",
    "\n",
    "from ase.vibrations import Vibrations\n",
    "vib = Vibrations(images[3])\n",
    "vib.run()\n",
    "vib.summary()\n",
    "# Save the imaginary vibrational mode to visualise\n",
    "vib.write_mode(0)"
   ]
  },
  {
   "cell_type": "markdown",
   "metadata": {},
   "source": [
    "Note the single imaginary frequency! So we have a valid transition state. Let's also look at the highest energy vibration:"
   ]
  },
  {
   "cell_type": "code",
   "execution_count": 11,
   "metadata": {},
   "outputs": [
    {
     "data": {
      "application/vnd.jupyter.widget-view+json": {
       "model_id": "c738844dbefa486e817dbad9134bda18",
       "version_major": 2,
       "version_minor": 0
      },
      "text/plain": [
       "HBox(children=(NGLWidget(max_frame=29), VBox(children=(Dropdown(description='Show', options=('All', 'Cu', 'Pt'…"
      ]
     },
     "metadata": {},
     "output_type": "display_data"
    }
   ],
   "source": [
    "from ase.io.trajectory import Trajectory\n",
    "traj = Trajectory('vib.0.traj')\n",
    "view(traj, viewer='ngl')"
   ]
  },
  {
   "cell_type": "code",
   "execution_count": null,
   "metadata": {},
   "outputs": [],
   "source": []
  }
 ],
 "metadata": {
  "kernelspec": {
   "display_name": "Python 3",
   "language": "python",
   "name": "python3"
  },
  "language_info": {
   "codemirror_mode": {
    "name": "ipython",
    "version": 3
   },
   "file_extension": ".py",
   "mimetype": "text/x-python",
   "name": "python",
   "nbconvert_exporter": "python",
   "pygments_lexer": "ipython3",
   "version": "3.8.5"
  }
 },
 "nbformat": 4,
 "nbformat_minor": 4
}
