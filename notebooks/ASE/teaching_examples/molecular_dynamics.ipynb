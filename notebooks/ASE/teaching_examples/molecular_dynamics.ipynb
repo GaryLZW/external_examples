{
 "cells": [
  {
   "cell_type": "markdown",
   "metadata": {},
   "source": [
    "**Molecular Dynamics: NVE**\n",
    "\n",
    "If we want to work at conditions beyond the athermal limit, we need to do dynamical simulations. Here, we use a technique called molecular dynamics, or MD.\n",
    "\n",
    "As previously, lets setup a surface and run some examples. First up, loading modules and building a Pt surface with Cu:"
   ]
  },
  {
   "cell_type": "code",
   "execution_count": 1,
   "metadata": {},
   "outputs": [],
   "source": [
    "from ase import Atoms, Atom\n",
    "from ase.build import fcc110\n",
    "from math import sqrt\n",
    "\n",
    "# Make the Pt 110 slab.\n",
    "atoms = fcc110('Pt', (2, 2, 4), vacuum=7.)\n",
    "atoms.set_pbc((1, 1, 0))\n",
    "\n",
    "a = 3.9242\n",
    "b = a / sqrt(2)\n",
    "h = b / 2 \n",
    "atoms.append(Atom('Cu',  atoms[8].position + (0., 0., 2.5)))"
   ]
  },
  {
   "cell_type": "markdown",
   "metadata": {},
   "source": [
    "Now as usual lets assign the calcutor to the object:"
   ]
  },
  {
   "cell_type": "code",
   "execution_count": 2,
   "metadata": {},
   "outputs": [],
   "source": [
    "from ase.calculators.emt import EMT\n",
    "atoms.set_calculator(EMT())"
   ]
  },
  {
   "cell_type": "markdown",
   "metadata": {},
   "source": [
    "OK, now we need to think about our MD simulation. Let's initially run the calculatio at 1000 K, using a Boltzmann distribution for the veolcities: "
   ]
  },
  {
   "cell_type": "code",
   "execution_count": 3,
   "metadata": {},
   "outputs": [],
   "source": [
    "from ase.md.velocitydistribution import MaxwellBoltzmannDistribution\n",
    "from ase import units\n",
    "# Set the momenta corresponding to T=500K\n",
    "T = 1000\n",
    "MaxwellBoltzmannDistribution(atoms, T*units.kB)"
   ]
  },
  {
   "cell_type": "markdown",
   "metadata": {},
   "source": [
    "Next, lets setup an NVE calculation (remembering that NVE is constant mols, volume and energy):"
   ]
  },
  {
   "cell_type": "code",
   "execution_count": 4,
   "metadata": {},
   "outputs": [],
   "source": [
    "from ase.md.verlet import VelocityVerlet\n",
    "dyn = VelocityVerlet(atoms, 5 * units.fs)  # 5 fs time step."
   ]
  },
  {
   "cell_type": "markdown",
   "metadata": {},
   "source": [
    "Now we are going to run the calculation. We are going to use a helper function to print energies - don't worry about the code structure, this is just to help us see the results as the simulation progresses:"
   ]
  },
  {
   "cell_type": "code",
   "execution_count": 5,
   "metadata": {},
   "outputs": [
    {
     "name": "stdout",
     "output_type": "stream",
     "text": [
      "Energy per atom: Epot = 0.327eV  Ekin = 0.129eV (T=1002K)  Etot = 0.457eV\n",
      "Energy per atom: Epot = 0.327eV  Ekin = 0.129eV (T=1002K)  Etot = 0.457eV\n",
      "Energy per atom: Epot = 0.379eV  Ekin = 0.078eV (T=603K)  Etot = 0.457eV\n",
      "Energy per atom: Epot = 0.396eV  Ekin = 0.060eV (T=466K)  Etot = 0.457eV\n",
      "Energy per atom: Epot = 0.374eV  Ekin = 0.083eV (T=639K)  Etot = 0.457eV\n",
      "Energy per atom: Epot = 0.377eV  Ekin = 0.080eV (T=619K)  Etot = 0.457eV\n",
      "Energy per atom: Epot = 0.374eV  Ekin = 0.083eV (T=640K)  Etot = 0.457eV\n",
      "Energy per atom: Epot = 0.371eV  Ekin = 0.085eV (T=660K)  Etot = 0.457eV\n",
      "Energy per atom: Epot = 0.376eV  Ekin = 0.080eV (T=621K)  Etot = 0.457eV\n",
      "Energy per atom: Epot = 0.375eV  Ekin = 0.082eV (T=631K)  Etot = 0.457eV\n",
      "Energy per atom: Epot = 0.378eV  Ekin = 0.078eV (T=606K)  Etot = 0.457eV\n",
      "Energy per atom: Epot = 0.374eV  Ekin = 0.082eV (T=637K)  Etot = 0.457eV\n",
      "Energy per atom: Epot = 0.359eV  Ekin = 0.097eV (T=753K)  Etot = 0.457eV\n",
      "Energy per atom: Epot = 0.367eV  Ekin = 0.089eV (T=692K)  Etot = 0.457eV\n",
      "Energy per atom: Epot = 0.372eV  Ekin = 0.085eV (T=655K)  Etot = 0.457eV\n",
      "Energy per atom: Epot = 0.385eV  Ekin = 0.071eV (T=553K)  Etot = 0.457eV\n",
      "Energy per atom: Epot = 0.386eV  Ekin = 0.071eV (T=547K)  Etot = 0.457eV\n",
      "Energy per atom: Epot = 0.387eV  Ekin = 0.070eV (T=541K)  Etot = 0.457eV\n",
      "Energy per atom: Epot = 0.381eV  Ekin = 0.076eV (T=588K)  Etot = 0.457eV\n",
      "Energy per atom: Epot = 0.385eV  Ekin = 0.071eV (T=553K)  Etot = 0.457eV\n",
      "Energy per atom: Epot = 0.389eV  Ekin = 0.067eV (T=522K)  Etot = 0.457eV\n",
      "Energy per atom: Epot = 0.376eV  Ekin = 0.081eV (T=626K)  Etot = 0.457eV\n"
     ]
    },
    {
     "data": {
      "text/plain": [
       "True"
      ]
     },
     "execution_count": 5,
     "metadata": {},
     "output_type": "execute_result"
    }
   ],
   "source": [
    "def printenergy(a=atoms):  # store a reference to atoms in the definition.\n",
    "    \"\"\"Function to print the potential, kinetic and total energy.\"\"\"\n",
    "    epot = a.get_potential_energy() / len(a)\n",
    "    ekin = a.get_kinetic_energy() / len(a)\n",
    "    print('Energy per atom: Epot = %.3feV  Ekin = %.3feV (T=%3.0fK)  '\n",
    "          'Etot = %.3feV' % (epot, ekin, ekin / (1.5 * units.kB), epot + ekin))\n",
    "\n",
    "from ase.io.trajectory import Trajectory\n",
    "# Now run the dynamics\n",
    "dyn.attach(printenergy, interval=10)\n",
    "traj = Trajectory('moldyn_nve.traj', 'w', atoms)\n",
    "dyn.attach(traj.write, interval=10)\n",
    "printenergy()\n",
    "\n",
    "# Run for 200 steps, i.e. 200*5 fs = 1 ns\n",
    "dyn.run(200)"
   ]
  },
  {
   "cell_type": "markdown",
   "metadata": {},
   "source": [
    "Finally, once complete, lets visualise the system:"
   ]
  },
  {
   "cell_type": "code",
   "execution_count": 6,
   "metadata": {},
   "outputs": [
    {
     "name": "stderr",
     "output_type": "stream",
     "text": [
      "/Users/andrewlogsdail/Library/Python/3.8/lib/python/site-packages/ase/io/jsonio.py:122: VisibleDeprecationWarning: Creating an ndarray from ragged nested sequences (which is a list-or-tuple of lists-or-tuples-or ndarrays with different lengths or shapes) is deprecated. If you meant to do this, you must specify 'dtype=object' when creating the ndarray\n",
      "  a = np.array(obj)\n"
     ]
    },
    {
     "data": {
      "application/vnd.jupyter.widget-view+json": {
       "model_id": "85369e726a534524aa66bcfb709d631b",
       "version_major": 2,
       "version_minor": 0
      },
      "text/plain": []
     },
     "metadata": {},
     "output_type": "display_data"
    },
    {
     "name": "stderr",
     "output_type": "stream",
     "text": [
      "/Users/andrewlogsdail/Library/Python/3.8/lib/python/site-packages/ase/io/jsonio.py:122: VisibleDeprecationWarning: Creating an ndarray from ragged nested sequences (which is a list-or-tuple of lists-or-tuples-or ndarrays with different lengths or shapes) is deprecated. If you meant to do this, you must specify 'dtype=object' when creating the ndarray\n",
      "  a = np.array(obj)\n"
     ]
    },
    {
     "data": {
      "application/vnd.jupyter.widget-view+json": {
       "model_id": "300758b37cde4036bf0face572298dca",
       "version_major": 2,
       "version_minor": 0
      },
      "text/plain": [
       "HBox(children=(NGLWidget(max_frame=20), VBox(children=(Dropdown(description='Show', options=('All', 'Pt', 'Cu'…"
      ]
     },
     "metadata": {},
     "output_type": "display_data"
    }
   ],
   "source": [
    "from ase.visualize import view\n",
    "traj2 = Trajectory('moldyn_nve.traj')\n",
    "view(traj2, viewer='ngl')"
   ]
  },
  {
   "cell_type": "markdown",
   "metadata": {},
   "source": [
    "What is the behaviour of the system if you change the starting temperature, or the intial distribution of velocities? Alter the settings, rerun and see if your  data is as expected."
   ]
  },
  {
   "cell_type": "markdown",
   "metadata": {},
   "source": [
    "**Molecular Dynamics: NVT**\n",
    "\n",
    "As our final calculation, lets run an NVT simulation and compare the results to our NVE.\n",
    "\n",
    "We already have the settings and models loaded, so we can make use of this here and start our calculation from the end of the NVE simulation:"
   ]
  },
  {
   "cell_type": "code",
   "execution_count": 7,
   "metadata": {},
   "outputs": [],
   "source": [
    "from ase.md.langevin import Langevin\n",
    "dyn = Langevin(atoms, 5*units.fs, T*units.kB, 0.02)"
   ]
  },
  {
   "cell_type": "markdown",
   "metadata": {},
   "source": [
    "All we need to do now the algorithm is setup is to run the calculation again:"
   ]
  },
  {
   "cell_type": "code",
   "execution_count": 8,
   "metadata": {},
   "outputs": [
    {
     "name": "stdout",
     "output_type": "stream",
     "text": [
      "Energy per atom: Epot = 0.376eV  Ekin = 0.081eV (T=626K)  Etot = 0.457eV\n",
      "Energy per atom: Epot = 0.376eV  Ekin = 0.081eV (T=626K)  Etot = 0.457eV\n",
      "Energy per atom: Epot = 0.381eV  Ekin = 0.067eV (T=517K)  Etot = 0.447eV\n",
      "Energy per atom: Epot = 0.373eV  Ekin = 0.069eV (T=535K)  Etot = 0.442eV\n",
      "Energy per atom: Epot = 0.388eV  Ekin = 0.073eV (T=566K)  Etot = 0.461eV\n",
      "Energy per atom: Epot = 0.396eV  Ekin = 0.086eV (T=662K)  Etot = 0.481eV\n",
      "Energy per atom: Epot = 0.410eV  Ekin = 0.080eV (T=622K)  Etot = 0.490eV\n",
      "Energy per atom: Epot = 0.395eV  Ekin = 0.092eV (T=715K)  Etot = 0.487eV\n",
      "Energy per atom: Epot = 0.406eV  Ekin = 0.077eV (T=592K)  Etot = 0.483eV\n",
      "Energy per atom: Epot = 0.398eV  Ekin = 0.102eV (T=786K)  Etot = 0.500eV\n",
      "Energy per atom: Epot = 0.404eV  Ekin = 0.099eV (T=766K)  Etot = 0.503eV\n",
      "Energy per atom: Epot = 0.385eV  Ekin = 0.103eV (T=800K)  Etot = 0.488eV\n",
      "Energy per atom: Epot = 0.404eV  Ekin = 0.083eV (T=645K)  Etot = 0.487eV\n",
      "Energy per atom: Epot = 0.388eV  Ekin = 0.103eV (T=794K)  Etot = 0.491eV\n",
      "Energy per atom: Epot = 0.375eV  Ekin = 0.106eV (T=821K)  Etot = 0.481eV\n",
      "Energy per atom: Epot = 0.389eV  Ekin = 0.085eV (T=657K)  Etot = 0.474eV\n",
      "Energy per atom: Epot = 0.393eV  Ekin = 0.084eV (T=651K)  Etot = 0.477eV\n",
      "Energy per atom: Epot = 0.378eV  Ekin = 0.111eV (T=859K)  Etot = 0.489eV\n",
      "Energy per atom: Epot = 0.400eV  Ekin = 0.100eV (T=774K)  Etot = 0.500eV\n",
      "Energy per atom: Epot = 0.419eV  Ekin = 0.088eV (T=680K)  Etot = 0.507eV\n",
      "Energy per atom: Epot = 0.412eV  Ekin = 0.104eV (T=808K)  Etot = 0.516eV\n",
      "Energy per atom: Epot = 0.402eV  Ekin = 0.103eV (T=800K)  Etot = 0.505eV\n"
     ]
    },
    {
     "data": {
      "text/plain": [
       "True"
      ]
     },
     "execution_count": 8,
     "metadata": {},
     "output_type": "execute_result"
    }
   ],
   "source": [
    "# Now run the dynamics\n",
    "dyn.attach(printenergy, interval=10)\n",
    "traj = Trajectory('moldyn_nvt.traj', 'w', atoms)\n",
    "dyn.attach(traj.write, interval=10)\n",
    "printenergy()\n",
    "dyn.run(200)"
   ]
  },
  {
   "cell_type": "markdown",
   "metadata": {},
   "source": [
    "Notice how as the calculation runs the total energy decreases? Why is this?\n",
    "\n",
    "Again, to visualise our results we can open the trajectory."
   ]
  },
  {
   "cell_type": "code",
   "execution_count": 9,
   "metadata": {},
   "outputs": [
    {
     "data": {
      "application/vnd.jupyter.widget-view+json": {
       "model_id": "e22c631795e246b5a1d30dc3d9b20eb8",
       "version_major": 2,
       "version_minor": 0
      },
      "text/plain": [
       "HBox(children=(NGLWidget(max_frame=20), VBox(children=(Dropdown(description='Show', options=('All', 'Pt', 'Cu'…"
      ]
     },
     "metadata": {},
     "output_type": "display_data"
    }
   ],
   "source": [
    "traj2 = Trajectory('moldyn_nvt.traj')\n",
    "view(traj2, viewer='ngl')"
   ]
  },
  {
   "cell_type": "code",
   "execution_count": null,
   "metadata": {},
   "outputs": [],
   "source": []
  }
 ],
 "metadata": {
  "kernelspec": {
   "display_name": "Python 3",
   "language": "python",
   "name": "python3"
  },
  "language_info": {
   "codemirror_mode": {
    "name": "ipython",
    "version": 3
   },
   "file_extension": ".py",
   "mimetype": "text/x-python",
   "name": "python",
   "nbconvert_exporter": "python",
   "pygments_lexer": "ipython3",
   "version": "3.8.5"
  }
 },
 "nbformat": 4,
 "nbformat_minor": 4
}
