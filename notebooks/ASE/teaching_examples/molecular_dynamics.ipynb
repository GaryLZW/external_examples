{
 "cells": [
  {
   "cell_type": "markdown",
   "metadata": {},
   "source": [
    "**Molecular Dynamics: NVE**\n",
    "\n",
    "If we want to work at conditions beyond the athermal limit, we need to do dynamical simulations. Here, we use a technique called molecular dynamics, or MD.\n",
    "\n",
    "As previously, lets setup a surface and run some examples. First up, loading modules and building a Pt surface with Cu:"
   ]
  },
  {
   "cell_type": "code",
   "execution_count": 1,
   "metadata": {},
   "outputs": [],
   "source": [
    "from ase import Atoms, Atom\n",
    "from ase.build import fcc110\n",
    "from math import sqrt\n",
    "\n",
    "# Make the Pt 110 slab.\n",
    "atoms = fcc110('Pt', (2, 2, 4), vacuum=7.)\n",
    "atoms.set_pbc((1, 1, 0))\n",
    "\n",
    "a = 3.9242\n",
    "b = a / sqrt(2)\n",
    "h = b / 2 \n",
    "atoms.append(Atom('Cu',  atoms[8].position + (0., 0., 2.5)))"
   ]
  },
  {
   "cell_type": "markdown",
   "metadata": {},
   "source": [
    "Now as usual lets assign the calcutor to the object:"
   ]
  },
  {
   "cell_type": "code",
   "execution_count": 2,
   "metadata": {},
   "outputs": [],
   "source": [
    "from ase.calculators.emt import EMT\n",
    "atoms.set_calculator(EMT())"
   ]
  },
  {
   "cell_type": "markdown",
   "metadata": {},
   "source": [
    "OK, now we need to think about our MD simulation. Let's initially run the calculation at 1000 K, so to ensure realistic behaviour from the outset we'll use a Boltzmann distribution for the veolcities: "
   ]
  },
  {
   "cell_type": "code",
   "execution_count": 3,
   "metadata": {},
   "outputs": [],
   "source": [
    "from ase.md.velocitydistribution import MaxwellBoltzmannDistribution\n",
    "from ase import units\n",
    "# Set the momenta corresponding to T=500K\n",
    "T = 1000\n",
    "MaxwellBoltzmannDistribution(atoms, T*units.kB)"
   ]
  },
  {
   "cell_type": "markdown",
   "metadata": {},
   "source": [
    "Next, lets setup an NVE calculation (remembering that NVE is constant mols, volume and energy):"
   ]
  },
  {
   "cell_type": "code",
   "execution_count": 4,
   "metadata": {},
   "outputs": [],
   "source": [
    "from ase.md.verlet import VelocityVerlet\n",
    "dyn = VelocityVerlet(atoms, 5 * units.fs)  # 5 fs time step."
   ]
  },
  {
   "cell_type": "markdown",
   "metadata": {},
   "source": [
    "The values given here to the `VelocityVerlet` algorithm are the atoms object and the time between each step in the MD (5 fs). \n",
    "\n",
    "Now we are going to run the calculation. We are going to use a helper function to print energies - don't worry about the code structure, this is just to help us see the results as the simulation progresses:"
   ]
  },
  {
   "cell_type": "code",
   "execution_count": 5,
   "metadata": {},
   "outputs": [
    {
     "name": "stdout",
     "output_type": "stream",
     "text": [
      "Energy per atom: Epot = 0.327eV  Ekin = 0.149eV (T=1150K)  Etot = 0.476eV\n",
      "Energy per atom: Epot = 0.327eV  Ekin = 0.149eV (T=1150K)  Etot = 0.476eV\n",
      "Energy per atom: Epot = 0.402eV  Ekin = 0.074eV (T=573K)  Etot = 0.476eV\n",
      "Energy per atom: Epot = 0.402eV  Ekin = 0.074eV (T=572K)  Etot = 0.476eV\n",
      "Energy per atom: Epot = 0.399eV  Ekin = 0.077eV (T=593K)  Etot = 0.476eV\n",
      "Energy per atom: Epot = 0.384eV  Ekin = 0.092eV (T=713K)  Etot = 0.476eV\n",
      "Energy per atom: Epot = 0.369eV  Ekin = 0.107eV (T=826K)  Etot = 0.476eV\n",
      "Energy per atom: Epot = 0.402eV  Ekin = 0.073eV (T=568K)  Etot = 0.476eV\n",
      "Energy per atom: Epot = 0.396eV  Ekin = 0.079eV (T=614K)  Etot = 0.476eV\n",
      "Energy per atom: Epot = 0.393eV  Ekin = 0.083eV (T=643K)  Etot = 0.476eV\n",
      "Energy per atom: Epot = 0.367eV  Ekin = 0.109eV (T=842K)  Etot = 0.476eV\n",
      "Energy per atom: Epot = 0.390eV  Ekin = 0.085eV (T=660K)  Etot = 0.476eV\n",
      "Energy per atom: Epot = 0.397eV  Ekin = 0.079eV (T=613K)  Etot = 0.476eV\n",
      "Energy per atom: Epot = 0.370eV  Ekin = 0.106eV (T=817K)  Etot = 0.476eV\n",
      "Energy per atom: Epot = 0.406eV  Ekin = 0.069eV (T=537K)  Etot = 0.476eV\n",
      "Energy per atom: Epot = 0.413eV  Ekin = 0.062eV (T=482K)  Etot = 0.476eV\n",
      "Energy per atom: Epot = 0.401eV  Ekin = 0.075eV (T=580K)  Etot = 0.476eV\n",
      "Energy per atom: Epot = 0.361eV  Ekin = 0.115eV (T=886K)  Etot = 0.476eV\n",
      "Energy per atom: Epot = 0.379eV  Ekin = 0.097eV (T=748K)  Etot = 0.476eV\n",
      "Energy per atom: Epot = 0.405eV  Ekin = 0.071eV (T=549K)  Etot = 0.476eV\n",
      "Energy per atom: Epot = 0.370eV  Ekin = 0.105eV (T=815K)  Etot = 0.476eV\n",
      "Energy per atom: Epot = 0.396eV  Ekin = 0.080eV (T=619K)  Etot = 0.476eV\n"
     ]
    },
    {
     "data": {
      "text/plain": [
       "True"
      ]
     },
     "execution_count": 5,
     "metadata": {},
     "output_type": "execute_result"
    }
   ],
   "source": [
    "def printenergy(a=atoms):  # store a reference to atoms in the definition.\n",
    "    \"\"\"Function to print the potential, kinetic and total energy.\"\"\"\n",
    "    epot = a.get_potential_energy() / len(a)\n",
    "    ekin = a.get_kinetic_energy() / len(a)\n",
    "    print('Energy per atom: Epot = %.3feV  Ekin = %.3feV (T=%3.0fK)  '\n",
    "          'Etot = %.3feV' % (epot, ekin, ekin / (1.5 * units.kB), epot + ekin))\n",
    "\n",
    "from ase.io.trajectory import Trajectory\n",
    "# Now run the dynamics\n",
    "dyn.attach(printenergy, interval=10)\n",
    "traj = Trajectory('moldyn_nve.traj', 'w', atoms)\n",
    "dyn.attach(traj.write, interval=10)\n",
    "printenergy()\n",
    "\n",
    "# Run for 200 steps, i.e. 200*5 fs = 1 ns\n",
    "dyn.run(200)"
   ]
  },
  {
   "cell_type": "markdown",
   "metadata": {},
   "source": [
    "The helper prints out the potential, kinetic and total energy so we can track the calculation. Finally, once complete, lets visualise the system:"
   ]
  },
  {
   "cell_type": "code",
   "execution_count": 6,
   "metadata": {},
   "outputs": [
    {
     "name": "stderr",
     "output_type": "stream",
     "text": [
      "/Users/andrewlogsdail/Library/Python/3.8/lib/python/site-packages/ase/io/jsonio.py:122: VisibleDeprecationWarning: Creating an ndarray from ragged nested sequences (which is a list-or-tuple of lists-or-tuples-or ndarrays with different lengths or shapes) is deprecated. If you meant to do this, you must specify 'dtype=object' when creating the ndarray\n",
      "  a = np.array(obj)\n"
     ]
    },
    {
     "data": {
      "application/vnd.jupyter.widget-view+json": {
       "model_id": "e014f6a22d624f8ba4b8284e8671019b",
       "version_major": 2,
       "version_minor": 0
      },
      "text/plain": []
     },
     "metadata": {},
     "output_type": "display_data"
    },
    {
     "name": "stderr",
     "output_type": "stream",
     "text": [
      "/Users/andrewlogsdail/Library/Python/3.8/lib/python/site-packages/ase/io/jsonio.py:122: VisibleDeprecationWarning: Creating an ndarray from ragged nested sequences (which is a list-or-tuple of lists-or-tuples-or ndarrays with different lengths or shapes) is deprecated. If you meant to do this, you must specify 'dtype=object' when creating the ndarray\n",
      "  a = np.array(obj)\n"
     ]
    },
    {
     "data": {
      "application/vnd.jupyter.widget-view+json": {
       "model_id": "f25427f8c29e4a7496f42bbaecf3f0bb",
       "version_major": 2,
       "version_minor": 0
      },
      "text/plain": [
       "HBox(children=(NGLWidget(max_frame=20), VBox(children=(Dropdown(description='Show', options=('All', 'Pt', 'Cu'…"
      ]
     },
     "metadata": {},
     "output_type": "display_data"
    }
   ],
   "source": [
    "from ase.visualize import view\n",
    "traj2 = Trajectory('moldyn_nve.traj')\n",
    "view(traj2, viewer='ngl')"
   ]
  },
  {
   "cell_type": "markdown",
   "metadata": {},
   "source": [
    "What is the behaviour of the system if you change the starting temperature, or the intial distribution of velocities? Alter the settings, rerun and see if your  data is as expected."
   ]
  },
  {
   "cell_type": "markdown",
   "metadata": {},
   "source": [
    "**Molecular Dynamics: NVT**\n",
    "\n",
    "As our final calculation, lets run an NVT simulation and compare the results to our NVE.\n",
    "\n",
    "We already have the settings and models loaded, so we can make use of this here and start our calculation from the end of the NVE simulation:"
   ]
  },
  {
   "cell_type": "code",
   "execution_count": 7,
   "metadata": {},
   "outputs": [],
   "source": [
    "from ase.md.langevin import Langevin\n",
    "dyn = Langevin(atoms, 5*units.fs, T*units.kB, 0.02)"
   ]
  },
  {
   "cell_type": "markdown",
   "metadata": {},
   "source": [
    "This setup is similar to the `VelocityVerlet`, except now we add an additional setting that controls the heat-bath coupling for the MD simulation.\n",
    "\n",
    "All we need to do now the algorithm is setup is to run the calculation again:"
   ]
  },
  {
   "cell_type": "code",
   "execution_count": 8,
   "metadata": {},
   "outputs": [
    {
     "name": "stdout",
     "output_type": "stream",
     "text": [
      "Energy per atom: Epot = 0.396eV  Ekin = 0.080eV (T=619K)  Etot = 0.476eV\n",
      "Energy per atom: Epot = 0.396eV  Ekin = 0.080eV (T=619K)  Etot = 0.476eV\n",
      "Energy per atom: Epot = 0.382eV  Ekin = 0.095eV (T=733K)  Etot = 0.476eV\n",
      "Energy per atom: Epot = 0.385eV  Ekin = 0.118eV (T=913K)  Etot = 0.503eV\n",
      "Energy per atom: Epot = 0.421eV  Ekin = 0.105eV (T=810K)  Etot = 0.526eV\n",
      "Energy per atom: Epot = 0.413eV  Ekin = 0.127eV (T=981K)  Etot = 0.540eV\n",
      "Energy per atom: Epot = 0.424eV  Ekin = 0.113eV (T=873K)  Etot = 0.537eV\n",
      "Energy per atom: Epot = 0.390eV  Ekin = 0.143eV (T=1108K)  Etot = 0.534eV\n",
      "Energy per atom: Epot = 0.426eV  Ekin = 0.116eV (T=895K)  Etot = 0.541eV\n",
      "Energy per atom: Epot = 0.420eV  Ekin = 0.111eV (T=861K)  Etot = 0.532eV\n",
      "Energy per atom: Epot = 0.394eV  Ekin = 0.121eV (T=933K)  Etot = 0.514eV\n",
      "Energy per atom: Epot = 0.437eV  Ekin = 0.070eV (T=544K)  Etot = 0.507eV\n",
      "Energy per atom: Epot = 0.410eV  Ekin = 0.107eV (T=824K)  Etot = 0.516eV\n",
      "Energy per atom: Epot = 0.410eV  Ekin = 0.111eV (T=861K)  Etot = 0.521eV\n",
      "Energy per atom: Epot = 0.406eV  Ekin = 0.123eV (T=954K)  Etot = 0.529eV\n",
      "Energy per atom: Epot = 0.416eV  Ekin = 0.099eV (T=762K)  Etot = 0.515eV\n",
      "Energy per atom: Epot = 0.412eV  Ekin = 0.107eV (T=831K)  Etot = 0.519eV\n",
      "Energy per atom: Epot = 0.474eV  Ekin = 0.091eV (T=704K)  Etot = 0.565eV\n",
      "Energy per atom: Epot = 0.412eV  Ekin = 0.180eV (T=1390K)  Etot = 0.591eV\n",
      "Energy per atom: Epot = 0.442eV  Ekin = 0.126eV (T=973K)  Etot = 0.568eV\n",
      "Energy per atom: Epot = 0.440eV  Ekin = 0.121eV (T=939K)  Etot = 0.562eV\n",
      "Energy per atom: Epot = 0.441eV  Ekin = 0.110eV (T=850K)  Etot = 0.551eV\n"
     ]
    },
    {
     "data": {
      "text/plain": [
       "True"
      ]
     },
     "execution_count": 8,
     "metadata": {},
     "output_type": "execute_result"
    }
   ],
   "source": [
    "# Now run the dynamics\n",
    "dyn.attach(printenergy, interval=10)\n",
    "traj = Trajectory('moldyn_nvt.traj', 'w', atoms)\n",
    "dyn.attach(traj.write, interval=10)\n",
    "printenergy()\n",
    "dyn.run(200)"
   ]
  },
  {
   "cell_type": "markdown",
   "metadata": {},
   "source": [
    "Notice how as the calculation runs the total energy decreases? Why is this?\n",
    "\n",
    "Again, to visualise our results we can open the trajectory."
   ]
  },
  {
   "cell_type": "code",
   "execution_count": 9,
   "metadata": {},
   "outputs": [
    {
     "data": {
      "application/vnd.jupyter.widget-view+json": {
       "model_id": "bfd5376ce4d2417ca5eab695d872dcd8",
       "version_major": 2,
       "version_minor": 0
      },
      "text/plain": [
       "HBox(children=(NGLWidget(max_frame=20), VBox(children=(Dropdown(description='Show', options=('All', 'Pt', 'Cu'…"
      ]
     },
     "metadata": {},
     "output_type": "display_data"
    }
   ],
   "source": [
    "traj2 = Trajectory('moldyn_nvt.traj')\n",
    "view(traj2, viewer='ngl')"
   ]
  }
 ],
 "metadata": {
  "kernelspec": {
   "display_name": "Python 3",
   "language": "python",
   "name": "python3"
  },
  "language_info": {
   "codemirror_mode": {
    "name": "ipython",
    "version": 3
   },
   "file_extension": ".py",
   "mimetype": "text/x-python",
   "name": "python",
   "nbconvert_exporter": "python",
   "pygments_lexer": "ipython3",
   "version": "3.8.5"
  }
 },
 "nbformat": 4,
 "nbformat_minor": 4
}
