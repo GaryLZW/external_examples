{
 "cells": [
  {
   "cell_type": "markdown",
   "metadata": {},
   "source": [
    "**Molecular Dynamics: NVE**\n",
    "\n",
    "If we want to work at conditions beyond the athermal limit, we need to do dynamical simulations. Here, we use a technique called molecular dynamics, or MD.\n",
    "\n",
    "As previously, lets setup a surface and run some examples. First up, loading modules and building a surface for Cu:"
   ]
  },
  {
   "cell_type": "code",
   "execution_count": 1,
   "metadata": {},
   "outputs": [],
   "source": [
    "from ase.build import fcc111, add_adsorbate\n",
    "# Set up a (4 x 4) two layer slab of Cu:\n",
    "atoms = fcc111('Cu',size=(4,4,2))\n",
    "atoms.set_pbc((1,1,0))\n",
    "\n",
    "from ase import Atoms\n",
    "# Add the N2 molecule oriented at 60 degrees:\n",
    "d = 1.10 # N2 bond length\n",
    "N2mol = Atoms('N2',positions=[[0.0,0.0,0.0],[0.5*3**0.5*d,0.5*d,0.0]])\n",
    "add_adsorbate(atoms,N2mol,height=1.0,position='fcc')"
   ]
  },
  {
   "cell_type": "markdown",
   "metadata": {},
   "source": [
    "Now as usual lets assign the calcutor to the object:"
   ]
  },
  {
   "cell_type": "code",
   "execution_count": 2,
   "metadata": {},
   "outputs": [],
   "source": [
    "from ase.calculators.emt import EMT\n",
    "atoms.set_calculator(EMT())"
   ]
  },
  {
   "cell_type": "markdown",
   "metadata": {},
   "source": [
    "OK, now we need to think about our MD simulation. Let's initially run the calculatio at 300 K, using a Boltzmann distribution for the veolcities: "
   ]
  },
  {
   "cell_type": "code",
   "execution_count": 3,
   "metadata": {},
   "outputs": [],
   "source": [
    "from ase.md.velocitydistribution import MaxwellBoltzmannDistribution\n",
    "from ase import units\n",
    "# Set the momenta corresponding to T=300K\n",
    "T = 300\n",
    "MaxwellBoltzmannDistribution(atoms, T*units.kB)"
   ]
  },
  {
   "cell_type": "markdown",
   "metadata": {},
   "source": [
    "Next, lets setup an NVE calculation (remembering that NVE is constant mols, volume and energy):"
   ]
  },
  {
   "cell_type": "code",
   "execution_count": 4,
   "metadata": {},
   "outputs": [],
   "source": [
    "from ase.md.verlet import VelocityVerlet\n",
    "dyn = VelocityVerlet(atoms, 5 * units.fs)  # 5 fs time step."
   ]
  },
  {
   "cell_type": "markdown",
   "metadata": {},
   "source": [
    "Now we are going to run the calculation. We are going to use a helper function to print energies - don't worry about the code structure, this is just to help us see the results as the simulation progresses:"
   ]
  },
  {
   "cell_type": "code",
   "execution_count": 5,
   "metadata": {},
   "outputs": [
    {
     "name": "stdout",
     "output_type": "stream",
     "text": [
      "Energy per atom: Epot = 0.425eV  Ekin = 0.037eV (T=286K)  Etot = 0.462eV\n",
      "Energy per atom: Epot = 0.425eV  Ekin = 0.037eV (T=286K)  Etot = 0.462eV\n",
      "Energy per atom: Epot = 0.366eV  Ekin = 0.091eV (T=705K)  Etot = 0.457eV\n",
      "Energy per atom: Epot = 0.365eV  Ekin = 0.093eV (T=720K)  Etot = 0.458eV\n",
      "Energy per atom: Epot = 0.382eV  Ekin = 0.076eV (T=589K)  Etot = 0.458eV\n",
      "Energy per atom: Epot = 0.365eV  Ekin = 0.092eV (T=712K)  Etot = 0.457eV\n",
      "Energy per atom: Epot = 0.362eV  Ekin = 0.095eV (T=736K)  Etot = 0.457eV\n",
      "Energy per atom: Epot = 0.364eV  Ekin = 0.094eV (T=728K)  Etot = 0.458eV\n",
      "Energy per atom: Epot = 0.394eV  Ekin = 0.065eV (T=502K)  Etot = 0.459eV\n",
      "Energy per atom: Epot = 0.375eV  Ekin = 0.083eV (T=640K)  Etot = 0.457eV\n",
      "Energy per atom: Epot = 0.381eV  Ekin = 0.076eV (T=587K)  Etot = 0.457eV\n",
      "Energy per atom: Epot = 0.395eV  Ekin = 0.063eV (T=488K)  Etot = 0.458eV\n",
      "Energy per atom: Epot = 0.382eV  Ekin = 0.076eV (T=587K)  Etot = 0.458eV\n",
      "Energy per atom: Epot = 0.397eV  Ekin = 0.061eV (T=475K)  Etot = 0.458eV\n",
      "Energy per atom: Epot = 0.398eV  Ekin = 0.060eV (T=462K)  Etot = 0.458eV\n",
      "Energy per atom: Epot = 0.391eV  Ekin = 0.067eV (T=520K)  Etot = 0.458eV\n",
      "Energy per atom: Epot = 0.393eV  Ekin = 0.065eV (T=503K)  Etot = 0.458eV\n",
      "Energy per atom: Epot = 0.391eV  Ekin = 0.067eV (T=516K)  Etot = 0.458eV\n",
      "Energy per atom: Epot = 0.391eV  Ekin = 0.067eV (T=520K)  Etot = 0.458eV\n",
      "Energy per atom: Epot = 0.398eV  Ekin = 0.060eV (T=461K)  Etot = 0.458eV\n",
      "Energy per atom: Epot = 0.380eV  Ekin = 0.078eV (T=604K)  Etot = 0.458eV\n",
      "Energy per atom: Epot = 0.407eV  Ekin = 0.052eV (T=399K)  Etot = 0.458eV\n"
     ]
    },
    {
     "data": {
      "text/plain": [
       "True"
      ]
     },
     "execution_count": 5,
     "metadata": {},
     "output_type": "execute_result"
    }
   ],
   "source": [
    "def printenergy(a=atoms):  # store a reference to atoms in the definition.\n",
    "    \"\"\"Function to print the potential, kinetic and total energy.\"\"\"\n",
    "    epot = a.get_potential_energy() / len(a)\n",
    "    ekin = a.get_kinetic_energy() / len(a)\n",
    "    print('Energy per atom: Epot = %.3feV  Ekin = %.3feV (T=%3.0fK)  '\n",
    "          'Etot = %.3feV' % (epot, ekin, ekin / (1.5 * units.kB), epot + ekin))\n",
    "\n",
    "from ase.io.trajectory import Trajectory\n",
    "# Now run the dynamics\n",
    "dyn.attach(printenergy, interval=10)\n",
    "traj = Trajectory('moldyn_nve.traj', 'w', atoms)\n",
    "dyn.attach(traj.write, interval=10)\n",
    "printenergy()\n",
    "\n",
    "# Run for 200 steps, i.e. 200*5 fs = 1 ns\n",
    "dyn.run(200)"
   ]
  },
  {
   "cell_type": "markdown",
   "metadata": {},
   "source": [
    "Finally, once complete, lets visualise the system:"
   ]
  },
  {
   "cell_type": "code",
   "execution_count": 6,
   "metadata": {},
   "outputs": [
    {
     "name": "stderr",
     "output_type": "stream",
     "text": [
      "/Users/andrewlogsdail/Library/Python/3.8/lib/python/site-packages/ase/io/jsonio.py:122: VisibleDeprecationWarning: Creating an ndarray from ragged nested sequences (which is a list-or-tuple of lists-or-tuples-or ndarrays with different lengths or shapes) is deprecated. If you meant to do this, you must specify 'dtype=object' when creating the ndarray\n",
      "  a = np.array(obj)\n"
     ]
    }
   ],
   "source": [
    "from ase.visualize import view\n",
    "traj2 = Trajectory('moldyn_nve.traj')\n",
    "view(traj2) #ngl doesn't seem to work here, can only run locally!"
   ]
  },
  {
   "cell_type": "markdown",
   "metadata": {},
   "source": [
    "What is the behaviour of the system if you change the starting temperature, or the intial distribution of velocities? Alter the settings, rerun and see if your  data is as expected."
   ]
  },
  {
   "cell_type": "markdown",
   "metadata": {},
   "source": [
    "**Molecular Dynamics: NVT**\n",
    "\n",
    "As our final calculation, lets run an NVT simulation and compare the results to our NVE.\n",
    "\n",
    "We already have the settings and models loaded, so we can make use of this here and start our calculation from the end of the NVE simulation:"
   ]
  },
  {
   "cell_type": "code",
   "execution_count": 7,
   "metadata": {},
   "outputs": [],
   "source": [
    "from ase.md.langevin import Langevin\n",
    "dyn = Langevin(atoms, 5*units.fs, T*units.kB, 0.02)"
   ]
  },
  {
   "cell_type": "markdown",
   "metadata": {},
   "source": [
    "All we need to do now the algorithm is setup is to run the calculation again:"
   ]
  },
  {
   "cell_type": "code",
   "execution_count": 8,
   "metadata": {},
   "outputs": [
    {
     "name": "stdout",
     "output_type": "stream",
     "text": [
      "Energy per atom: Epot = 0.407eV  Ekin = 0.052eV (T=399K)  Etot = 0.458eV\n",
      "Energy per atom: Epot = 0.407eV  Ekin = 0.052eV (T=399K)  Etot = 0.458eV\n",
      "Energy per atom: Epot = 0.384eV  Ekin = 0.074eV (T=574K)  Etot = 0.458eV\n",
      "Energy per atom: Epot = 0.392eV  Ekin = 0.054eV (T=419K)  Etot = 0.447eV\n",
      "Energy per atom: Epot = 0.393eV  Ekin = 0.049eV (T=376K)  Etot = 0.441eV\n",
      "Energy per atom: Epot = 0.373eV  Ekin = 0.069eV (T=534K)  Etot = 0.442eV\n",
      "Energy per atom: Epot = 0.382eV  Ekin = 0.062eV (T=477K)  Etot = 0.443eV\n",
      "Energy per atom: Epot = 0.387eV  Ekin = 0.057eV (T=443K)  Etot = 0.444eV\n",
      "Energy per atom: Epot = 0.382eV  Ekin = 0.061eV (T=475K)  Etot = 0.443eV\n",
      "Energy per atom: Epot = 0.377eV  Ekin = 0.062eV (T=477K)  Etot = 0.438eV\n",
      "Energy per atom: Epot = 0.383eV  Ekin = 0.047eV (T=366K)  Etot = 0.430eV\n",
      "Energy per atom: Epot = 0.379eV  Ekin = 0.046eV (T=354K)  Etot = 0.425eV\n",
      "Energy per atom: Epot = 0.375eV  Ekin = 0.056eV (T=434K)  Etot = 0.431eV\n",
      "Energy per atom: Epot = 0.395eV  Ekin = 0.038eV (T=293K)  Etot = 0.433eV\n",
      "Energy per atom: Epot = 0.372eV  Ekin = 0.059eV (T=459K)  Etot = 0.431eV\n",
      "Energy per atom: Epot = 0.370eV  Ekin = 0.049eV (T=378K)  Etot = 0.418eV\n",
      "Energy per atom: Epot = 0.370eV  Ekin = 0.045eV (T=350K)  Etot = 0.415eV\n",
      "Energy per atom: Epot = 0.369eV  Ekin = 0.040eV (T=310K)  Etot = 0.409eV\n",
      "Energy per atom: Epot = 0.372eV  Ekin = 0.038eV (T=293K)  Etot = 0.410eV\n",
      "Energy per atom: Epot = 0.368eV  Ekin = 0.037eV (T=287K)  Etot = 0.405eV\n",
      "Energy per atom: Epot = 0.360eV  Ekin = 0.043eV (T=335K)  Etot = 0.403eV\n",
      "Energy per atom: Epot = 0.362eV  Ekin = 0.040eV (T=312K)  Etot = 0.402eV\n"
     ]
    },
    {
     "data": {
      "text/plain": [
       "True"
      ]
     },
     "execution_count": 8,
     "metadata": {},
     "output_type": "execute_result"
    }
   ],
   "source": [
    "# Now run the dynamics\n",
    "dyn.attach(printenergy, interval=10)\n",
    "traj = Trajectory('moldyn_nvt.traj', 'w', atoms)\n",
    "dyn.attach(traj.write, interval=10)\n",
    "printenergy()\n",
    "dyn.run(200)"
   ]
  },
  {
   "cell_type": "markdown",
   "metadata": {},
   "source": [
    "Notice how as the calculation runs the total energy decreases? Why is this?\n",
    "\n",
    "Again, to visualise our results we can open the trajectory ( though not with `ngl`, it seems :( )"
   ]
  },
  {
   "cell_type": "code",
   "execution_count": 10,
   "metadata": {},
   "outputs": [],
   "source": [
    "traj2 = Trajectory('moldyn_nvt.traj')\n",
    "view(traj2)"
   ]
  }
 ],
 "metadata": {
  "kernelspec": {
   "display_name": "Python 3",
   "language": "python",
   "name": "python3"
  },
  "language_info": {
   "codemirror_mode": {
    "name": "ipython",
    "version": 3
   },
   "file_extension": ".py",
   "mimetype": "text/x-python",
   "name": "python",
   "nbconvert_exporter": "python",
   "pygments_lexer": "ipython3",
   "version": "3.8.5"
  }
 },
 "nbformat": 4,
 "nbformat_minor": 4
}
