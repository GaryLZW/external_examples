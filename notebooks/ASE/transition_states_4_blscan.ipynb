{
 "cells": [
  {
   "cell_type": "markdown",
   "metadata": {},
   "source": [
    "# Calculating transition states - part 4\n",
    "\n",
    "Surface diffusion energy barriers using ASE constraints - *fixed plane* https://wiki.fysik.dtu.dk/ase/tutorials/constraints/diffusion.html\n",
    "\n",
    "Surface diffusion energy barriers using ASE constraints - *fixed bond lengths* \n",
    "\n",
    "Highly mobile adsorbates (e.g. H) on surfaces in periodic calculations can cause issues during NEB due to low metastability on neighbouring adsorption sites, which means that: i) MEP length is elongated ii) Energy landscape can be very complicated. To address this one can apply constraints in ASE on bond length between specific atoms. A function has been implemented in CARMM that helps to utilise this feature.\n",
    "\n",
    "Here let's try association, ie. reverse reaction and move Cu (atom index 19) closer and closer to the other Cu (atom index 18)."
   ]
  },
  {
   "cell_type": "code",
   "execution_count": null,
   "metadata": {},
   "outputs": [],
   "source": [
    "# BOND LENGTH SCAN - DISSOCIATION/ASSOCIATION\n",
    "from carmm.build.neb.bond_length_scan import dissociation\n",
    "from ase.io import read\n",
    "from ase.io import Trajectory\n",
    "import os\n",
    "import numpy as np\n",
    "\n",
    "# Read previously generated input structures. \n",
    "# Initial structure only used to retrieve Cu-Cu distance\n",
    "slab_initial = read(\"slab_initial.traj\")\n",
    "slab_final = read (\"slab_final.traj\")\n",
    "\n",
    "index1 = 18 # index of atom remaining in place (as part of molecule) \n",
    "index2 = 19 # index of atom dissociating/associationg\n",
    "\n",
    "distance_Cu_Cu = np.linalg.norm(slab_initial[index1].position - slab_initial[index2].position)\n",
    "\n",
    "atoms_list, distances = dissociation(slab_final, \n",
    "                                     index1, \n",
    "                                     index2, \n",
    "                                     n_steps = 7,\n",
    "                                     final_distance=distance_Cu_Cu,\n",
    "                                    #step_size=0.1, # only used if final_distance not set\n",
    "                                    #z_bias = False # can bias the z-coordinate to towards surface or set value\n",
    "                                    #group_move = None # can supply a list of atom indices to move as a group\n",
    "                                     )\n",
    "\n",
    "from ase.optimize import FIRE\n",
    "from ase.calculators.emt import EMT\n",
    "\n",
    "bl_scan = [slab_final] # list of all optimised structures will be generated\n",
    "\n",
    "for atoms in atoms_list:\n",
    "        # create naming scheme based on fixed Cu-Cu distance\n",
    "        a_a_dist = np.linalg.norm(atoms[index1].position - atoms[index2].position)\n",
    "\n",
    "        traj_name = \"{:.2f}\".format(a_a_dist) + \".traj\"\n",
    "        pckl_name = \"{:.2f}\".format(a_a_dist) + \".pckl\"\n",
    "        print(traj_name) # identify calculation in output\n",
    "        \n",
    "        # include functionality for restart \n",
    "        if not os.path.exists(traj_name):\n",
    "            pass\n",
    "        else:\n",
    "            atoms = read(traj_name)\n",
    "        \n",
    "        atoms.set_calculator(EMT())\n",
    "        \n",
    "        # optimise, include max steps for safety    \n",
    "        opt = FIRE(atoms, trajectory=traj_name,\n",
    "                   #restart=pckl_name\n",
    "                  )\n",
    "        opt.run(fmax=0.05)\n",
    "        \n",
    "        bl_scan += [atoms]\n",
    "\n",
    "traj = Trajectory(\"all_structures.traj\", 'w')\n",
    "traj.write(bl_scan)\n",
    "\n",
    "\n"
   ]
  },
  {
   "cell_type": "code",
   "execution_count": null,
   "metadata": {},
   "outputs": [],
   "source": [
    "from ase.visualize import view\n",
    "view(bl_scan)\n",
    "\n",
    "# Use the same tools as previously to analyse the output\n",
    "# ASE GUI and choose Tools --> NEB to see the plot\n",
    "\n",
    "import matplotlib.pyplot as plt\n",
    "from ase.neb import NEBTools\n",
    "from ase.io import read\n",
    "\n",
    "nebtools = NEBTools(bl_scan)\n",
    "\n",
    "# Get the calculated barrier and the energy change of the reaction.\n",
    "Ef, dE = nebtools.get_barrier()\n",
    "\n",
    "# Get the actual maximum force at this point in the simulation.\n",
    "max_force = nebtools.get_fmax()\n",
    "\n",
    "# Create a figure like that coming from ASE-GUI.\n",
    "fig = nebtools.plot_band()\n",
    "fig.savefig('barrier-bl_scan.png')"
   ]
  },
  {
   "cell_type": "markdown",
   "metadata": {},
   "source": [
    "No strict control over the overall xyz coordinate shift, hence the wonky shape. Notice the energy required for reverse reaction very similar to the one extracted via other methods"
   ]
  }
 ],
 "metadata": {
  "kernelspec": {
   "display_name": "Python 3",
   "language": "python",
   "name": "python3"
  },
  "language_info": {
   "codemirror_mode": {
    "name": "ipython",
    "version": 3
   },
   "file_extension": ".py",
   "mimetype": "text/x-python",
   "name": "python",
   "nbconvert_exporter": "python",
   "pygments_lexer": "ipython3",
   "version": "3.6.9"
  }
 },
 "nbformat": 4,
 "nbformat_minor": 4
}
