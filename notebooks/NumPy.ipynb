{
  "nbformat": 4,
  "nbformat_minor": 0,
  "metadata": {
    "colab": {
      "name": "NumPy.ipynb",
      "provenance": [],
      "collapsed_sections": [],
      "authorship_tag": "ABX9TyOU9vbIa2rrtgQ/dvJlzNJw",
      "include_colab_link": true
    },
    "kernelspec": {
      "name": "python3",
      "display_name": "Python 3"
    },
    "language_info": {
      "name": "python"
    }
  },
  "cells": [
    {
      "cell_type": "markdown",
      "metadata": {
        "id": "view-in-github",
        "colab_type": "text"
      },
      "source": [
        "<a href=\"https://colab.research.google.com/github/logsdail/external_examples/blob/master/notebooks/NumPy.ipynb\" target=\"_parent\"><img src=\"https://colab.research.google.com/assets/colab-badge.svg\" alt=\"Open In Colab\"/></a>"
      ]
    },
    {
      "cell_type": "code",
      "execution_count": null,
      "metadata": {
        "id": "ceTCTy7T8Whl"
      },
      "outputs": [],
      "source": [
        "import numpy as np"
      ]
    },
    {
      "cell_type": "code",
      "source": [
        "a = np.random.random((3,3))\n",
        "print (a.strides)\n",
        "print (a)\n",
        "print (a.flags)"
      ],
      "metadata": {
        "colab": {
          "base_uri": "https://localhost:8080/"
        },
        "id": "AlM21LlG8cRV",
        "outputId": "a0db67b5-a7cc-4953-b877-1e7a09bb93f1"
      },
      "execution_count": null,
      "outputs": [
        {
          "output_type": "stream",
          "name": "stdout",
          "text": [
            "(24, 8)\n",
            "[[0.83305468 0.72443056 0.7390224 ]\n",
            " [0.7636519  0.41924702 0.12148417]\n",
            " [0.49325928 0.76637842 0.04579925]]\n",
            "  C_CONTIGUOUS : True\n",
            "  F_CONTIGUOUS : False\n",
            "  OWNDATA : True\n",
            "  WRITEABLE : True\n",
            "  ALIGNED : True\n",
            "  WRITEBACKIFCOPY : False\n",
            "  UPDATEIFCOPY : False\n",
            "\n"
          ]
        }
      ]
    },
    {
      "cell_type": "code",
      "source": [
        "# Creating views\n",
        "b = a[1:, ::]\n",
        "print (b)\n",
        "print (b.flags)\n",
        "print (b.base)"
      ],
      "metadata": {
        "colab": {
          "base_uri": "https://localhost:8080/"
        },
        "id": "mpwlVgJ3DB8W",
        "outputId": "f5910210-1170-4081-a48f-b7432f0e6092"
      },
      "execution_count": null,
      "outputs": [
        {
          "output_type": "stream",
          "name": "stdout",
          "text": [
            "[[0.7636519  0.41924702 0.12148417]\n",
            " [0.49325928 0.76637842 0.04579925]]\n",
            "  C_CONTIGUOUS : True\n",
            "  F_CONTIGUOUS : False\n",
            "  OWNDATA : False\n",
            "  WRITEABLE : True\n",
            "  ALIGNED : True\n",
            "  WRITEBACKIFCOPY : False\n",
            "  UPDATEIFCOPY : False\n",
            "\n",
            "[[0.83305468 0.72443056 0.7390224 ]\n",
            " [0.7636519  0.41924702 0.12148417]\n",
            " [0.49325928 0.76637842 0.04579925]]\n"
          ]
        }
      ]
    },
    {
      "cell_type": "code",
      "source": [
        "b [0, 0] = 0\n",
        "print (a)"
      ],
      "metadata": {
        "colab": {
          "base_uri": "https://localhost:8080/"
        },
        "id": "umLdD6ye8gvX",
        "outputId": "6b06e6e7-5b4b-4367-f8ad-8e0ba3b2e5f6"
      },
      "execution_count": null,
      "outputs": [
        {
          "output_type": "stream",
          "name": "stdout",
          "text": [
            "[[0.83305468 0.72443056 0.7390224 ]\n",
            " [0.         0.41924702 0.12148417]\n",
            " [0.49325928 0.76637842 0.04579925]]\n"
          ]
        }
      ]
    },
    {
      "cell_type": "code",
      "source": [
        ""
      ],
      "metadata": {
        "id": "eLhB8pOd_uZi"
      },
      "execution_count": null,
      "outputs": []
    },
    {
      "cell_type": "markdown",
      "source": [
        "### Advanced indexing"
      ],
      "metadata": {
        "id": "ZFLdZokqFRY0"
      }
    },
    {
      "cell_type": "code",
      "source": [
        "a = np.random.random(9)\n",
        "print (a.flags)\n",
        "print (a.strides)\n"
      ],
      "metadata": {
        "colab": {
          "base_uri": "https://localhost:8080/"
        },
        "id": "JBVVSJjFFT0z",
        "outputId": "e16f9f57-079e-4d3c-b4de-2fc6c196b7ca"
      },
      "execution_count": null,
      "outputs": [
        {
          "output_type": "stream",
          "name": "stdout",
          "text": [
            "  C_CONTIGUOUS : True\n",
            "  F_CONTIGUOUS : True\n",
            "  OWNDATA : True\n",
            "  WRITEABLE : True\n",
            "  ALIGNED : True\n",
            "  WRITEBACKIFCOPY : False\n",
            "  UPDATEIFCOPY : False\n",
            "\n",
            "(8,)\n"
          ]
        }
      ]
    },
    {
      "cell_type": "code",
      "source": [
        "b = a[2:8:-2]\n",
        "print (b.flags)\n",
        "print (b.strides)\n",
        "print (b.base is None)"
      ],
      "metadata": {
        "colab": {
          "base_uri": "https://localhost:8080/"
        },
        "id": "ygIExpwkFVeD",
        "outputId": "1cd5c67d-2e1d-4b53-daa8-d4900adf0a6c"
      },
      "execution_count": null,
      "outputs": [
        {
          "output_type": "stream",
          "name": "stdout",
          "text": [
            "  C_CONTIGUOUS : True\n",
            "  F_CONTIGUOUS : True\n",
            "  OWNDATA : False\n",
            "  WRITEABLE : True\n",
            "  ALIGNED : True\n",
            "  WRITEBACKIFCOPY : False\n",
            "  UPDATEIFCOPY : False\n",
            "\n",
            "(8,)\n",
            "False\n"
          ]
        }
      ]
    },
    {
      "cell_type": "code",
      "source": [
        "b = a[ [2,2,5,2,3] ]\n",
        "print (b.flags)\n",
        "print (b.strides)\n",
        "print (b.base is None)"
      ],
      "metadata": {
        "colab": {
          "base_uri": "https://localhost:8080/"
        },
        "id": "ilhDshiVFaGj",
        "outputId": "2fa855c2-293a-4bd5-a27a-1b657dd0e6cc"
      },
      "execution_count": null,
      "outputs": [
        {
          "output_type": "stream",
          "name": "stdout",
          "text": [
            "  C_CONTIGUOUS : True\n",
            "  F_CONTIGUOUS : True\n",
            "  OWNDATA : True\n",
            "  WRITEABLE : True\n",
            "  ALIGNED : True\n",
            "  WRITEBACKIFCOPY : False\n",
            "  UPDATEIFCOPY : False\n",
            "\n",
            "(8,)\n",
            "True\n"
          ]
        }
      ]
    },
    {
      "cell_type": "code",
      "source": [
        "b = a[np.newaxis, :, np.newaxis]\n",
        "print (b.shape)\n",
        "print (b.flags)\n",
        "print (b.strides)\n",
        "print (b.base is None)"
      ],
      "metadata": {
        "colab": {
          "base_uri": "https://localhost:8080/"
        },
        "id": "skoYQchhIAGb",
        "outputId": "9bc20f24-04fd-4fc6-dfc4-a9702e26670f"
      },
      "execution_count": null,
      "outputs": [
        {
          "output_type": "stream",
          "name": "stdout",
          "text": [
            "(1, 9, 1)\n",
            "  C_CONTIGUOUS : True\n",
            "  F_CONTIGUOUS : True\n",
            "  OWNDATA : False\n",
            "  WRITEABLE : True\n",
            "  ALIGNED : True\n",
            "  WRITEBACKIFCOPY : False\n",
            "  UPDATEIFCOPY : False\n",
            "\n",
            "(0, 8, 0)\n",
            "False\n"
          ]
        }
      ]
    },
    {
      "cell_type": "code",
      "source": [
        ""
      ],
      "metadata": {
        "id": "-uYOONBdFs1S"
      },
      "execution_count": null,
      "outputs": []
    },
    {
      "cell_type": "markdown",
      "source": [
        "### uFuncs"
      ],
      "metadata": {
        "id": "dvqT6_IkDxI0"
      }
    },
    {
      "cell_type": "code",
      "source": [
        "a = np.array([1,2,3])\n",
        "b = np.array([3,2,1])\n",
        "print(a + b)\n",
        "print(a ** b)\n",
        "print(np.exp(a))"
      ],
      "metadata": {
        "colab": {
          "base_uri": "https://localhost:8080/"
        },
        "id": "bDL1g2DHD3X_",
        "outputId": "53dd8af2-daf8-436f-b86c-7a1af5542151"
      },
      "execution_count": null,
      "outputs": [
        {
          "output_type": "stream",
          "name": "stdout",
          "text": [
            "[4 4 4]\n",
            "[1 4 3]\n",
            "[ 2.71828183  7.3890561  20.08553692]\n"
          ]
        }
      ]
    },
    {
      "cell_type": "code",
      "source": [
        "a = np.arange(9).reshape((3,3))\n",
        "b = np.random.random((3,3))\n",
        "\n",
        "a + b\n"
      ],
      "metadata": {
        "colab": {
          "base_uri": "https://localhost:8080/"
        },
        "id": "PQ_-4clWD-kY",
        "outputId": "af0f6235-87b4-4db0-dd96-b8ce4190b130"
      },
      "execution_count": null,
      "outputs": [
        {
          "output_type": "execute_result",
          "data": {
            "text/plain": [
              "array([[0.83765215, 1.23205061, 2.52749184],\n",
              "       [3.04259634, 4.06560744, 5.69208598],\n",
              "       [6.67867256, 7.15571002, 8.25359563]])"
            ]
          },
          "metadata": {},
          "execution_count": 26
        }
      ]
    },
    {
      "cell_type": "markdown",
      "source": [
        "###Broadcasting"
      ],
      "metadata": {
        "id": "5D0JjyE4EXud"
      }
    },
    {
      "cell_type": "code",
      "source": [
        "a = np.arange(9).reshape((3,3))\n",
        "b = np.array([10, 20, 30, 40])\n",
        "a + b\n"
      ],
      "metadata": {
        "colab": {
          "base_uri": "https://localhost:8080/",
          "height": 198
        },
        "id": "96Odoe4nESLk",
        "outputId": "57715f85-8066-4a69-dd0e-f4e84d8b79a6"
      },
      "execution_count": null,
      "outputs": [
        {
          "output_type": "error",
          "ename": "ValueError",
          "evalue": "ignored",
          "traceback": [
            "\u001b[0;31m---------------------------------------------------------------------------\u001b[0m",
            "\u001b[0;31mValueError\u001b[0m                                Traceback (most recent call last)",
            "\u001b[0;32m<ipython-input-97-a98763b57c61>\u001b[0m in \u001b[0;36m<module>\u001b[0;34m()\u001b[0m\n\u001b[1;32m      1\u001b[0m \u001b[0ma\u001b[0m \u001b[0;34m=\u001b[0m \u001b[0mnp\u001b[0m\u001b[0;34m.\u001b[0m\u001b[0marange\u001b[0m\u001b[0;34m(\u001b[0m\u001b[0;36m9\u001b[0m\u001b[0;34m)\u001b[0m\u001b[0;34m.\u001b[0m\u001b[0mreshape\u001b[0m\u001b[0;34m(\u001b[0m\u001b[0;34m(\u001b[0m\u001b[0;36m3\u001b[0m\u001b[0;34m,\u001b[0m\u001b[0;36m3\u001b[0m\u001b[0;34m)\u001b[0m\u001b[0;34m)\u001b[0m\u001b[0;34m\u001b[0m\u001b[0;34m\u001b[0m\u001b[0m\n\u001b[1;32m      2\u001b[0m \u001b[0mb\u001b[0m \u001b[0;34m=\u001b[0m \u001b[0mnp\u001b[0m\u001b[0;34m.\u001b[0m\u001b[0marray\u001b[0m\u001b[0;34m(\u001b[0m\u001b[0;34m[\u001b[0m\u001b[0;36m10\u001b[0m\u001b[0;34m,\u001b[0m \u001b[0;36m20\u001b[0m\u001b[0;34m,\u001b[0m \u001b[0;36m30\u001b[0m\u001b[0;34m,\u001b[0m \u001b[0;36m40\u001b[0m\u001b[0;34m]\u001b[0m\u001b[0;34m)\u001b[0m\u001b[0;34m\u001b[0m\u001b[0;34m\u001b[0m\u001b[0m\n\u001b[0;32m----> 3\u001b[0;31m \u001b[0ma\u001b[0m \u001b[0;34m+\u001b[0m \u001b[0mb\u001b[0m\u001b[0;34m\u001b[0m\u001b[0;34m\u001b[0m\u001b[0m\n\u001b[0m",
            "\u001b[0;31mValueError\u001b[0m: operands could not be broadcast together with shapes (3,3) (4,) "
          ]
        }
      ]
    },
    {
      "cell_type": "code",
      "source": [
        "# From rigth to left:\n",
        "a = np.arange(9).reshape((3,3))\n",
        "b = np.array([10, 20, 30])\n",
        "print (a.shape, b.shape)\n",
        "print (a)\n",
        "print (b)\n",
        "c = a + b\n",
        "print (c.shape)\n",
        "print (c)"
      ],
      "metadata": {
        "colab": {
          "base_uri": "https://localhost:8080/"
        },
        "id": "QEi2FrR0EfSW",
        "outputId": "2f0c4822-689f-4d43-e27f-2f8d7f09b3f8"
      },
      "execution_count": null,
      "outputs": [
        {
          "output_type": "stream",
          "name": "stdout",
          "text": [
            "(3, 3) (3,)\n",
            "[[0 1 2]\n",
            " [3 4 5]\n",
            " [6 7 8]]\n",
            "[10 20 30]\n",
            "(3, 3)\n",
            "[[10 21 32]\n",
            " [13 24 35]\n",
            " [16 27 38]]\n"
          ]
        }
      ]
    },
    {
      "cell_type": "code",
      "source": [
        "bT = b.T\n",
        "print(bT.shape)\n",
        "d = a + bT\n",
        "print (d)"
      ],
      "metadata": {
        "colab": {
          "base_uri": "https://localhost:8080/"
        },
        "id": "nqFoBojNHTdi",
        "outputId": "7ca7719e-4cea-4ce1-a0da-c2d3376fc142"
      },
      "execution_count": null,
      "outputs": [
        {
          "output_type": "stream",
          "name": "stdout",
          "text": [
            "(3,)\n",
            "[[10 21 32]\n",
            " [13 24 35]\n",
            " [16 27 38]]\n"
          ]
        }
      ]
    },
    {
      "cell_type": "code",
      "source": [
        "bT = b[:, np.newaxis]\n",
        "print(bT.shape)\n",
        "d = a + bT\n",
        "print (d)"
      ],
      "metadata": {
        "colab": {
          "base_uri": "https://localhost:8080/"
        },
        "id": "9X4zUYrYIaWV",
        "outputId": "fde44994-aca3-4edd-b71d-966d0a396fc3"
      },
      "execution_count": null,
      "outputs": [
        {
          "output_type": "stream",
          "name": "stdout",
          "text": [
            "(3, 1)\n",
            "[[10 11 12]\n",
            " [23 24 25]\n",
            " [36 37 38]]\n"
          ]
        }
      ]
    },
    {
      "cell_type": "code",
      "source": [
        "x = np.arange(3)\n",
        "y = np.arange(4) * 10\n",
        "xv, yv = np.meshgrid(x, y, copy=False, indexing='ij')\n",
        "print (xv.shape, yv.shape)\n",
        "print (xv)\n",
        "print (yv)\n"
      ],
      "metadata": {
        "colab": {
          "base_uri": "https://localhost:8080/"
        },
        "id": "a9JyCfqxIiRE",
        "outputId": "64142dc1-b010-4cd6-f405-27fff0b646de"
      },
      "execution_count": null,
      "outputs": [
        {
          "output_type": "stream",
          "name": "stdout",
          "text": [
            "(3, 4) (3, 4)\n",
            "[[0 0 0 0]\n",
            " [1 1 1 1]\n",
            " [2 2 2 2]]\n",
            "[[ 0 10 20 30]\n",
            " [ 0 10 20 30]\n",
            " [ 0 10 20 30]]\n"
          ]
        }
      ]
    },
    {
      "cell_type": "code",
      "source": [
        "xv[0,0] = 999\n",
        "print (xv)"
      ],
      "metadata": {
        "colab": {
          "base_uri": "https://localhost:8080/"
        },
        "id": "CkMNZuJwZsiQ",
        "outputId": "b11b26ff-fb7e-46af-a985-97ddbef2975e"
      },
      "execution_count": null,
      "outputs": [
        {
          "output_type": "stream",
          "name": "stdout",
          "text": [
            "[[999 999 999 999]\n",
            " [  1   1   1   1]\n",
            " [  2   2   2   2]]\n"
          ]
        }
      ]
    },
    {
      "cell_type": "code",
      "source": [
        "# strides trick as copy=False\n",
        "print (xv.strides, yv.strides)\n",
        "print (xv.flags)\n",
        "print (\"Assign 9:\")\n",
        "xv[0,0] = 9\n",
        "print (xv)"
      ],
      "metadata": {
        "colab": {
          "base_uri": "https://localhost:8080/"
        },
        "id": "bHFLq1OmKvFr",
        "outputId": "a53672a2-317f-4794-d553-71d127132145"
      },
      "execution_count": null,
      "outputs": [
        {
          "output_type": "stream",
          "name": "stdout",
          "text": [
            "(8, 0) (0, 8)\n",
            "  C_CONTIGUOUS : False\n",
            "  F_CONTIGUOUS : False\n",
            "  OWNDATA : False\n",
            "  WRITEABLE : True\n",
            "  ALIGNED : True\n",
            "  WRITEBACKIFCOPY : False\n",
            "  UPDATEIFCOPY : False\n",
            "\n",
            "Assign 9:\n",
            "[[9 9 9 9]\n",
            " [1 1 1 1]\n",
            " [2 2 2 2]]\n"
          ]
        }
      ]
    },
    {
      "cell_type": "code",
      "source": [
        "x =np.arange(3)\n",
        "xv = x[:, np.newaxis]\n",
        "print (xv)\n",
        "print (xv.shape)\n",
        "print (xv.strides)\n",
        "\n",
        "xvv = np.lib.stride_tricks.as_strided(xv, shape=(3,4), strides=xv.strides)\n",
        "print (xvv)\n",
        "print (xvv.shape)\n",
        "print (xvv.strides)\n",
        "xvv[0,0] = 999\n",
        "print (x)"
      ],
      "metadata": {
        "colab": {
          "base_uri": "https://localhost:8080/"
        },
        "id": "jmJLCuJAKwnt",
        "outputId": "8a8c58c3-c822-4a7f-8c5a-e0dbea85df22"
      },
      "execution_count": null,
      "outputs": [
        {
          "output_type": "stream",
          "name": "stdout",
          "text": [
            "[[0]\n",
            " [1]\n",
            " [2]]\n",
            "(3, 1)\n",
            "(8, 0)\n",
            "[[0 0 0 0]\n",
            " [1 1 1 1]\n",
            " [2 2 2 2]]\n",
            "(3, 4)\n",
            "(8, 0)\n",
            "[999   1   2]\n"
          ]
        }
      ]
    },
    {
      "cell_type": "code",
      "source": [
        ""
      ],
      "metadata": {
        "id": "D7QecIEbK4rF"
      },
      "execution_count": null,
      "outputs": []
    },
    {
      "cell_type": "markdown",
      "source": [
        "### Outer method"
      ],
      "metadata": {
        "id": "Hj29aPsZNcem"
      }
    },
    {
      "cell_type": "code",
      "source": [
        "x = np.arange(3)\n",
        "y = np.arange(4) * 10\n",
        "np.add.outer(x,y)\n",
        "np.multiply.outer(x,y)"
      ],
      "metadata": {
        "colab": {
          "base_uri": "https://localhost:8080/"
        },
        "id": "SO5BhXlRNeVD",
        "outputId": "2756a4c6-62d4-45e3-97dc-71b1edea9df9"
      },
      "execution_count": null,
      "outputs": [
        {
          "output_type": "execute_result",
          "data": {
            "text/plain": [
              "array([[ 0, 10, 20, 30],\n",
              "       [ 1, 11, 21, 31],\n",
              "       [ 2, 12, 22, 32]])"
            ]
          },
          "metadata": {},
          "execution_count": 73
        }
      ]
    },
    {
      "cell_type": "code",
      "source": [
        ""
      ],
      "metadata": {
        "id": "QsfnR6L0Nz_J"
      },
      "execution_count": null,
      "outputs": []
    },
    {
      "cell_type": "markdown",
      "source": [
        "### Reduction\n"
      ],
      "metadata": {
        "id": "8L37OHeFO5SH"
      }
    },
    {
      "cell_type": "code",
      "source": [
        "t = np.random.random((10, 2, 3)) # trajectory[step, atom, coordinate]\n",
        "\n",
        "print (\"average position over time:\", np.mean(t, axis = 0 ).shape)\n",
        "print (\"trajectory of the center of mass:\", np.mean(t, axis = 1 ).shape)\n",
        "print (\"distances to the origin over time:\", np.linalg.norm(t, axis = 2 ).shape)\n",
        "\n"
      ],
      "metadata": {
        "colab": {
          "base_uri": "https://localhost:8080/"
        },
        "id": "rvTB0JncO7g9",
        "outputId": "205188f7-c888-4804-e923-a21732db0151"
      },
      "execution_count": null,
      "outputs": [
        {
          "output_type": "stream",
          "name": "stdout",
          "text": [
            "average position over time: (2, 3)\n",
            "trajectory of the center of mass: (10, 3)\n",
            "distances to the origin over time: (10, 2)\n"
          ]
        }
      ]
    },
    {
      "cell_type": "code",
      "source": [
        "print(np.mean(t, axis = 0 ))\n",
        "print( np.add.reduce(t, axis = 0) / t.shape[0]) "
      ],
      "metadata": {
        "colab": {
          "base_uri": "https://localhost:8080/"
        },
        "id": "EIibgmvLO-GP",
        "outputId": "ad050d71-6a28-4068-f47f-462df35a705f"
      },
      "execution_count": null,
      "outputs": [
        {
          "output_type": "stream",
          "name": "stdout",
          "text": [
            "[[0.33858068 0.4862304  0.43246406]\n",
            " [0.51373368 0.38522173 0.61884273]]\n",
            "[[0.33858068 0.4862304  0.43246406]\n",
            " [0.51373368 0.38522173 0.61884273]]\n"
          ]
        }
      ]
    },
    {
      "cell_type": "code",
      "source": [
        "a1 = np.linalg.norm(t, axis = 2 )\n",
        "a2 = np.add.reduce(t**2, axis = 2) ** 0.5\n",
        "print (a1)\n",
        "print (a2)"
      ],
      "metadata": {
        "colab": {
          "base_uri": "https://localhost:8080/"
        },
        "id": "czMdXUCdQJhF",
        "outputId": "f6be6c65-4f5a-4821-d724-90417f15978f"
      },
      "execution_count": null,
      "outputs": [
        {
          "output_type": "stream",
          "name": "stdout",
          "text": [
            "[[1.16780158 1.47328716]\n",
            " [0.82779632 0.959646  ]\n",
            " [1.0408013  0.97734402]\n",
            " [1.02345827 1.04891167]\n",
            " [0.55084593 1.38501892]\n",
            " [1.24378562 0.90277917]\n",
            " [0.63200693 1.3065471 ]\n",
            " [1.26174562 1.02385361]\n",
            " [0.92009422 0.42391272]\n",
            " [0.64273454 0.98212019]]\n",
            "[[1.16780158 1.47328716]\n",
            " [0.82779632 0.959646  ]\n",
            " [1.0408013  0.97734402]\n",
            " [1.02345827 1.04891167]\n",
            " [0.55084593 1.38501892]\n",
            " [1.24378562 0.90277917]\n",
            " [0.63200693 1.3065471 ]\n",
            " [1.26174562 1.02385361]\n",
            " [0.92009422 0.42391272]\n",
            " [0.64273454 0.98212019]]\n"
          ]
        }
      ]
    },
    {
      "cell_type": "code",
      "source": [
        "np.testing.assert_allclose(a1, a2 + 1e-6, rtol=1e-5, atol=1e-5 )"
      ],
      "metadata": {
        "id": "_Wa-DXfmQwS5"
      },
      "execution_count": null,
      "outputs": []
    },
    {
      "cell_type": "code",
      "source": [
        "a = np.random.random(9)\n",
        "\n",
        "b = []\n",
        "for x in a:\n",
        "  if  x > 10:\n",
        "    b.append(x)\n",
        "\n",
        "\n",
        "\n",
        "b = a[ a > 10 ]\n"
      ],
      "metadata": {
        "id": "EC_VKgFfRw47"
      },
      "execution_count": null,
      "outputs": []
    }
  ]
}