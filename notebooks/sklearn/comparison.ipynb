{
 "cells": [
  {
   "cell_type": "markdown",
   "metadata": {},
   "source": [
    "# Comparison of ML classifier methods\n",
    "\n",
    "Here we compare different methods from the `sklearn` package for supervised learning. We will discuss the differences in detail, but first let us load the wine data used in our introduction:"
   ]
  },
  {
   "cell_type": "code",
   "execution_count": 77,
   "metadata": {},
   "outputs": [],
   "source": [
    "import pandas as pd\n",
    "\n",
    "dataset_url = 'https://archive.ics.uci.edu/ml/machine-learning-databases/wine-quality/winequality-red.csv'\n",
    "data = pd.read_csv(dataset_url, sep=';')"
   ]
  },
  {
   "cell_type": "markdown",
   "metadata": {},
   "source": [
    "Once loaded, we must identify the information that we want to use as features and targets. \"Quality\", which is a non-continuous rating of the wine, is our target value and therefore is set as our y target. All other data is used in our fit. As quality is non-continuous, we will use \"classifier\" methods rather than \"regression\", which are for continuous features (e.g. acidity)\n",
    "\n",
    "Once the `x` and `y` data is confirmed, we can split the data into training and test sets using the `train_test_split` functionality of `sklearn`:"
   ]
  },
  {
   "cell_type": "code",
   "execution_count": 78,
   "metadata": {},
   "outputs": [],
   "source": [
    "y = data.quality\n",
    "x = data.drop('quality', axis=1) # Removes quality from data, provides all other features\n",
    "\n",
    "from sklearn.model_selection import train_test_split\n",
    "x_train, x_test, y_train, y_test = train_test_split(x, y, \n",
    "                                                    test_size=0.2, \n",
    "                                                    random_state=123, \n",
    "                                                    stratify=y)"
   ]
  },
  {
   "cell_type": "markdown",
   "metadata": {},
   "source": [
    "Finally before testing models, we need to stardise the data. We use a `StandardScaler()` to achieve this for the x-axis data:"
   ]
  },
  {
   "cell_type": "code",
   "execution_count": 79,
   "metadata": {},
   "outputs": [],
   "source": [
    "from sklearn import preprocessing\n",
    "scaler = preprocessing.StandardScaler().fit(x_train)\n",
    "# and now transform the data\n",
    "x_train_scaled = scaler.transform(x_train)\n",
    "x_test_scaled = scaler.transform(x_test)"
   ]
  },
  {
   "cell_type": "markdown",
   "metadata": {},
   "source": [
    "## Testing different models\n",
    "\n",
    "In order for us to compare ML models, we are going to implement a function that takes in the models, fits, tests and reports the outcome of each model. This is just to make our life easier in doing all the evaluations in this notebook. \n",
    "\n",
    "Note: We *have not* used a pipeline here for optimising parameters, but this should be incorporated if pursuing any of these methods for your own work."
   ]
  },
  {
   "cell_type": "code",
   "execution_count": 80,
   "metadata": {},
   "outputs": [],
   "source": [
    "def test_models(models, x_train_scaled, x_test_scaled, y_train, y_test):\n",
    "    for model in models:\n",
    "        model.fit(x_train_scaled, y_train)\n",
    "        pred = model.predict(x_test_scaled)\n",
    "        accuracy = (y_test == pred.astype(int)).value_counts()\n",
    "        print(type(model), accuracy[1]/(accuracy[0]+accuracy[1]))"
   ]
  },
  {
   "cell_type": "markdown",
   "metadata": {},
   "source": [
    "Our challenge now is that a full test of all classifiers would be quite exhaustive! All the options available are listed here: https://scikit-learn.org/stable/supervised_learning.html\n",
    "\n",
    "To help chose a classifier for your own tasks, I recommend reviewing this flowchart that will point you in the correct general direction: https://scikit-learn.org/stable/tutorial/machine_learning_map/index.html\n",
    "\n",
    "One of the absolutely key points is to identify if your data is continuous, in which case you need a `regression` tool, or if it is discontinuous, in which case you need a `classifier`: https://scikit-learn.org/stable/tutorial/basic/tutorial.html. In our case, quality is not continuous - it is integer categorisations - and therefore we need to use classifiers.\n",
    "\n",
    "### Regression\n",
    "\n",
    "The most simple models are statistical fits, starting with textbook `LinearRegression()`. `LogisticRegression()` performs well as it is designed to handle binary decisions, and it is fast to train, but note these are still non-ideal regression approaches. The `Ridge()` approaches incorporate methods for estimating unknown parameters to improve a linear fit, so the fit has a better starting guess. One good benefit is it prevents overfitting as new parameters are introduced."
   ]
  },
  {
   "cell_type": "code",
   "execution_count": 81,
   "metadata": {},
   "outputs": [
    {
     "name": "stdout",
     "output_type": "stream",
     "text": [
      "<class 'sklearn.linear_model._base.LinearRegression'> 0.459375\n",
      "<class 'sklearn.linear_model._logistic.LogisticRegression'> 0.5625\n",
      "<class 'sklearn.linear_model._ridge.Ridge'> 0.459375\n",
      "<class 'sklearn.linear_model._ridge.RidgeClassifier'> 0.553125\n"
     ]
    }
   ],
   "source": [
    "from sklearn.linear_model import LinearRegression, LogisticRegression \n",
    "from sklearn.linear_model import Ridge, RidgeClassifier\n",
    "LineR = LinearRegression()\n",
    "LogR = LogisticRegression(max_iter=1000) #Increased from default of 100\n",
    "RR = Ridge()\n",
    "RC = RidgeClassifier()\n",
    "test_models([LineR, LogR, RR, RC], x_train_scaled, x_test_scaled, y_train, y_test)"
   ]
  },
  {
   "cell_type": "markdown",
   "metadata": {},
   "source": [
    "### SVM\n",
    "\n",
    "Support vector machines (SVM) are popular in text-classification problems where very-high dimensional/features are normal. These methods are good with noise but memory and compute intense (and can't do probability estimates, only classification)"
   ]
  },
  {
   "cell_type": "code",
   "execution_count": 82,
   "metadata": {},
   "outputs": [
    {
     "name": "stdout",
     "output_type": "stream",
     "text": [
      "<class 'sklearn.svm._classes.SVC'> 0.615625\n"
     ]
    }
   ],
   "source": [
    "from sklearn.svm import SVC\n",
    "SVC = SVC()\n",
    "test_models([SVC], x_train_scaled, x_test_scaled, y_train, y_test)"
   ]
  },
  {
   "cell_type": "markdown",
   "metadata": {},
   "source": [
    "### SGD\n",
    "\n",
    "Stochastic gradient descent (SGD) is an approach to fit linear classifiers, so really is a linear model approach. It is popular for large scale and sparse problems such as text-classification."
   ]
  },
  {
   "cell_type": "code",
   "execution_count": 83,
   "metadata": {},
   "outputs": [
    {
     "name": "stdout",
     "output_type": "stream",
     "text": [
      "<class 'sklearn.linear_model._stochastic_gradient.SGDClassifier'> 0.584375\n"
     ]
    }
   ],
   "source": [
    "from sklearn.linear_model import SGDClassifier\n",
    "SGDC = SGDClassifier()\n",
    "test_models([SGDC], x_train_scaled, x_test_scaled, y_train, y_test)"
   ]
  },
  {
   "cell_type": "markdown",
   "metadata": {},
   "source": [
    "### K-nearest neighbors\n",
    "\n",
    "This is an instance-based learning model, where classification is determined from a proximity to other neighbor points. Performs poorly on large-dimensional problems."
   ]
  },
  {
   "cell_type": "code",
   "execution_count": 84,
   "metadata": {},
   "outputs": [
    {
     "name": "stdout",
     "output_type": "stream",
     "text": [
      "<class 'sklearn.neighbors._classification.KNeighborsClassifier'> 0.584375\n",
      "<class 'sklearn.neighbors._classification.RadiusNeighborsClassifier'> 0.49375\n"
     ]
    }
   ],
   "source": [
    "from sklearn.neighbors import KNeighborsClassifier, RadiusNeighborsClassifier\n",
    "KNC = KNeighborsClassifier()\n",
    "RNC = RadiusNeighborsClassifier(radius=5.0) #Increased from default of 1.0\n",
    "test_models([KNC, RNC], x_train_scaled, x_test_scaled, y_train, y_test)"
   ]
  },
  {
   "cell_type": "markdown",
   "metadata": {},
   "source": [
    "### Gaussian processes\n",
    "\n",
    "Predictions with Gaussians are probabilistic, so one can compute confidence values with this approach and decide if the value is accurately represented. These approaches require complete datasets and struggle with high dimensionality, say when the features > 20."
   ]
  },
  {
   "cell_type": "code",
   "execution_count": 85,
   "metadata": {},
   "outputs": [
    {
     "name": "stdout",
     "output_type": "stream",
     "text": [
      "<class 'sklearn.gaussian_process._gpc.GaussianProcessClassifier'> 0.615625\n"
     ]
    }
   ],
   "source": [
    "from sklearn.gaussian_process import GaussianProcessClassifier\n",
    "GPC = GaussianProcessClassifier()\n",
    "test_models([GPC], x_train_scaled, x_test_scaled, y_train, y_test)"
   ]
  },
  {
   "cell_type": "markdown",
   "metadata": {},
   "source": [
    "### Decision trees\n",
    "\n",
    "Decision trees do not have parameters but instead work by forming a tree for decision making (as the name suggests!). This makes them simple to understand but can get overly complex!"
   ]
  },
  {
   "cell_type": "code",
   "execution_count": 86,
   "metadata": {},
   "outputs": [
    {
     "name": "stdout",
     "output_type": "stream",
     "text": [
      "<class 'sklearn.tree._classes.DecisionTreeClassifier'> 0.6125\n"
     ]
    }
   ],
   "source": [
    "from sklearn.tree import DecisionTreeClassifier\n",
    "DTC = DecisionTreeClassifier()\n",
    "test_models([DTC], x_train_scaled, x_test_scaled, y_train, y_test)"
   ]
  },
  {
   "cell_type": "markdown",
   "metadata": {},
   "source": [
    "One nice aspect of the decision tree is it is relatively easy to see the decision tree and understand it:"
   ]
  },
  {
   "cell_type": "code",
   "execution_count": 87,
   "metadata": {},
   "outputs": [
    {
     "data": {
      "image/png": "[encoded data removed]",
      "text/plain": [
       "<Figure size 432x288 with 1 Axes>"
      ]
     },
     "metadata": {
      "needs_background": "light"
     },
     "output_type": "display_data"
    }
   ],
   "source": [
    "from sklearn.tree import plot_tree\n",
    "import matplotlib.pyplot as plt\n",
    "\n",
    "plt.figure()\n",
    "plot_tree(DTC)\n",
    "plt.show()"
   ]
  },
  {
   "cell_type": "markdown",
   "metadata": {},
   "source": [
    "### Ensemble approaches\n",
    "\n",
    "As can be expected, ensemble approaches bring together several ML estimators (models) in order to improve generalisability. There are two main approaches:\n",
    "- averaging methods (`BaggingClassifier()`, `RandomForestClassifier()`) that combine predictions for an average result, and\n",
    "- boosting methods (`AdaBoostClassifier()`, `GradientBoostingClassifier()`) that sequentially couples the estimators in order to reduce bias."
   ]
  },
  {
   "cell_type": "code",
   "execution_count": 88,
   "metadata": {},
   "outputs": [
    {
     "name": "stdout",
     "output_type": "stream",
     "text": [
      "<class 'sklearn.ensemble._bagging.BaggingClassifier'> 0.659375\n",
      "<class 'sklearn.ensemble._forest.RandomForestClassifier'> 0.690625\n",
      "<class 'sklearn.ensemble._weight_boosting.AdaBoostClassifier'> 0.515625\n",
      "<class 'sklearn.ensemble._gb.GradientBoostingClassifier'> 0.63125\n"
     ]
    }
   ],
   "source": [
    "from sklearn.ensemble import BaggingClassifier, RandomForestClassifier\n",
    "from sklearn.ensemble import AdaBoostClassifier, GradientBoostingClassifier\n",
    "BC = BaggingClassifier()\n",
    "RFC = RandomForestClassifier()\n",
    "ABC = AdaBoostClassifier()\n",
    "GBC = GradientBoostingClassifier()\n",
    "test_models([BC, RFC, ABC, GBC], x_train_scaled, x_test_scaled, y_train, y_test)"
   ]
  },
  {
   "cell_type": "markdown",
   "metadata": {},
   "source": [
    "### Neural networks\n",
    "\n",
    "Finally, for fun I have included the supervised neural networks approaches that are more regularly applied in deep-learning (unsupervised modelling). In short, these approaches learn a function of no predefined nature based on the training dataset. These approaches typically have many hyperparameters, as one can imagine given the model freedom!"
   ]
  },
  {
   "cell_type": "code",
   "execution_count": 89,
   "metadata": {},
   "outputs": [
    {
     "name": "stdout",
     "output_type": "stream",
     "text": [
      "<class 'sklearn.neural_network._multilayer_perceptron.MLPClassifier'> 0.596875\n"
     ]
    }
   ],
   "source": [
    "from sklearn.neural_network import MLPClassifier\n",
    "MLPC = MLPClassifier(max_iter=10000) #Increased from default of 200\n",
    "test_models([MLPC], x_train_scaled, x_test_scaled, y_train, y_test)"
   ]
  }
 ],
 "metadata": {
  "kernelspec": {
   "display_name": "Python 3",
   "language": "python",
   "name": "python3"
  },
  "language_info": {
   "codemirror_mode": {
    "name": "ipython",
    "version": 3
   },
   "file_extension": ".py",
   "mimetype": "text/x-python",
   "name": "python",
   "nbconvert_exporter": "python",
   "pygments_lexer": "ipython3",
   "version": "3.8.5"
  }
 },
 "nbformat": 4,
 "nbformat_minor": 4
}
