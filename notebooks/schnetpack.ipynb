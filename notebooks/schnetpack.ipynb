{
 "cells": [
  {
   "cell_type": "markdown",
   "metadata": {},
   "source": [
    "**Example use of Schnetpack for atomic forces**\n",
    "\n",
    "Taken from: https://schnetpack.readthedocs.io/en/stable/tutorials/tutorial_03_force_models.html\n",
    "\n",
    "First step: import relevant packages and create a working directory:"
   ]
  },
  {
   "cell_type": "code",
   "execution_count": 1,
   "metadata": {},
   "outputs": [],
   "source": [
    "import schnetpack as spk\n",
    "import os\n",
    "\n",
    "forcetut = './forcetut'\n",
    "if not os.path.exists(forcetut):\n",
    "    os.makedirs(forcetut)\n"
   ]
  },
  {
   "cell_type": "markdown",
   "metadata": {},
   "source": [
    "Now we have a directory called `forcetut`, we will download the internal `MD17` database from `SchNetPack`, which contains energy and forces for small molecules. \n",
    "\n",
    "Here we obtain information for ethanol:"
   ]
  },
  {
   "cell_type": "code",
   "execution_count": 2,
   "metadata": {},
   "outputs": [],
   "source": [
    "from schnetpack.datasets import MD17\n",
    "\n",
    "ethanol_data = MD17(os.path.join(forcetut,'ethanol.db'), molecule='ethanol')"
   ]
  },
  {
   "cell_type": "markdown",
   "metadata": {},
   "source": [
    "(For custom data, one needs to use the `AtomsData` class, ensuring that the properties names such as energy, force, etc. are consistent with SchNetPack's internal naming)\n",
    "\n",
    "Let's check what properties are in our database, by sampling the first `atoms` object (commensurate with an ASE `atoms` object):"
   ]
  },
  {
   "cell_type": "code",
   "execution_count": 3,
   "metadata": {},
   "outputs": [
    {
     "name": "stdout",
     "output_type": "stream",
     "text": [
      "Loaded properties:\n",
      " energy\n",
      " forces\n",
      " _atomic_numbers\n",
      " _positions\n",
      " _cell\n",
      " _neighbors\n",
      " _cell_offset\n",
      "\n"
     ]
    },
    {
     "name": "stderr",
     "output_type": "stream",
     "text": [
      "/usr/local/lib/python3.8/site-packages/schnetpack/data/atoms.py:327: UserWarning: The given NumPy array is not writeable, and PyTorch does not support non-writeable tensors. This means you can write to the underlying (supposedly non-writeable) NumPy array using the tensor. You may want to copy the array to protect its data or make it writeable before converting it to a tensor. This type of warning will be suppressed for the rest of this program. (Triggered internally at  ../torch/csrc/utils/tensor_numpy.cpp:141.)\n",
      "  properties[pname] = torch.FloatTensor(prop)\n",
      "/Users/andrewlogsdail/Library/Python/3.8/lib/python/site-packages/ase/atoms.py:920: VisibleDeprecationWarning: Use get_global_number_of_atoms() instead\n",
      "  warnings.warn('Use get_global_number_of_atoms() instead',\n"
     ]
    }
   ],
   "source": [
    "atoms, properties = ethanol_data.get_properties(0)\n",
    "\n",
    "print('Loaded properties:\\n', *['{:s}\\n'.format(i) for i in properties.keys()])"
   ]
  },
  {
   "cell_type": "markdown",
   "metadata": {},
   "source": [
    "We're interested in energy and forces for an atomic FF, and it's good to see they are included. Let's check there contents and shape:"
   ]
  },
  {
   "cell_type": "code",
   "execution_count": 4,
   "metadata": {},
   "outputs": [
    {
     "name": "stdout",
     "output_type": "stream",
     "text": [
      "Forces:\n",
      " tensor([[ 1.4517e+00,  6.0192e+00,  5.2068e-07],\n",
      "        [ 1.7953e+01, -5.1624e+00,  3.4900e-07],\n",
      "        [-4.0884e+00,  2.2590e+01,  3.3088e-06],\n",
      "        [-1.1416e+00, -9.7469e+00,  7.6473e+00],\n",
      "        [-1.1416e+00, -9.7469e+00, -7.6473e+00],\n",
      "        [-2.4821e+00,  4.9335e+00,  4.3700e+00],\n",
      "        [-2.4821e+00,  4.9335e+00, -4.3700e+00],\n",
      "        [-5.5148e+00, -3.0207e+00, -8.9093e-09],\n",
      "        [-2.4393e+00, -1.0838e+01, -6.0721e-08]])\n",
      "Shape:\n",
      " torch.Size([9, 3])\n"
     ]
    }
   ],
   "source": [
    "print('Forces:\\n', properties[MD17.forces])\n",
    "print('Shape:\\n', properties[MD17.forces].shape)"
   ]
  },
  {
   "cell_type": "markdown",
   "metadata": {},
   "source": [
    "i.e. there are 9 atoms, as we'd expect for ethanol. Great! (Note here that these are `PyTorch` tensors - effectively identical to `Numpy` arrays except can be transfered to other processing units)\n",
    "\n",
    "As the atoms object is in ASE form, we can view if we don't believe the molecule is actually ethanol:"
   ]
  },
  {
   "cell_type": "code",
   "execution_count": 5,
   "metadata": {},
   "outputs": [
    {
     "data": {
      "application/vnd.jupyter.widget-view+json": {
       "model_id": "175fd84fe4fe44debb0cea2c3a0e8ef1",
       "version_major": 2,
       "version_minor": 0
      },
      "text/plain": []
     },
     "metadata": {},
     "output_type": "display_data"
    },
    {
     "data": {
      "application/vnd.jupyter.widget-view+json": {
       "model_id": "dd299386f20c4d94a6cdb1a66725234b",
       "version_major": 2,
       "version_minor": 0
      },
      "text/plain": [
       "HBox(children=(NGLWidget(), VBox(children=(Dropdown(description='Show', options=('All', 'H', 'C', 'O'), value=…"
      ]
     },
     "metadata": {},
     "output_type": "display_data"
    }
   ],
   "source": [
    "from ase.visualize import view\n",
    "view(atoms, viewer='ngl')"
   ]
  },
  {
   "cell_type": "markdown",
   "metadata": {},
   "source": [
    "**Preparing data**\n",
    "\n",
    "Now we have gathered the data, we need to prepare for processing. The first step is splitting the data into groups for training and testing:"
   ]
  },
  {
   "cell_type": "code",
   "execution_count": 6,
   "metadata": {},
   "outputs": [],
   "source": [
    "train, val, test = spk.train_test_split(\n",
    "        data=ethanol_data,\n",
    "        num_train=1000,\n",
    "        num_val=500,\n",
    "        split_file=os.path.join(forcetut, \"split.npz\"),\n",
    "    )\n",
    "\n",
    "train_loader = spk.AtomsLoader(train, batch_size=100, shuffle=True)\n",
    "val_loader = spk.AtomsLoader(val, batch_size=100)"
   ]
  },
  {
   "cell_type": "markdown",
   "metadata": {},
   "source": [
    "Here we have created a training data set with 1000 entries (`train`), a validation set with 500 entries (`val`), and then all remaining data is used for testing (`test`). The indices of each set are stored in the `split.npz` file.\n",
    "\n",
    "After splitting, the data is loaded for training and validation. The `AtomsLoader` will take care of loading, shuffling, and batching the data during training and evaluation.\n",
    "\n",
    "At this point, it is perhaps useful to look of the statistics for e.g. the training set, as we will need to precondition (aka normalise) the data:"
   ]
  },
  {
   "cell_type": "code",
   "execution_count": 7,
   "metadata": {},
   "outputs": [
    {
     "name": "stderr",
     "output_type": "stream",
     "text": [
      "/Users/andrewlogsdail/Library/Python/3.8/lib/python/site-packages/ase/atoms.py:920: VisibleDeprecationWarning: Use get_global_number_of_atoms() instead\n",
      "  warnings.warn('Use get_global_number_of_atoms() instead',\n"
     ]
    },
    {
     "name": "stdout",
     "output_type": "stream",
     "text": [
      "Mean atomization energy / atom:       -10799.5449 [kcal/mol]\n",
      "Std. dev. atomization energy / atom:       0.4767 [kcal/mol]\n"
     ]
    }
   ],
   "source": [
    "means, stddevs = train_loader.get_statistics(\n",
    "    spk.datasets.MD17.energy, divide_by_atoms=True\n",
    ")\n",
    "\n",
    "print('Mean atomization energy / atom:      {:12.4f} [kcal/mol]'.format(means[MD17.energy][0]))\n",
    "print('Std. dev. atomization energy / atom: {:12.4f} [kcal/mol]'.format(stddevs[MD17.energy][0]))"
   ]
  },
  {
   "cell_type": "markdown",
   "metadata": {},
   "source": [
    "Note that we _only_ need to precondition with respect to energies, as the forces are derivatives of the energy and automatically capture scale. If configurations with differing atomic quantities or species were to be included in the testset, subtraction of the atomic reference energies would also be necessary (to normalise the data)."
   ]
  },
  {
   "cell_type": "markdown",
   "metadata": {},
   "source": [
    "**Building the model**\n",
    "\n",
    "Now we have the data prepared, we can start to make our NN model.\n",
    "\n",
    "Firstly, we need a representation for the atom-wise features (i.e. inter-connectivity descriptor), which is done with `SchNet`. Here we use 3 interaction layers, a 5 Angstrom cosine cutoff with pariwise distances expanded on 25 Gaussions and 128 atom-wise features and convolution filters. \n",
    "\n",
    "(I've no idea what varying these parameters does - someone should check these options, as they are key to accuracy of the NN)"
   ]
  },
  {
   "cell_type": "code",
   "execution_count": 8,
   "metadata": {},
   "outputs": [],
   "source": [
    "n_features = 128\n",
    "\n",
    "schnet = spk.representation.SchNet(\n",
    "    n_atom_basis=n_features,\n",
    "    n_filters=n_features,\n",
    "    n_gaussians=25,\n",
    "    n_interactions=3,\n",
    "    cutoff=5.,\n",
    "    cutoff_network=spk.nn.cutoff.CosineCutoff\n",
    ")"
   ]
  },
  {
   "cell_type": "markdown",
   "metadata": {},
   "source": [
    "We also need an output module for our observable of interest. This is the `AtomWise` object. We will predict the energy, and so precondition with the mean and standard deviation per atom. We also have the forces, which are the derivatives of the energy, so we can include this in the model. Since the forces are the negative of the gradient, `negative_dr` ensures that the correct relationship of these observables in enforced."
   ]
  },
  {
   "cell_type": "code",
   "execution_count": 9,
   "metadata": {},
   "outputs": [],
   "source": [
    "energy_model = spk.atomistic.Atomwise(\n",
    "    n_in=n_features,\n",
    "    property=MD17.energy,\n",
    "    mean=means[MD17.energy],\n",
    "    stddev=stddevs[MD17.energy],\n",
    "    derivative=MD17.forces,\n",
    "    negative_dr=True\n",
    ")"
   ]
  },
  {
   "cell_type": "markdown",
   "metadata": {},
   "source": [
    "Both models are then combined to an `AtomisticModel`"
   ]
  },
  {
   "cell_type": "code",
   "execution_count": 10,
   "metadata": {},
   "outputs": [],
   "source": [
    "model = spk.AtomisticModel(representation=schnet, \n",
    "                           output_modules=energy_model)"
   ]
  },
  {
   "cell_type": "markdown",
   "metadata": {},
   "source": [
    "**Training the model**\n",
    "\n",
    "When training a model, we need to define a loss function which tells us how good/bad our model is. A simple approach could be e.g. the mean squared error. In the current work, as we are also fitting to forces, we need to define a compound function with a bit more complexity (including a parameter to define the emphasis on energy or forces)\n",
    "\n",
    "See this page for the full details: https://schnetpack.readthedocs.io/en/stable/tutorials/tutorial_03_force_models.html#Training-the-model"
   ]
  },
  {
   "cell_type": "code",
   "execution_count": 11,
   "metadata": {},
   "outputs": [],
   "source": [
    "import torch\n",
    "\n",
    "# tradeoff\n",
    "rho_tradeoff = 0.1\n",
    "\n",
    "# loss function\n",
    "def loss(batch, result):\n",
    "    # compute the mean squared error on the energies\n",
    "    diff_energy = batch[MD17.energy]-result[MD17.energy]\n",
    "    err_sq_energy = torch.mean(diff_energy ** 2)\n",
    "\n",
    "    # compute the mean squared error on the forces\n",
    "    diff_forces = batch[MD17.forces]-result[MD17.forces]\n",
    "    err_sq_forces = torch.mean(diff_forces ** 2)\n",
    "\n",
    "    # build the combined loss function\n",
    "    err_sq = rho_tradeoff*err_sq_energy + (1-rho_tradeoff)*err_sq_forces\n",
    "\n",
    "    return err_sq"
   ]
  },
  {
   "cell_type": "markdown",
   "metadata": {},
   "source": [
    "We also need a method to optimise the model parameters on-the-fly, which is achieved using functionality from `PyTorch`."
   ]
  },
  {
   "cell_type": "code",
   "execution_count": 12,
   "metadata": {},
   "outputs": [],
   "source": [
    "from torch.optim import Adam\n",
    "\n",
    "# build optimizer\n",
    "optimizer = Adam(model.parameters(), lr=5e-4)"
   ]
  },
  {
   "cell_type": "markdown",
   "metadata": {},
   "source": [
    "Finally before training, we can define some `hooks` that are called during the training process. This is the same as an observer, and allows e.g. logging of the data (`CSVHook`), which in this case is MAE of energy and forces, and also enforcing learning rate schedules (`ReduceLROnPlateauHook`). In this example, we reduce the learning rate by 0.8 after 5 epochs (periods of learning) without improvement."
   ]
  },
  {
   "cell_type": "code",
   "execution_count": 13,
   "metadata": {},
   "outputs": [],
   "source": [
    "# before setting up the trainer, remove previous training checkpoints and logs\n",
    "%rm -rf ./forcetut/checkpoints\n",
    "%rm -rf ./forcetut/log.csv\n",
    "\n",
    "import schnetpack.train as trn\n",
    "\n",
    "# set up metrics\n",
    "metrics = [\n",
    "    spk.metrics.MeanAbsoluteError(MD17.energy),\n",
    "    spk.metrics.MeanAbsoluteError(MD17.forces)\n",
    "]\n",
    "\n",
    "# construct hooks\n",
    "hooks = [\n",
    "    trn.CSVHook(log_path=forcetut, metrics=metrics),\n",
    "    trn.ReduceLROnPlateauHook(\n",
    "        optimizer,\n",
    "        patience=5, factor=0.8, min_lr=1e-6,\n",
    "        stop_after_min=True\n",
    "    )\n",
    "]"
   ]
  },
  {
   "cell_type": "markdown",
   "metadata": {},
   "source": [
    "Now we have all the aspects we need: a `model`, a `hook`, a loss function, and optimizer, and training and validation data. We can then build the trainer."
   ]
  },
  {
   "cell_type": "code",
   "execution_count": 14,
   "metadata": {},
   "outputs": [],
   "source": [
    "trainer = trn.Trainer(\n",
    "    model_path=forcetut,\n",
    "    model=model,\n",
    "    hooks=hooks,\n",
    "    loss_fn=loss,\n",
    "    optimizer=optimizer,\n",
    "    train_loader=train_loader,\n",
    "    validation_loader=val_loader,\n",
    ")"
   ]
  },
  {
   "cell_type": "markdown",
   "metadata": {},
   "source": [
    "And then perform training, here for 10 steps (because of time and computation limitations) but in reality you'd want to run this until completion i.e. with `n_epochs` undefined."
   ]
  },
  {
   "cell_type": "code",
   "execution_count": 15,
   "metadata": {},
   "outputs": [],
   "source": [
    "# check if a GPU is available and use a CPU otherwise\n",
    "if torch.cuda.is_available():\n",
    "    device = \"cuda\"\n",
    "else:\n",
    "    device = \"cpu\"\n",
    "\n",
    "# determine number of epochs and train\n",
    "n_epochs = 10\n",
    "trainer.train(device=device, n_epochs=n_epochs)"
   ]
  },
  {
   "cell_type": "markdown",
   "metadata": {},
   "source": [
    "Thanks to the logging hook we included, we can review the progress of the training process by loading the CSV file and plotting MAEs. Here we just use `matplotlib` to make some nice graphs of the fitting progress."
   ]
  },
  {
   "cell_type": "code",
   "execution_count": 16,
   "metadata": {},
   "outputs": [
    {
     "name": "stdout",
     "output_type": "stream",
     "text": [
      "Validation MAE:\n",
      "    energy:      2.089 kcal/mol\n",
      "    forces:      5.021 kcal/mol/Å\n"
     ]
    },
    {
     "data": {
      "image/png": "[encoded data removed]",
      "text/plain": [
       "<Figure size 1008x360 with 2 Axes>"
      ]
     },
     "metadata": {
      "needs_background": "light"
     },
     "output_type": "display_data"
    }
   ],
   "source": [
    "import numpy as np\n",
    "import matplotlib.pyplot as plt\n",
    "from ase.units import kcal, mol\n",
    "\n",
    "# Load logged results\n",
    "results = np.loadtxt(os.path.join(forcetut, 'log.csv'), skiprows=1, delimiter=',')\n",
    "\n",
    "# Determine time axis\n",
    "time = results[:,0]-results[0,0]\n",
    "\n",
    "# Load the validation MAEs\n",
    "energy_mae = results[:,4]\n",
    "forces_mae = results[:,5]\n",
    "\n",
    "# Get final validation errors\n",
    "print('Validation MAE:')\n",
    "print('    energy: {:10.3f} kcal/mol'.format(energy_mae[-1]))\n",
    "print('    forces: {:10.3f} kcal/mol/\\u212B'.format(forces_mae[-1]))\n",
    "\n",
    "# Construct figure\n",
    "plt.figure(figsize=(14,5))\n",
    "\n",
    "# Plot energies\n",
    "plt.subplot(1,2,1)\n",
    "plt.plot(time, energy_mae)\n",
    "plt.title('Energy')\n",
    "plt.ylabel('MAE [kcal/mol]')\n",
    "plt.xlabel('Time [s]')\n",
    "\n",
    "# Plot forces\n",
    "plt.subplot(1,2,2)\n",
    "plt.plot(time, forces_mae)\n",
    "plt.title('Forces')\n",
    "plt.ylabel('MAE [kcal/mol/\\u212B]')\n",
    "plt.xlabel('Time [s]')\n",
    "\n",
    "plt.show()"
   ]
  },
  {
   "cell_type": "markdown",
   "metadata": {},
   "source": [
    "**Using the model**\n",
    "\n",
    "Once fitted, we want to start using our NN model! The best model is stored within a file called `best_model`, which we can read with the `PyTorch` functionality for loading models."
   ]
  },
  {
   "cell_type": "code",
   "execution_count": 17,
   "metadata": {},
   "outputs": [],
   "source": [
    "best_model = torch.load(os.path.join(forcetut, 'best_model'))"
   ]
  },
  {
   "cell_type": "markdown",
   "metadata": {},
   "source": [
    "Now remember when we split the data into training, validation and testing sets? We want to now use the remaining models for testing.\n",
    "\n",
    "As for `train` and `val`, firstly we need to create an AtomsLoader to manage the load/manipulation of the testing data. We'll then iteratively load the data, make predictions with the `best_model` and compare those to the _actual_ values, and store the errors for reporting. \n",
    "\n",
    "(Be warned MD17 is a big dataset, so this may take some time!)"
   ]
  },
  {
   "cell_type": "code",
   "execution_count": 18,
   "metadata": {},
   "outputs": [
    {
     "name": "stderr",
     "output_type": "stream",
     "text": [
      "/Users/andrewlogsdail/Library/Python/3.8/lib/python/site-packages/ase/atoms.py:920: VisibleDeprecationWarning: Use get_global_number_of_atoms() instead\n",
      "  warnings.warn('Use get_global_number_of_atoms() instead',\n"
     ]
    },
    {
     "name": "stdout",
     "output_type": "stream",
     "text": [
      "Progress: 99.98%\n",
      "Test MAE:\n",
      "    energy:      2.045 kcal/mol\n",
      "    forces:      5.095 kcal/mol/Å\n"
     ]
    }
   ],
   "source": [
    "test_loader = spk.AtomsLoader(test, batch_size=100)\n",
    "\n",
    "energy_error = 0.0\n",
    "forces_error = 0.0\n",
    "\n",
    "for count, batch in enumerate(test_loader):\n",
    "    # move batch to GPU, if necessary\n",
    "    batch = {k: v.to(device) for k, v in batch.items()}\n",
    "\n",
    "    # apply model\n",
    "    pred = best_model(batch)\n",
    "\n",
    "    # calculate absolute error of energies\n",
    "    tmp_energy = torch.sum(torch.abs(pred[MD17.energy] - \n",
    "                                     batch[MD17.energy]))\n",
    "    tmp_energy = tmp_energy.detach().cpu().numpy() # detach from graph & convert to numpy\n",
    "    energy_error += tmp_energy\n",
    "\n",
    "    # calculate absolute error of forces, where we compute the mean over the n_atoms x 3 dimensions\n",
    "    tmp_forces = torch.sum(\n",
    "        torch.mean(torch.abs(pred[MD17.forces] - \n",
    "                             batch[MD17.forces]), dim=(1,2))\n",
    "    )\n",
    "    tmp_forces = tmp_forces.detach().cpu().numpy() # detach from graph & convert to numpy\n",
    "    forces_error += tmp_forces\n",
    "\n",
    "    # log progress\n",
    "    percent = '{:3.2f}'.format(count/len(test_loader)*100)\n",
    "    print('Progress:', percent+'%'+' '*(5-len(percent)), end=\"\\r\")\n",
    "\n",
    "energy_error /= len(test)\n",
    "forces_error /= len(test)\n",
    "\n",
    "print('\\nTest MAE:')\n",
    "print('    energy: {:10.3f} kcal/mol'.format(energy_error))\n",
    "print('    forces: {:10.3f} kcal/mol/\\u212B'.format(forces_error))"
   ]
  },
  {
   "cell_type": "markdown",
   "metadata": {},
   "source": [
    "If the data to feed into the testing is not in SchNetPack form, but alternatively as ASE atoms objects, one can use the `AtomsConverter` object to support translation. \n",
    "\n",
    "One can also use the `SpkCalculator` as an interface to ASE:"
   ]
  },
  {
   "cell_type": "code",
   "execution_count": 19,
   "metadata": {},
   "outputs": [
    {
     "name": "stdout",
     "output_type": "stream",
     "text": [
      "Prediction:\n",
      "energy: [-4215.2197]\n",
      "forces: [[-1.08195335e-01  5.57995915e-01 -4.13552328e-07]\n",
      " [ 4.52878654e-01 -3.00981879e-01 -2.84317228e-08]\n",
      " [ 2.08917528e-01  5.36691725e-01 -1.03388080e-08]\n",
      " [-9.04941186e-02 -4.35632199e-01  3.09391230e-01]\n",
      " [-9.04941261e-02 -4.35631722e-01 -3.09391409e-01]\n",
      " [-1.10555418e-01  1.77823618e-01  1.85089976e-01]\n",
      " [-1.10555314e-01  1.77823618e-01 -1.85090140e-01]\n",
      " [-3.90917271e-01 -1.09809227e-01  4.65246366e-08]\n",
      " [ 2.39415199e-01 -1.68280348e-01  2.26161423e-09]]\n"
     ]
    }
   ],
   "source": [
    "calculator = spk.interfaces.SpkCalculator(\n",
    "    model=best_model,\n",
    "    device=device,\n",
    "    energy=MD17.energy,\n",
    "    forces=MD17.forces,\n",
    "    energy_units='kcal/mol',\n",
    "    forces_units='kcal/mol/A'\n",
    ")\n",
    "\n",
    "atoms.set_calculator(calculator)\n",
    "\n",
    "print('Prediction:')\n",
    "print('energy:', atoms.get_total_energy())\n",
    "print('forces:', atoms.get_forces())"
   ]
  },
  {
   "cell_type": "markdown",
   "metadata": {},
   "source": [
    "It is important to note that the energy units of ASE are eV and eV/Angstrom, so conversion between kcal/mol is necessary in this particular case (There is no reason to be limited to kcal/mol, it is just specific to the MD17 dataset). This change is applied by setting `energy_units` and `forces_units`.\n",
    "\n",
    "From here, one can do standard calculations of e.g. geometry optimisation, vibrations, stress and molecular dynamics, using ASE functionality."
   ]
  }
 ],
 "metadata": {
  "kernelspec": {
   "display_name": "Python 3",
   "language": "python",
   "name": "python3"
  },
  "language_info": {
   "codemirror_mode": {
    "name": "ipython",
    "version": 3
   },
   "file_extension": ".py",
   "mimetype": "text/x-python",
   "name": "python",
   "nbconvert_exporter": "python",
   "pygments_lexer": "ipython3",
   "version": "3.8.5"
  }
 },
 "nbformat": 4,
 "nbformat_minor": 4
}
